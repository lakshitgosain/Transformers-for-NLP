{
  "nbformat": 4,
  "nbformat_minor": 0,
  "metadata": {
    "colab": {
      "provenance": [],
      "gpuType": "T4",
      "authorship_tag": "ABX9TyPe2rsfMKPHmWH17jxMnbwN",
      "include_colab_link": true
    },
    "kernelspec": {
      "name": "python3",
      "display_name": "Python 3"
    },
    "language_info": {
      "name": "python"
    },
    "accelerator": "GPU",
    "widgets": {
      "application/vnd.jupyter.widget-state+json": {
        "a3af4eadd0cd4f5fa68c5a38a395940b": {
          "model_module": "@jupyter-widgets/controls",
          "model_name": "HBoxModel",
          "model_module_version": "1.5.0",
          "state": {
            "_dom_classes": [],
            "_model_module": "@jupyter-widgets/controls",
            "_model_module_version": "1.5.0",
            "_model_name": "HBoxModel",
            "_view_count": null,
            "_view_module": "@jupyter-widgets/controls",
            "_view_module_version": "1.5.0",
            "_view_name": "HBoxView",
            "box_style": "",
            "children": [
              "IPY_MODEL_01732a5ec785414dbf31aac1d2dee7ea",
              "IPY_MODEL_68e080de819b448a928fe611ed95cac5",
              "IPY_MODEL_166a75e1d82d4760a8be9acc98d72efe"
            ],
            "layout": "IPY_MODEL_1e4a946ba3934ba8a11fe911ff0af9a5"
          }
        },
        "01732a5ec785414dbf31aac1d2dee7ea": {
          "model_module": "@jupyter-widgets/controls",
          "model_name": "HTMLModel",
          "model_module_version": "1.5.0",
          "state": {
            "_dom_classes": [],
            "_model_module": "@jupyter-widgets/controls",
            "_model_module_version": "1.5.0",
            "_model_name": "HTMLModel",
            "_view_count": null,
            "_view_module": "@jupyter-widgets/controls",
            "_view_module_version": "1.5.0",
            "_view_name": "HTMLView",
            "description": "",
            "description_tooltip": null,
            "layout": "IPY_MODEL_b9fee2b698b14d319df2b33a10df67d1",
            "placeholder": "​",
            "style": "IPY_MODEL_801327631a274a74a405a448c0e48aac",
            "value": "Downloading builder script: 100%"
          }
        },
        "68e080de819b448a928fe611ed95cac5": {
          "model_module": "@jupyter-widgets/controls",
          "model_name": "FloatProgressModel",
          "model_module_version": "1.5.0",
          "state": {
            "_dom_classes": [],
            "_model_module": "@jupyter-widgets/controls",
            "_model_module_version": "1.5.0",
            "_model_name": "FloatProgressModel",
            "_view_count": null,
            "_view_module": "@jupyter-widgets/controls",
            "_view_module_version": "1.5.0",
            "_view_name": "ProgressView",
            "bar_style": "success",
            "description": "",
            "description_tooltip": null,
            "layout": "IPY_MODEL_b66494ceb20f499a9cac3ae238f0684a",
            "max": 5274,
            "min": 0,
            "orientation": "horizontal",
            "style": "IPY_MODEL_8fcf3067ec684c939335a4f9d475b1aa",
            "value": 5274
          }
        },
        "166a75e1d82d4760a8be9acc98d72efe": {
          "model_module": "@jupyter-widgets/controls",
          "model_name": "HTMLModel",
          "model_module_version": "1.5.0",
          "state": {
            "_dom_classes": [],
            "_model_module": "@jupyter-widgets/controls",
            "_model_module_version": "1.5.0",
            "_model_name": "HTMLModel",
            "_view_count": null,
            "_view_module": "@jupyter-widgets/controls",
            "_view_module_version": "1.5.0",
            "_view_name": "HTMLView",
            "description": "",
            "description_tooltip": null,
            "layout": "IPY_MODEL_83cf89d3cba140b1a3c60e1c3362a279",
            "placeholder": "​",
            "style": "IPY_MODEL_cbecd60d2c104a4e87525c057b7c4992",
            "value": " 5.27k/5.27k [00:00&lt;00:00, 295kB/s]"
          }
        },
        "1e4a946ba3934ba8a11fe911ff0af9a5": {
          "model_module": "@jupyter-widgets/base",
          "model_name": "LayoutModel",
          "model_module_version": "1.2.0",
          "state": {
            "_model_module": "@jupyter-widgets/base",
            "_model_module_version": "1.2.0",
            "_model_name": "LayoutModel",
            "_view_count": null,
            "_view_module": "@jupyter-widgets/base",
            "_view_module_version": "1.2.0",
            "_view_name": "LayoutView",
            "align_content": null,
            "align_items": null,
            "align_self": null,
            "border": null,
            "bottom": null,
            "display": null,
            "flex": null,
            "flex_flow": null,
            "grid_area": null,
            "grid_auto_columns": null,
            "grid_auto_flow": null,
            "grid_auto_rows": null,
            "grid_column": null,
            "grid_gap": null,
            "grid_row": null,
            "grid_template_areas": null,
            "grid_template_columns": null,
            "grid_template_rows": null,
            "height": null,
            "justify_content": null,
            "justify_items": null,
            "left": null,
            "margin": null,
            "max_height": null,
            "max_width": null,
            "min_height": null,
            "min_width": null,
            "object_fit": null,
            "object_position": null,
            "order": null,
            "overflow": null,
            "overflow_x": null,
            "overflow_y": null,
            "padding": null,
            "right": null,
            "top": null,
            "visibility": null,
            "width": null
          }
        },
        "b9fee2b698b14d319df2b33a10df67d1": {
          "model_module": "@jupyter-widgets/base",
          "model_name": "LayoutModel",
          "model_module_version": "1.2.0",
          "state": {
            "_model_module": "@jupyter-widgets/base",
            "_model_module_version": "1.2.0",
            "_model_name": "LayoutModel",
            "_view_count": null,
            "_view_module": "@jupyter-widgets/base",
            "_view_module_version": "1.2.0",
            "_view_name": "LayoutView",
            "align_content": null,
            "align_items": null,
            "align_self": null,
            "border": null,
            "bottom": null,
            "display": null,
            "flex": null,
            "flex_flow": null,
            "grid_area": null,
            "grid_auto_columns": null,
            "grid_auto_flow": null,
            "grid_auto_rows": null,
            "grid_column": null,
            "grid_gap": null,
            "grid_row": null,
            "grid_template_areas": null,
            "grid_template_columns": null,
            "grid_template_rows": null,
            "height": null,
            "justify_content": null,
            "justify_items": null,
            "left": null,
            "margin": null,
            "max_height": null,
            "max_width": null,
            "min_height": null,
            "min_width": null,
            "object_fit": null,
            "object_position": null,
            "order": null,
            "overflow": null,
            "overflow_x": null,
            "overflow_y": null,
            "padding": null,
            "right": null,
            "top": null,
            "visibility": null,
            "width": null
          }
        },
        "801327631a274a74a405a448c0e48aac": {
          "model_module": "@jupyter-widgets/controls",
          "model_name": "DescriptionStyleModel",
          "model_module_version": "1.5.0",
          "state": {
            "_model_module": "@jupyter-widgets/controls",
            "_model_module_version": "1.5.0",
            "_model_name": "DescriptionStyleModel",
            "_view_count": null,
            "_view_module": "@jupyter-widgets/base",
            "_view_module_version": "1.2.0",
            "_view_name": "StyleView",
            "description_width": ""
          }
        },
        "b66494ceb20f499a9cac3ae238f0684a": {
          "model_module": "@jupyter-widgets/base",
          "model_name": "LayoutModel",
          "model_module_version": "1.2.0",
          "state": {
            "_model_module": "@jupyter-widgets/base",
            "_model_module_version": "1.2.0",
            "_model_name": "LayoutModel",
            "_view_count": null,
            "_view_module": "@jupyter-widgets/base",
            "_view_module_version": "1.2.0",
            "_view_name": "LayoutView",
            "align_content": null,
            "align_items": null,
            "align_self": null,
            "border": null,
            "bottom": null,
            "display": null,
            "flex": null,
            "flex_flow": null,
            "grid_area": null,
            "grid_auto_columns": null,
            "grid_auto_flow": null,
            "grid_auto_rows": null,
            "grid_column": null,
            "grid_gap": null,
            "grid_row": null,
            "grid_template_areas": null,
            "grid_template_columns": null,
            "grid_template_rows": null,
            "height": null,
            "justify_content": null,
            "justify_items": null,
            "left": null,
            "margin": null,
            "max_height": null,
            "max_width": null,
            "min_height": null,
            "min_width": null,
            "object_fit": null,
            "object_position": null,
            "order": null,
            "overflow": null,
            "overflow_x": null,
            "overflow_y": null,
            "padding": null,
            "right": null,
            "top": null,
            "visibility": null,
            "width": null
          }
        },
        "8fcf3067ec684c939335a4f9d475b1aa": {
          "model_module": "@jupyter-widgets/controls",
          "model_name": "ProgressStyleModel",
          "model_module_version": "1.5.0",
          "state": {
            "_model_module": "@jupyter-widgets/controls",
            "_model_module_version": "1.5.0",
            "_model_name": "ProgressStyleModel",
            "_view_count": null,
            "_view_module": "@jupyter-widgets/base",
            "_view_module_version": "1.2.0",
            "_view_name": "StyleView",
            "bar_color": null,
            "description_width": ""
          }
        },
        "83cf89d3cba140b1a3c60e1c3362a279": {
          "model_module": "@jupyter-widgets/base",
          "model_name": "LayoutModel",
          "model_module_version": "1.2.0",
          "state": {
            "_model_module": "@jupyter-widgets/base",
            "_model_module_version": "1.2.0",
            "_model_name": "LayoutModel",
            "_view_count": null,
            "_view_module": "@jupyter-widgets/base",
            "_view_module_version": "1.2.0",
            "_view_name": "LayoutView",
            "align_content": null,
            "align_items": null,
            "align_self": null,
            "border": null,
            "bottom": null,
            "display": null,
            "flex": null,
            "flex_flow": null,
            "grid_area": null,
            "grid_auto_columns": null,
            "grid_auto_flow": null,
            "grid_auto_rows": null,
            "grid_column": null,
            "grid_gap": null,
            "grid_row": null,
            "grid_template_areas": null,
            "grid_template_columns": null,
            "grid_template_rows": null,
            "height": null,
            "justify_content": null,
            "justify_items": null,
            "left": null,
            "margin": null,
            "max_height": null,
            "max_width": null,
            "min_height": null,
            "min_width": null,
            "object_fit": null,
            "object_position": null,
            "order": null,
            "overflow": null,
            "overflow_x": null,
            "overflow_y": null,
            "padding": null,
            "right": null,
            "top": null,
            "visibility": null,
            "width": null
          }
        },
        "cbecd60d2c104a4e87525c057b7c4992": {
          "model_module": "@jupyter-widgets/controls",
          "model_name": "DescriptionStyleModel",
          "model_module_version": "1.5.0",
          "state": {
            "_model_module": "@jupyter-widgets/controls",
            "_model_module_version": "1.5.0",
            "_model_name": "DescriptionStyleModel",
            "_view_count": null,
            "_view_module": "@jupyter-widgets/base",
            "_view_module_version": "1.2.0",
            "_view_name": "StyleView",
            "description_width": ""
          }
        },
        "ed620ac78a6647538090dd66c2bc392d": {
          "model_module": "@jupyter-widgets/controls",
          "model_name": "HBoxModel",
          "model_module_version": "1.5.0",
          "state": {
            "_dom_classes": [],
            "_model_module": "@jupyter-widgets/controls",
            "_model_module_version": "1.5.0",
            "_model_name": "HBoxModel",
            "_view_count": null,
            "_view_module": "@jupyter-widgets/controls",
            "_view_module_version": "1.5.0",
            "_view_name": "HBoxView",
            "box_style": "",
            "children": [
              "IPY_MODEL_64a094402f7d4d04a5d8ea6213e64eb0",
              "IPY_MODEL_de7a9db67c3647d48633d02dd4dd9c80",
              "IPY_MODEL_012453e7218044adba5a4f31fdcd2cbf"
            ],
            "layout": "IPY_MODEL_13df6f8e6fb940e982954b686bb8e82e"
          }
        },
        "64a094402f7d4d04a5d8ea6213e64eb0": {
          "model_module": "@jupyter-widgets/controls",
          "model_name": "HTMLModel",
          "model_module_version": "1.5.0",
          "state": {
            "_dom_classes": [],
            "_model_module": "@jupyter-widgets/controls",
            "_model_module_version": "1.5.0",
            "_model_name": "HTMLModel",
            "_view_count": null,
            "_view_module": "@jupyter-widgets/controls",
            "_view_module_version": "1.5.0",
            "_view_name": "HTMLView",
            "description": "",
            "description_tooltip": null,
            "layout": "IPY_MODEL_2b0998299420448397c9f9d530301bc4",
            "placeholder": "​",
            "style": "IPY_MODEL_2c70f1fd2a5c4aec945cfa87e439652b",
            "value": "Downloading metadata: 100%"
          }
        },
        "de7a9db67c3647d48633d02dd4dd9c80": {
          "model_module": "@jupyter-widgets/controls",
          "model_name": "FloatProgressModel",
          "model_module_version": "1.5.0",
          "state": {
            "_dom_classes": [],
            "_model_module": "@jupyter-widgets/controls",
            "_model_module_version": "1.5.0",
            "_model_name": "FloatProgressModel",
            "_view_count": null,
            "_view_module": "@jupyter-widgets/controls",
            "_view_module_version": "1.5.0",
            "_view_name": "ProgressView",
            "bar_style": "success",
            "description": "",
            "description_tooltip": null,
            "layout": "IPY_MODEL_85213e9f9a474c8db38861756ec84f0b",
            "max": 2360,
            "min": 0,
            "orientation": "horizontal",
            "style": "IPY_MODEL_76ad5c82c6ee4abaad3d7b5f380ef013",
            "value": 2360
          }
        },
        "012453e7218044adba5a4f31fdcd2cbf": {
          "model_module": "@jupyter-widgets/controls",
          "model_name": "HTMLModel",
          "model_module_version": "1.5.0",
          "state": {
            "_dom_classes": [],
            "_model_module": "@jupyter-widgets/controls",
            "_model_module_version": "1.5.0",
            "_model_name": "HTMLModel",
            "_view_count": null,
            "_view_module": "@jupyter-widgets/controls",
            "_view_module_version": "1.5.0",
            "_view_name": "HTMLView",
            "description": "",
            "description_tooltip": null,
            "layout": "IPY_MODEL_563c7376f5244957817400bd1641c221",
            "placeholder": "​",
            "style": "IPY_MODEL_bb0d3d176ea849f991b9f95b92444b2d",
            "value": " 2.36k/2.36k [00:00&lt;00:00, 49.5kB/s]"
          }
        },
        "13df6f8e6fb940e982954b686bb8e82e": {
          "model_module": "@jupyter-widgets/base",
          "model_name": "LayoutModel",
          "model_module_version": "1.2.0",
          "state": {
            "_model_module": "@jupyter-widgets/base",
            "_model_module_version": "1.2.0",
            "_model_name": "LayoutModel",
            "_view_count": null,
            "_view_module": "@jupyter-widgets/base",
            "_view_module_version": "1.2.0",
            "_view_name": "LayoutView",
            "align_content": null,
            "align_items": null,
            "align_self": null,
            "border": null,
            "bottom": null,
            "display": null,
            "flex": null,
            "flex_flow": null,
            "grid_area": null,
            "grid_auto_columns": null,
            "grid_auto_flow": null,
            "grid_auto_rows": null,
            "grid_column": null,
            "grid_gap": null,
            "grid_row": null,
            "grid_template_areas": null,
            "grid_template_columns": null,
            "grid_template_rows": null,
            "height": null,
            "justify_content": null,
            "justify_items": null,
            "left": null,
            "margin": null,
            "max_height": null,
            "max_width": null,
            "min_height": null,
            "min_width": null,
            "object_fit": null,
            "object_position": null,
            "order": null,
            "overflow": null,
            "overflow_x": null,
            "overflow_y": null,
            "padding": null,
            "right": null,
            "top": null,
            "visibility": null,
            "width": null
          }
        },
        "2b0998299420448397c9f9d530301bc4": {
          "model_module": "@jupyter-widgets/base",
          "model_name": "LayoutModel",
          "model_module_version": "1.2.0",
          "state": {
            "_model_module": "@jupyter-widgets/base",
            "_model_module_version": "1.2.0",
            "_model_name": "LayoutModel",
            "_view_count": null,
            "_view_module": "@jupyter-widgets/base",
            "_view_module_version": "1.2.0",
            "_view_name": "LayoutView",
            "align_content": null,
            "align_items": null,
            "align_self": null,
            "border": null,
            "bottom": null,
            "display": null,
            "flex": null,
            "flex_flow": null,
            "grid_area": null,
            "grid_auto_columns": null,
            "grid_auto_flow": null,
            "grid_auto_rows": null,
            "grid_column": null,
            "grid_gap": null,
            "grid_row": null,
            "grid_template_areas": null,
            "grid_template_columns": null,
            "grid_template_rows": null,
            "height": null,
            "justify_content": null,
            "justify_items": null,
            "left": null,
            "margin": null,
            "max_height": null,
            "max_width": null,
            "min_height": null,
            "min_width": null,
            "object_fit": null,
            "object_position": null,
            "order": null,
            "overflow": null,
            "overflow_x": null,
            "overflow_y": null,
            "padding": null,
            "right": null,
            "top": null,
            "visibility": null,
            "width": null
          }
        },
        "2c70f1fd2a5c4aec945cfa87e439652b": {
          "model_module": "@jupyter-widgets/controls",
          "model_name": "DescriptionStyleModel",
          "model_module_version": "1.5.0",
          "state": {
            "_model_module": "@jupyter-widgets/controls",
            "_model_module_version": "1.5.0",
            "_model_name": "DescriptionStyleModel",
            "_view_count": null,
            "_view_module": "@jupyter-widgets/base",
            "_view_module_version": "1.2.0",
            "_view_name": "StyleView",
            "description_width": ""
          }
        },
        "85213e9f9a474c8db38861756ec84f0b": {
          "model_module": "@jupyter-widgets/base",
          "model_name": "LayoutModel",
          "model_module_version": "1.2.0",
          "state": {
            "_model_module": "@jupyter-widgets/base",
            "_model_module_version": "1.2.0",
            "_model_name": "LayoutModel",
            "_view_count": null,
            "_view_module": "@jupyter-widgets/base",
            "_view_module_version": "1.2.0",
            "_view_name": "LayoutView",
            "align_content": null,
            "align_items": null,
            "align_self": null,
            "border": null,
            "bottom": null,
            "display": null,
            "flex": null,
            "flex_flow": null,
            "grid_area": null,
            "grid_auto_columns": null,
            "grid_auto_flow": null,
            "grid_auto_rows": null,
            "grid_column": null,
            "grid_gap": null,
            "grid_row": null,
            "grid_template_areas": null,
            "grid_template_columns": null,
            "grid_template_rows": null,
            "height": null,
            "justify_content": null,
            "justify_items": null,
            "left": null,
            "margin": null,
            "max_height": null,
            "max_width": null,
            "min_height": null,
            "min_width": null,
            "object_fit": null,
            "object_position": null,
            "order": null,
            "overflow": null,
            "overflow_x": null,
            "overflow_y": null,
            "padding": null,
            "right": null,
            "top": null,
            "visibility": null,
            "width": null
          }
        },
        "76ad5c82c6ee4abaad3d7b5f380ef013": {
          "model_module": "@jupyter-widgets/controls",
          "model_name": "ProgressStyleModel",
          "model_module_version": "1.5.0",
          "state": {
            "_model_module": "@jupyter-widgets/controls",
            "_model_module_version": "1.5.0",
            "_model_name": "ProgressStyleModel",
            "_view_count": null,
            "_view_module": "@jupyter-widgets/base",
            "_view_module_version": "1.2.0",
            "_view_name": "StyleView",
            "bar_color": null,
            "description_width": ""
          }
        },
        "563c7376f5244957817400bd1641c221": {
          "model_module": "@jupyter-widgets/base",
          "model_name": "LayoutModel",
          "model_module_version": "1.2.0",
          "state": {
            "_model_module": "@jupyter-widgets/base",
            "_model_module_version": "1.2.0",
            "_model_name": "LayoutModel",
            "_view_count": null,
            "_view_module": "@jupyter-widgets/base",
            "_view_module_version": "1.2.0",
            "_view_name": "LayoutView",
            "align_content": null,
            "align_items": null,
            "align_self": null,
            "border": null,
            "bottom": null,
            "display": null,
            "flex": null,
            "flex_flow": null,
            "grid_area": null,
            "grid_auto_columns": null,
            "grid_auto_flow": null,
            "grid_auto_rows": null,
            "grid_column": null,
            "grid_gap": null,
            "grid_row": null,
            "grid_template_areas": null,
            "grid_template_columns": null,
            "grid_template_rows": null,
            "height": null,
            "justify_content": null,
            "justify_items": null,
            "left": null,
            "margin": null,
            "max_height": null,
            "max_width": null,
            "min_height": null,
            "min_width": null,
            "object_fit": null,
            "object_position": null,
            "order": null,
            "overflow": null,
            "overflow_x": null,
            "overflow_y": null,
            "padding": null,
            "right": null,
            "top": null,
            "visibility": null,
            "width": null
          }
        },
        "bb0d3d176ea849f991b9f95b92444b2d": {
          "model_module": "@jupyter-widgets/controls",
          "model_name": "DescriptionStyleModel",
          "model_module_version": "1.5.0",
          "state": {
            "_model_module": "@jupyter-widgets/controls",
            "_model_module_version": "1.5.0",
            "_model_name": "DescriptionStyleModel",
            "_view_count": null,
            "_view_module": "@jupyter-widgets/base",
            "_view_module_version": "1.2.0",
            "_view_name": "StyleView",
            "description_width": ""
          }
        },
        "476c317c7e13476d85db24f128135744": {
          "model_module": "@jupyter-widgets/controls",
          "model_name": "HBoxModel",
          "model_module_version": "1.5.0",
          "state": {
            "_dom_classes": [],
            "_model_module": "@jupyter-widgets/controls",
            "_model_module_version": "1.5.0",
            "_model_name": "HBoxModel",
            "_view_count": null,
            "_view_module": "@jupyter-widgets/controls",
            "_view_module_version": "1.5.0",
            "_view_name": "HBoxView",
            "box_style": "",
            "children": [
              "IPY_MODEL_56b7c63f5fde4b3b806c42ce7d8d037a",
              "IPY_MODEL_2e69e20361464a7eb525de2c60ced6c9",
              "IPY_MODEL_f8e0f95de1ad42299abcb1c40ccea4c0"
            ],
            "layout": "IPY_MODEL_dfa768a9d8fb47ada928b063e2296320"
          }
        },
        "56b7c63f5fde4b3b806c42ce7d8d037a": {
          "model_module": "@jupyter-widgets/controls",
          "model_name": "HTMLModel",
          "model_module_version": "1.5.0",
          "state": {
            "_dom_classes": [],
            "_model_module": "@jupyter-widgets/controls",
            "_model_module_version": "1.5.0",
            "_model_name": "HTMLModel",
            "_view_count": null,
            "_view_module": "@jupyter-widgets/controls",
            "_view_module_version": "1.5.0",
            "_view_name": "HTMLView",
            "description": "",
            "description_tooltip": null,
            "layout": "IPY_MODEL_777853de551e413aa6050c328cddff63",
            "placeholder": "​",
            "style": "IPY_MODEL_99cf78644e154a7ab4dd96cc2bf3c534",
            "value": "Downloading readme: 100%"
          }
        },
        "2e69e20361464a7eb525de2c60ced6c9": {
          "model_module": "@jupyter-widgets/controls",
          "model_name": "FloatProgressModel",
          "model_module_version": "1.5.0",
          "state": {
            "_dom_classes": [],
            "_model_module": "@jupyter-widgets/controls",
            "_model_module_version": "1.5.0",
            "_model_name": "FloatProgressModel",
            "_view_count": null,
            "_view_module": "@jupyter-widgets/controls",
            "_view_module_version": "1.5.0",
            "_view_name": "ProgressView",
            "bar_style": "success",
            "description": "",
            "description_tooltip": null,
            "layout": "IPY_MODEL_ba73870b455646709a76225d2155455d",
            "max": 7665,
            "min": 0,
            "orientation": "horizontal",
            "style": "IPY_MODEL_2601964172e74552a80bb8f947142d6d",
            "value": 7665
          }
        },
        "f8e0f95de1ad42299abcb1c40ccea4c0": {
          "model_module": "@jupyter-widgets/controls",
          "model_name": "HTMLModel",
          "model_module_version": "1.5.0",
          "state": {
            "_dom_classes": [],
            "_model_module": "@jupyter-widgets/controls",
            "_model_module_version": "1.5.0",
            "_model_name": "HTMLModel",
            "_view_count": null,
            "_view_module": "@jupyter-widgets/controls",
            "_view_module_version": "1.5.0",
            "_view_name": "HTMLView",
            "description": "",
            "description_tooltip": null,
            "layout": "IPY_MODEL_06d7d610bf7441cd92657b193413eeaa",
            "placeholder": "​",
            "style": "IPY_MODEL_561c0ec58f654a3a94828d5dc9aa96ac",
            "value": " 7.67k/7.67k [00:00&lt;00:00, 513kB/s]"
          }
        },
        "dfa768a9d8fb47ada928b063e2296320": {
          "model_module": "@jupyter-widgets/base",
          "model_name": "LayoutModel",
          "model_module_version": "1.2.0",
          "state": {
            "_model_module": "@jupyter-widgets/base",
            "_model_module_version": "1.2.0",
            "_model_name": "LayoutModel",
            "_view_count": null,
            "_view_module": "@jupyter-widgets/base",
            "_view_module_version": "1.2.0",
            "_view_name": "LayoutView",
            "align_content": null,
            "align_items": null,
            "align_self": null,
            "border": null,
            "bottom": null,
            "display": null,
            "flex": null,
            "flex_flow": null,
            "grid_area": null,
            "grid_auto_columns": null,
            "grid_auto_flow": null,
            "grid_auto_rows": null,
            "grid_column": null,
            "grid_gap": null,
            "grid_row": null,
            "grid_template_areas": null,
            "grid_template_columns": null,
            "grid_template_rows": null,
            "height": null,
            "justify_content": null,
            "justify_items": null,
            "left": null,
            "margin": null,
            "max_height": null,
            "max_width": null,
            "min_height": null,
            "min_width": null,
            "object_fit": null,
            "object_position": null,
            "order": null,
            "overflow": null,
            "overflow_x": null,
            "overflow_y": null,
            "padding": null,
            "right": null,
            "top": null,
            "visibility": null,
            "width": null
          }
        },
        "777853de551e413aa6050c328cddff63": {
          "model_module": "@jupyter-widgets/base",
          "model_name": "LayoutModel",
          "model_module_version": "1.2.0",
          "state": {
            "_model_module": "@jupyter-widgets/base",
            "_model_module_version": "1.2.0",
            "_model_name": "LayoutModel",
            "_view_count": null,
            "_view_module": "@jupyter-widgets/base",
            "_view_module_version": "1.2.0",
            "_view_name": "LayoutView",
            "align_content": null,
            "align_items": null,
            "align_self": null,
            "border": null,
            "bottom": null,
            "display": null,
            "flex": null,
            "flex_flow": null,
            "grid_area": null,
            "grid_auto_columns": null,
            "grid_auto_flow": null,
            "grid_auto_rows": null,
            "grid_column": null,
            "grid_gap": null,
            "grid_row": null,
            "grid_template_areas": null,
            "grid_template_columns": null,
            "grid_template_rows": null,
            "height": null,
            "justify_content": null,
            "justify_items": null,
            "left": null,
            "margin": null,
            "max_height": null,
            "max_width": null,
            "min_height": null,
            "min_width": null,
            "object_fit": null,
            "object_position": null,
            "order": null,
            "overflow": null,
            "overflow_x": null,
            "overflow_y": null,
            "padding": null,
            "right": null,
            "top": null,
            "visibility": null,
            "width": null
          }
        },
        "99cf78644e154a7ab4dd96cc2bf3c534": {
          "model_module": "@jupyter-widgets/controls",
          "model_name": "DescriptionStyleModel",
          "model_module_version": "1.5.0",
          "state": {
            "_model_module": "@jupyter-widgets/controls",
            "_model_module_version": "1.5.0",
            "_model_name": "DescriptionStyleModel",
            "_view_count": null,
            "_view_module": "@jupyter-widgets/base",
            "_view_module_version": "1.2.0",
            "_view_name": "StyleView",
            "description_width": ""
          }
        },
        "ba73870b455646709a76225d2155455d": {
          "model_module": "@jupyter-widgets/base",
          "model_name": "LayoutModel",
          "model_module_version": "1.2.0",
          "state": {
            "_model_module": "@jupyter-widgets/base",
            "_model_module_version": "1.2.0",
            "_model_name": "LayoutModel",
            "_view_count": null,
            "_view_module": "@jupyter-widgets/base",
            "_view_module_version": "1.2.0",
            "_view_name": "LayoutView",
            "align_content": null,
            "align_items": null,
            "align_self": null,
            "border": null,
            "bottom": null,
            "display": null,
            "flex": null,
            "flex_flow": null,
            "grid_area": null,
            "grid_auto_columns": null,
            "grid_auto_flow": null,
            "grid_auto_rows": null,
            "grid_column": null,
            "grid_gap": null,
            "grid_row": null,
            "grid_template_areas": null,
            "grid_template_columns": null,
            "grid_template_rows": null,
            "height": null,
            "justify_content": null,
            "justify_items": null,
            "left": null,
            "margin": null,
            "max_height": null,
            "max_width": null,
            "min_height": null,
            "min_width": null,
            "object_fit": null,
            "object_position": null,
            "order": null,
            "overflow": null,
            "overflow_x": null,
            "overflow_y": null,
            "padding": null,
            "right": null,
            "top": null,
            "visibility": null,
            "width": null
          }
        },
        "2601964172e74552a80bb8f947142d6d": {
          "model_module": "@jupyter-widgets/controls",
          "model_name": "ProgressStyleModel",
          "model_module_version": "1.5.0",
          "state": {
            "_model_module": "@jupyter-widgets/controls",
            "_model_module_version": "1.5.0",
            "_model_name": "ProgressStyleModel",
            "_view_count": null,
            "_view_module": "@jupyter-widgets/base",
            "_view_module_version": "1.2.0",
            "_view_name": "StyleView",
            "bar_color": null,
            "description_width": ""
          }
        },
        "06d7d610bf7441cd92657b193413eeaa": {
          "model_module": "@jupyter-widgets/base",
          "model_name": "LayoutModel",
          "model_module_version": "1.2.0",
          "state": {
            "_model_module": "@jupyter-widgets/base",
            "_model_module_version": "1.2.0",
            "_model_name": "LayoutModel",
            "_view_count": null,
            "_view_module": "@jupyter-widgets/base",
            "_view_module_version": "1.2.0",
            "_view_name": "LayoutView",
            "align_content": null,
            "align_items": null,
            "align_self": null,
            "border": null,
            "bottom": null,
            "display": null,
            "flex": null,
            "flex_flow": null,
            "grid_area": null,
            "grid_auto_columns": null,
            "grid_auto_flow": null,
            "grid_auto_rows": null,
            "grid_column": null,
            "grid_gap": null,
            "grid_row": null,
            "grid_template_areas": null,
            "grid_template_columns": null,
            "grid_template_rows": null,
            "height": null,
            "justify_content": null,
            "justify_items": null,
            "left": null,
            "margin": null,
            "max_height": null,
            "max_width": null,
            "min_height": null,
            "min_width": null,
            "object_fit": null,
            "object_position": null,
            "order": null,
            "overflow": null,
            "overflow_x": null,
            "overflow_y": null,
            "padding": null,
            "right": null,
            "top": null,
            "visibility": null,
            "width": null
          }
        },
        "561c0ec58f654a3a94828d5dc9aa96ac": {
          "model_module": "@jupyter-widgets/controls",
          "model_name": "DescriptionStyleModel",
          "model_module_version": "1.5.0",
          "state": {
            "_model_module": "@jupyter-widgets/controls",
            "_model_module_version": "1.5.0",
            "_model_name": "DescriptionStyleModel",
            "_view_count": null,
            "_view_module": "@jupyter-widgets/base",
            "_view_module_version": "1.2.0",
            "_view_name": "StyleView",
            "description_width": ""
          }
        },
        "46c1ebaaa46646eebe6e91ae302a3b16": {
          "model_module": "@jupyter-widgets/controls",
          "model_name": "HBoxModel",
          "model_module_version": "1.5.0",
          "state": {
            "_dom_classes": [],
            "_model_module": "@jupyter-widgets/controls",
            "_model_module_version": "1.5.0",
            "_model_name": "HBoxModel",
            "_view_count": null,
            "_view_module": "@jupyter-widgets/controls",
            "_view_module_version": "1.5.0",
            "_view_name": "HBoxView",
            "box_style": "",
            "children": [
              "IPY_MODEL_09cfc8c812cc4510bd6ce65ffdfde1b2",
              "IPY_MODEL_28359c3cb182424cb6c908ac706d88df",
              "IPY_MODEL_165fe67c82f54b72870cad10afc2a1ef"
            ],
            "layout": "IPY_MODEL_24de0b59c1ed4ed49f8c6039ec864d00"
          }
        },
        "09cfc8c812cc4510bd6ce65ffdfde1b2": {
          "model_module": "@jupyter-widgets/controls",
          "model_name": "HTMLModel",
          "model_module_version": "1.5.0",
          "state": {
            "_dom_classes": [],
            "_model_module": "@jupyter-widgets/controls",
            "_model_module_version": "1.5.0",
            "_model_name": "HTMLModel",
            "_view_count": null,
            "_view_module": "@jupyter-widgets/controls",
            "_view_module_version": "1.5.0",
            "_view_name": "HTMLView",
            "description": "",
            "description_tooltip": null,
            "layout": "IPY_MODEL_f4ca091db7e94fa68bebd58851aeb305",
            "placeholder": "​",
            "style": "IPY_MODEL_37eff784c70747779af4f9914d5d2208",
            "value": "Downloading data files: 100%"
          }
        },
        "28359c3cb182424cb6c908ac706d88df": {
          "model_module": "@jupyter-widgets/controls",
          "model_name": "FloatProgressModel",
          "model_module_version": "1.5.0",
          "state": {
            "_dom_classes": [],
            "_model_module": "@jupyter-widgets/controls",
            "_model_module_version": "1.5.0",
            "_model_name": "FloatProgressModel",
            "_view_count": null,
            "_view_module": "@jupyter-widgets/controls",
            "_view_module_version": "1.5.0",
            "_view_name": "ProgressView",
            "bar_style": "success",
            "description": "",
            "description_tooltip": null,
            "layout": "IPY_MODEL_6b0871a52ec3442c8fc042eabea5fc66",
            "max": 2,
            "min": 0,
            "orientation": "horizontal",
            "style": "IPY_MODEL_59dcdd876d294c3fbd41f6ccfab892af",
            "value": 2
          }
        },
        "165fe67c82f54b72870cad10afc2a1ef": {
          "model_module": "@jupyter-widgets/controls",
          "model_name": "HTMLModel",
          "model_module_version": "1.5.0",
          "state": {
            "_dom_classes": [],
            "_model_module": "@jupyter-widgets/controls",
            "_model_module_version": "1.5.0",
            "_model_name": "HTMLModel",
            "_view_count": null,
            "_view_module": "@jupyter-widgets/controls",
            "_view_module_version": "1.5.0",
            "_view_name": "HTMLView",
            "description": "",
            "description_tooltip": null,
            "layout": "IPY_MODEL_72a1a91da2304869915e756eea080ebd",
            "placeholder": "​",
            "style": "IPY_MODEL_0adf36cf8a394a06bf5285385b821add",
            "value": " 2/2 [00:01&lt;00:00,  1.83it/s]"
          }
        },
        "24de0b59c1ed4ed49f8c6039ec864d00": {
          "model_module": "@jupyter-widgets/base",
          "model_name": "LayoutModel",
          "model_module_version": "1.2.0",
          "state": {
            "_model_module": "@jupyter-widgets/base",
            "_model_module_version": "1.2.0",
            "_model_name": "LayoutModel",
            "_view_count": null,
            "_view_module": "@jupyter-widgets/base",
            "_view_module_version": "1.2.0",
            "_view_name": "LayoutView",
            "align_content": null,
            "align_items": null,
            "align_self": null,
            "border": null,
            "bottom": null,
            "display": null,
            "flex": null,
            "flex_flow": null,
            "grid_area": null,
            "grid_auto_columns": null,
            "grid_auto_flow": null,
            "grid_auto_rows": null,
            "grid_column": null,
            "grid_gap": null,
            "grid_row": null,
            "grid_template_areas": null,
            "grid_template_columns": null,
            "grid_template_rows": null,
            "height": null,
            "justify_content": null,
            "justify_items": null,
            "left": null,
            "margin": null,
            "max_height": null,
            "max_width": null,
            "min_height": null,
            "min_width": null,
            "object_fit": null,
            "object_position": null,
            "order": null,
            "overflow": null,
            "overflow_x": null,
            "overflow_y": null,
            "padding": null,
            "right": null,
            "top": null,
            "visibility": null,
            "width": null
          }
        },
        "f4ca091db7e94fa68bebd58851aeb305": {
          "model_module": "@jupyter-widgets/base",
          "model_name": "LayoutModel",
          "model_module_version": "1.2.0",
          "state": {
            "_model_module": "@jupyter-widgets/base",
            "_model_module_version": "1.2.0",
            "_model_name": "LayoutModel",
            "_view_count": null,
            "_view_module": "@jupyter-widgets/base",
            "_view_module_version": "1.2.0",
            "_view_name": "LayoutView",
            "align_content": null,
            "align_items": null,
            "align_self": null,
            "border": null,
            "bottom": null,
            "display": null,
            "flex": null,
            "flex_flow": null,
            "grid_area": null,
            "grid_auto_columns": null,
            "grid_auto_flow": null,
            "grid_auto_rows": null,
            "grid_column": null,
            "grid_gap": null,
            "grid_row": null,
            "grid_template_areas": null,
            "grid_template_columns": null,
            "grid_template_rows": null,
            "height": null,
            "justify_content": null,
            "justify_items": null,
            "left": null,
            "margin": null,
            "max_height": null,
            "max_width": null,
            "min_height": null,
            "min_width": null,
            "object_fit": null,
            "object_position": null,
            "order": null,
            "overflow": null,
            "overflow_x": null,
            "overflow_y": null,
            "padding": null,
            "right": null,
            "top": null,
            "visibility": null,
            "width": null
          }
        },
        "37eff784c70747779af4f9914d5d2208": {
          "model_module": "@jupyter-widgets/controls",
          "model_name": "DescriptionStyleModel",
          "model_module_version": "1.5.0",
          "state": {
            "_model_module": "@jupyter-widgets/controls",
            "_model_module_version": "1.5.0",
            "_model_name": "DescriptionStyleModel",
            "_view_count": null,
            "_view_module": "@jupyter-widgets/base",
            "_view_module_version": "1.2.0",
            "_view_name": "StyleView",
            "description_width": ""
          }
        },
        "6b0871a52ec3442c8fc042eabea5fc66": {
          "model_module": "@jupyter-widgets/base",
          "model_name": "LayoutModel",
          "model_module_version": "1.2.0",
          "state": {
            "_model_module": "@jupyter-widgets/base",
            "_model_module_version": "1.2.0",
            "_model_name": "LayoutModel",
            "_view_count": null,
            "_view_module": "@jupyter-widgets/base",
            "_view_module_version": "1.2.0",
            "_view_name": "LayoutView",
            "align_content": null,
            "align_items": null,
            "align_self": null,
            "border": null,
            "bottom": null,
            "display": null,
            "flex": null,
            "flex_flow": null,
            "grid_area": null,
            "grid_auto_columns": null,
            "grid_auto_flow": null,
            "grid_auto_rows": null,
            "grid_column": null,
            "grid_gap": null,
            "grid_row": null,
            "grid_template_areas": null,
            "grid_template_columns": null,
            "grid_template_rows": null,
            "height": null,
            "justify_content": null,
            "justify_items": null,
            "left": null,
            "margin": null,
            "max_height": null,
            "max_width": null,
            "min_height": null,
            "min_width": null,
            "object_fit": null,
            "object_position": null,
            "order": null,
            "overflow": null,
            "overflow_x": null,
            "overflow_y": null,
            "padding": null,
            "right": null,
            "top": null,
            "visibility": null,
            "width": null
          }
        },
        "59dcdd876d294c3fbd41f6ccfab892af": {
          "model_module": "@jupyter-widgets/controls",
          "model_name": "ProgressStyleModel",
          "model_module_version": "1.5.0",
          "state": {
            "_model_module": "@jupyter-widgets/controls",
            "_model_module_version": "1.5.0",
            "_model_name": "ProgressStyleModel",
            "_view_count": null,
            "_view_module": "@jupyter-widgets/base",
            "_view_module_version": "1.2.0",
            "_view_name": "StyleView",
            "bar_color": null,
            "description_width": ""
          }
        },
        "72a1a91da2304869915e756eea080ebd": {
          "model_module": "@jupyter-widgets/base",
          "model_name": "LayoutModel",
          "model_module_version": "1.2.0",
          "state": {
            "_model_module": "@jupyter-widgets/base",
            "_model_module_version": "1.2.0",
            "_model_name": "LayoutModel",
            "_view_count": null,
            "_view_module": "@jupyter-widgets/base",
            "_view_module_version": "1.2.0",
            "_view_name": "LayoutView",
            "align_content": null,
            "align_items": null,
            "align_self": null,
            "border": null,
            "bottom": null,
            "display": null,
            "flex": null,
            "flex_flow": null,
            "grid_area": null,
            "grid_auto_columns": null,
            "grid_auto_flow": null,
            "grid_auto_rows": null,
            "grid_column": null,
            "grid_gap": null,
            "grid_row": null,
            "grid_template_areas": null,
            "grid_template_columns": null,
            "grid_template_rows": null,
            "height": null,
            "justify_content": null,
            "justify_items": null,
            "left": null,
            "margin": null,
            "max_height": null,
            "max_width": null,
            "min_height": null,
            "min_width": null,
            "object_fit": null,
            "object_position": null,
            "order": null,
            "overflow": null,
            "overflow_x": null,
            "overflow_y": null,
            "padding": null,
            "right": null,
            "top": null,
            "visibility": null,
            "width": null
          }
        },
        "0adf36cf8a394a06bf5285385b821add": {
          "model_module": "@jupyter-widgets/controls",
          "model_name": "DescriptionStyleModel",
          "model_module_version": "1.5.0",
          "state": {
            "_model_module": "@jupyter-widgets/controls",
            "_model_module_version": "1.5.0",
            "_model_name": "DescriptionStyleModel",
            "_view_count": null,
            "_view_module": "@jupyter-widgets/base",
            "_view_module_version": "1.2.0",
            "_view_name": "StyleView",
            "description_width": ""
          }
        },
        "8096ddda6df2442099d60e98d6da14fe": {
          "model_module": "@jupyter-widgets/controls",
          "model_name": "HBoxModel",
          "model_module_version": "1.5.0",
          "state": {
            "_dom_classes": [],
            "_model_module": "@jupyter-widgets/controls",
            "_model_module_version": "1.5.0",
            "_model_name": "HBoxModel",
            "_view_count": null,
            "_view_module": "@jupyter-widgets/controls",
            "_view_module_version": "1.5.0",
            "_view_name": "HBoxView",
            "box_style": "",
            "children": [
              "IPY_MODEL_e6c0a321c0ce449b98766ae8e0e396ba",
              "IPY_MODEL_9a8e580f2acd4c07ad11c397d4363216",
              "IPY_MODEL_bba52bd4c80e42a2938ccd720919506a"
            ],
            "layout": "IPY_MODEL_a4ac4117f566494d9cd788b305858903"
          }
        },
        "e6c0a321c0ce449b98766ae8e0e396ba": {
          "model_module": "@jupyter-widgets/controls",
          "model_name": "HTMLModel",
          "model_module_version": "1.5.0",
          "state": {
            "_dom_classes": [],
            "_model_module": "@jupyter-widgets/controls",
            "_model_module_version": "1.5.0",
            "_model_name": "HTMLModel",
            "_view_count": null,
            "_view_module": "@jupyter-widgets/controls",
            "_view_module_version": "1.5.0",
            "_view_name": "HTMLView",
            "description": "",
            "description_tooltip": null,
            "layout": "IPY_MODEL_e43afd364f8240868d40143417e79c26",
            "placeholder": "​",
            "style": "IPY_MODEL_83f3801e6cd5444e9cdc19c85198b355",
            "value": "Downloading data: "
          }
        },
        "9a8e580f2acd4c07ad11c397d4363216": {
          "model_module": "@jupyter-widgets/controls",
          "model_name": "FloatProgressModel",
          "model_module_version": "1.5.0",
          "state": {
            "_dom_classes": [],
            "_model_module": "@jupyter-widgets/controls",
            "_model_module_version": "1.5.0",
            "_model_name": "FloatProgressModel",
            "_view_count": null,
            "_view_module": "@jupyter-widgets/controls",
            "_view_module_version": "1.5.0",
            "_view_name": "ProgressView",
            "bar_style": "success",
            "description": "",
            "description_tooltip": null,
            "layout": "IPY_MODEL_53f3649d27bc4dcf81ebd19ec212477e",
            "max": 8116577,
            "min": 0,
            "orientation": "horizontal",
            "style": "IPY_MODEL_855ddfe0cc93472698be5a9b5944c91f",
            "value": 8116577
          }
        },
        "bba52bd4c80e42a2938ccd720919506a": {
          "model_module": "@jupyter-widgets/controls",
          "model_name": "HTMLModel",
          "model_module_version": "1.5.0",
          "state": {
            "_dom_classes": [],
            "_model_module": "@jupyter-widgets/controls",
            "_model_module_version": "1.5.0",
            "_model_name": "HTMLModel",
            "_view_count": null,
            "_view_module": "@jupyter-widgets/controls",
            "_view_module_version": "1.5.0",
            "_view_name": "HTMLView",
            "description": "",
            "description_tooltip": null,
            "layout": "IPY_MODEL_bcbcbafe16d0480aa51d5d1216f94c0d",
            "placeholder": "​",
            "style": "IPY_MODEL_f94faf2eb0334c389a8c3a920ae8c1aa",
            "value": " 30.3M/? [00:00&lt;00:00, 92.1MB/s]"
          }
        },
        "a4ac4117f566494d9cd788b305858903": {
          "model_module": "@jupyter-widgets/base",
          "model_name": "LayoutModel",
          "model_module_version": "1.2.0",
          "state": {
            "_model_module": "@jupyter-widgets/base",
            "_model_module_version": "1.2.0",
            "_model_name": "LayoutModel",
            "_view_count": null,
            "_view_module": "@jupyter-widgets/base",
            "_view_module_version": "1.2.0",
            "_view_name": "LayoutView",
            "align_content": null,
            "align_items": null,
            "align_self": null,
            "border": null,
            "bottom": null,
            "display": null,
            "flex": null,
            "flex_flow": null,
            "grid_area": null,
            "grid_auto_columns": null,
            "grid_auto_flow": null,
            "grid_auto_rows": null,
            "grid_column": null,
            "grid_gap": null,
            "grid_row": null,
            "grid_template_areas": null,
            "grid_template_columns": null,
            "grid_template_rows": null,
            "height": null,
            "justify_content": null,
            "justify_items": null,
            "left": null,
            "margin": null,
            "max_height": null,
            "max_width": null,
            "min_height": null,
            "min_width": null,
            "object_fit": null,
            "object_position": null,
            "order": null,
            "overflow": null,
            "overflow_x": null,
            "overflow_y": null,
            "padding": null,
            "right": null,
            "top": null,
            "visibility": null,
            "width": null
          }
        },
        "e43afd364f8240868d40143417e79c26": {
          "model_module": "@jupyter-widgets/base",
          "model_name": "LayoutModel",
          "model_module_version": "1.2.0",
          "state": {
            "_model_module": "@jupyter-widgets/base",
            "_model_module_version": "1.2.0",
            "_model_name": "LayoutModel",
            "_view_count": null,
            "_view_module": "@jupyter-widgets/base",
            "_view_module_version": "1.2.0",
            "_view_name": "LayoutView",
            "align_content": null,
            "align_items": null,
            "align_self": null,
            "border": null,
            "bottom": null,
            "display": null,
            "flex": null,
            "flex_flow": null,
            "grid_area": null,
            "grid_auto_columns": null,
            "grid_auto_flow": null,
            "grid_auto_rows": null,
            "grid_column": null,
            "grid_gap": null,
            "grid_row": null,
            "grid_template_areas": null,
            "grid_template_columns": null,
            "grid_template_rows": null,
            "height": null,
            "justify_content": null,
            "justify_items": null,
            "left": null,
            "margin": null,
            "max_height": null,
            "max_width": null,
            "min_height": null,
            "min_width": null,
            "object_fit": null,
            "object_position": null,
            "order": null,
            "overflow": null,
            "overflow_x": null,
            "overflow_y": null,
            "padding": null,
            "right": null,
            "top": null,
            "visibility": null,
            "width": null
          }
        },
        "83f3801e6cd5444e9cdc19c85198b355": {
          "model_module": "@jupyter-widgets/controls",
          "model_name": "DescriptionStyleModel",
          "model_module_version": "1.5.0",
          "state": {
            "_model_module": "@jupyter-widgets/controls",
            "_model_module_version": "1.5.0",
            "_model_name": "DescriptionStyleModel",
            "_view_count": null,
            "_view_module": "@jupyter-widgets/base",
            "_view_module_version": "1.2.0",
            "_view_name": "StyleView",
            "description_width": ""
          }
        },
        "53f3649d27bc4dcf81ebd19ec212477e": {
          "model_module": "@jupyter-widgets/base",
          "model_name": "LayoutModel",
          "model_module_version": "1.2.0",
          "state": {
            "_model_module": "@jupyter-widgets/base",
            "_model_module_version": "1.2.0",
            "_model_name": "LayoutModel",
            "_view_count": null,
            "_view_module": "@jupyter-widgets/base",
            "_view_module_version": "1.2.0",
            "_view_name": "LayoutView",
            "align_content": null,
            "align_items": null,
            "align_self": null,
            "border": null,
            "bottom": null,
            "display": null,
            "flex": null,
            "flex_flow": null,
            "grid_area": null,
            "grid_auto_columns": null,
            "grid_auto_flow": null,
            "grid_auto_rows": null,
            "grid_column": null,
            "grid_gap": null,
            "grid_row": null,
            "grid_template_areas": null,
            "grid_template_columns": null,
            "grid_template_rows": null,
            "height": null,
            "justify_content": null,
            "justify_items": null,
            "left": null,
            "margin": null,
            "max_height": null,
            "max_width": null,
            "min_height": null,
            "min_width": null,
            "object_fit": null,
            "object_position": null,
            "order": null,
            "overflow": null,
            "overflow_x": null,
            "overflow_y": null,
            "padding": null,
            "right": null,
            "top": null,
            "visibility": null,
            "width": null
          }
        },
        "855ddfe0cc93472698be5a9b5944c91f": {
          "model_module": "@jupyter-widgets/controls",
          "model_name": "ProgressStyleModel",
          "model_module_version": "1.5.0",
          "state": {
            "_model_module": "@jupyter-widgets/controls",
            "_model_module_version": "1.5.0",
            "_model_name": "ProgressStyleModel",
            "_view_count": null,
            "_view_module": "@jupyter-widgets/base",
            "_view_module_version": "1.2.0",
            "_view_name": "StyleView",
            "bar_color": null,
            "description_width": ""
          }
        },
        "bcbcbafe16d0480aa51d5d1216f94c0d": {
          "model_module": "@jupyter-widgets/base",
          "model_name": "LayoutModel",
          "model_module_version": "1.2.0",
          "state": {
            "_model_module": "@jupyter-widgets/base",
            "_model_module_version": "1.2.0",
            "_model_name": "LayoutModel",
            "_view_count": null,
            "_view_module": "@jupyter-widgets/base",
            "_view_module_version": "1.2.0",
            "_view_name": "LayoutView",
            "align_content": null,
            "align_items": null,
            "align_self": null,
            "border": null,
            "bottom": null,
            "display": null,
            "flex": null,
            "flex_flow": null,
            "grid_area": null,
            "grid_auto_columns": null,
            "grid_auto_flow": null,
            "grid_auto_rows": null,
            "grid_column": null,
            "grid_gap": null,
            "grid_row": null,
            "grid_template_areas": null,
            "grid_template_columns": null,
            "grid_template_rows": null,
            "height": null,
            "justify_content": null,
            "justify_items": null,
            "left": null,
            "margin": null,
            "max_height": null,
            "max_width": null,
            "min_height": null,
            "min_width": null,
            "object_fit": null,
            "object_position": null,
            "order": null,
            "overflow": null,
            "overflow_x": null,
            "overflow_y": null,
            "padding": null,
            "right": null,
            "top": null,
            "visibility": null,
            "width": null
          }
        },
        "f94faf2eb0334c389a8c3a920ae8c1aa": {
          "model_module": "@jupyter-widgets/controls",
          "model_name": "DescriptionStyleModel",
          "model_module_version": "1.5.0",
          "state": {
            "_model_module": "@jupyter-widgets/controls",
            "_model_module_version": "1.5.0",
            "_model_name": "DescriptionStyleModel",
            "_view_count": null,
            "_view_module": "@jupyter-widgets/base",
            "_view_module_version": "1.2.0",
            "_view_name": "StyleView",
            "description_width": ""
          }
        },
        "22ab134880b84012bf2df62c89a7f354": {
          "model_module": "@jupyter-widgets/controls",
          "model_name": "HBoxModel",
          "model_module_version": "1.5.0",
          "state": {
            "_dom_classes": [],
            "_model_module": "@jupyter-widgets/controls",
            "_model_module_version": "1.5.0",
            "_model_name": "HBoxModel",
            "_view_count": null,
            "_view_module": "@jupyter-widgets/controls",
            "_view_module_version": "1.5.0",
            "_view_name": "HBoxView",
            "box_style": "",
            "children": [
              "IPY_MODEL_231a131330b7461793a38a9271fc333c",
              "IPY_MODEL_b5ac9b92451f4f6fa34d4830efe977d8",
              "IPY_MODEL_cd3350e839674353bc27de3f2be11b24"
            ],
            "layout": "IPY_MODEL_167edae350654f52850f88038d4d23f8"
          }
        },
        "231a131330b7461793a38a9271fc333c": {
          "model_module": "@jupyter-widgets/controls",
          "model_name": "HTMLModel",
          "model_module_version": "1.5.0",
          "state": {
            "_dom_classes": [],
            "_model_module": "@jupyter-widgets/controls",
            "_model_module_version": "1.5.0",
            "_model_name": "HTMLModel",
            "_view_count": null,
            "_view_module": "@jupyter-widgets/controls",
            "_view_module_version": "1.5.0",
            "_view_name": "HTMLView",
            "description": "",
            "description_tooltip": null,
            "layout": "IPY_MODEL_0bc38501b7e0458faf2812041da0c078",
            "placeholder": "​",
            "style": "IPY_MODEL_af9a590fac614d9991b65e576a75a62e",
            "value": "Downloading data: "
          }
        },
        "b5ac9b92451f4f6fa34d4830efe977d8": {
          "model_module": "@jupyter-widgets/controls",
          "model_name": "FloatProgressModel",
          "model_module_version": "1.5.0",
          "state": {
            "_dom_classes": [],
            "_model_module": "@jupyter-widgets/controls",
            "_model_module_version": "1.5.0",
            "_model_name": "FloatProgressModel",
            "_view_count": null,
            "_view_module": "@jupyter-widgets/controls",
            "_view_module_version": "1.5.0",
            "_view_name": "ProgressView",
            "bar_style": "success",
            "description": "",
            "description_tooltip": null,
            "layout": "IPY_MODEL_1c0eb36349d149ffb3f8b74ce6861325",
            "max": 1054280,
            "min": 0,
            "orientation": "horizontal",
            "style": "IPY_MODEL_9ba584d8edb9447e9f26cd5755e34f30",
            "value": 1054280
          }
        },
        "cd3350e839674353bc27de3f2be11b24": {
          "model_module": "@jupyter-widgets/controls",
          "model_name": "HTMLModel",
          "model_module_version": "1.5.0",
          "state": {
            "_dom_classes": [],
            "_model_module": "@jupyter-widgets/controls",
            "_model_module_version": "1.5.0",
            "_model_name": "HTMLModel",
            "_view_count": null,
            "_view_module": "@jupyter-widgets/controls",
            "_view_module_version": "1.5.0",
            "_view_name": "HTMLView",
            "description": "",
            "description_tooltip": null,
            "layout": "IPY_MODEL_25a4aaf1c52f44c380cd30fdc7ef9d84",
            "placeholder": "​",
            "style": "IPY_MODEL_332b858d7bf64bf3ac023e7a2d51524a",
            "value": " 4.85M/? [00:00&lt;00:00, 58.7MB/s]"
          }
        },
        "167edae350654f52850f88038d4d23f8": {
          "model_module": "@jupyter-widgets/base",
          "model_name": "LayoutModel",
          "model_module_version": "1.2.0",
          "state": {
            "_model_module": "@jupyter-widgets/base",
            "_model_module_version": "1.2.0",
            "_model_name": "LayoutModel",
            "_view_count": null,
            "_view_module": "@jupyter-widgets/base",
            "_view_module_version": "1.2.0",
            "_view_name": "LayoutView",
            "align_content": null,
            "align_items": null,
            "align_self": null,
            "border": null,
            "bottom": null,
            "display": null,
            "flex": null,
            "flex_flow": null,
            "grid_area": null,
            "grid_auto_columns": null,
            "grid_auto_flow": null,
            "grid_auto_rows": null,
            "grid_column": null,
            "grid_gap": null,
            "grid_row": null,
            "grid_template_areas": null,
            "grid_template_columns": null,
            "grid_template_rows": null,
            "height": null,
            "justify_content": null,
            "justify_items": null,
            "left": null,
            "margin": null,
            "max_height": null,
            "max_width": null,
            "min_height": null,
            "min_width": null,
            "object_fit": null,
            "object_position": null,
            "order": null,
            "overflow": null,
            "overflow_x": null,
            "overflow_y": null,
            "padding": null,
            "right": null,
            "top": null,
            "visibility": null,
            "width": null
          }
        },
        "0bc38501b7e0458faf2812041da0c078": {
          "model_module": "@jupyter-widgets/base",
          "model_name": "LayoutModel",
          "model_module_version": "1.2.0",
          "state": {
            "_model_module": "@jupyter-widgets/base",
            "_model_module_version": "1.2.0",
            "_model_name": "LayoutModel",
            "_view_count": null,
            "_view_module": "@jupyter-widgets/base",
            "_view_module_version": "1.2.0",
            "_view_name": "LayoutView",
            "align_content": null,
            "align_items": null,
            "align_self": null,
            "border": null,
            "bottom": null,
            "display": null,
            "flex": null,
            "flex_flow": null,
            "grid_area": null,
            "grid_auto_columns": null,
            "grid_auto_flow": null,
            "grid_auto_rows": null,
            "grid_column": null,
            "grid_gap": null,
            "grid_row": null,
            "grid_template_areas": null,
            "grid_template_columns": null,
            "grid_template_rows": null,
            "height": null,
            "justify_content": null,
            "justify_items": null,
            "left": null,
            "margin": null,
            "max_height": null,
            "max_width": null,
            "min_height": null,
            "min_width": null,
            "object_fit": null,
            "object_position": null,
            "order": null,
            "overflow": null,
            "overflow_x": null,
            "overflow_y": null,
            "padding": null,
            "right": null,
            "top": null,
            "visibility": null,
            "width": null
          }
        },
        "af9a590fac614d9991b65e576a75a62e": {
          "model_module": "@jupyter-widgets/controls",
          "model_name": "DescriptionStyleModel",
          "model_module_version": "1.5.0",
          "state": {
            "_model_module": "@jupyter-widgets/controls",
            "_model_module_version": "1.5.0",
            "_model_name": "DescriptionStyleModel",
            "_view_count": null,
            "_view_module": "@jupyter-widgets/base",
            "_view_module_version": "1.2.0",
            "_view_name": "StyleView",
            "description_width": ""
          }
        },
        "1c0eb36349d149ffb3f8b74ce6861325": {
          "model_module": "@jupyter-widgets/base",
          "model_name": "LayoutModel",
          "model_module_version": "1.2.0",
          "state": {
            "_model_module": "@jupyter-widgets/base",
            "_model_module_version": "1.2.0",
            "_model_name": "LayoutModel",
            "_view_count": null,
            "_view_module": "@jupyter-widgets/base",
            "_view_module_version": "1.2.0",
            "_view_name": "LayoutView",
            "align_content": null,
            "align_items": null,
            "align_self": null,
            "border": null,
            "bottom": null,
            "display": null,
            "flex": null,
            "flex_flow": null,
            "grid_area": null,
            "grid_auto_columns": null,
            "grid_auto_flow": null,
            "grid_auto_rows": null,
            "grid_column": null,
            "grid_gap": null,
            "grid_row": null,
            "grid_template_areas": null,
            "grid_template_columns": null,
            "grid_template_rows": null,
            "height": null,
            "justify_content": null,
            "justify_items": null,
            "left": null,
            "margin": null,
            "max_height": null,
            "max_width": null,
            "min_height": null,
            "min_width": null,
            "object_fit": null,
            "object_position": null,
            "order": null,
            "overflow": null,
            "overflow_x": null,
            "overflow_y": null,
            "padding": null,
            "right": null,
            "top": null,
            "visibility": null,
            "width": null
          }
        },
        "9ba584d8edb9447e9f26cd5755e34f30": {
          "model_module": "@jupyter-widgets/controls",
          "model_name": "ProgressStyleModel",
          "model_module_version": "1.5.0",
          "state": {
            "_model_module": "@jupyter-widgets/controls",
            "_model_module_version": "1.5.0",
            "_model_name": "ProgressStyleModel",
            "_view_count": null,
            "_view_module": "@jupyter-widgets/base",
            "_view_module_version": "1.2.0",
            "_view_name": "StyleView",
            "bar_color": null,
            "description_width": ""
          }
        },
        "25a4aaf1c52f44c380cd30fdc7ef9d84": {
          "model_module": "@jupyter-widgets/base",
          "model_name": "LayoutModel",
          "model_module_version": "1.2.0",
          "state": {
            "_model_module": "@jupyter-widgets/base",
            "_model_module_version": "1.2.0",
            "_model_name": "LayoutModel",
            "_view_count": null,
            "_view_module": "@jupyter-widgets/base",
            "_view_module_version": "1.2.0",
            "_view_name": "LayoutView",
            "align_content": null,
            "align_items": null,
            "align_self": null,
            "border": null,
            "bottom": null,
            "display": null,
            "flex": null,
            "flex_flow": null,
            "grid_area": null,
            "grid_auto_columns": null,
            "grid_auto_flow": null,
            "grid_auto_rows": null,
            "grid_column": null,
            "grid_gap": null,
            "grid_row": null,
            "grid_template_areas": null,
            "grid_template_columns": null,
            "grid_template_rows": null,
            "height": null,
            "justify_content": null,
            "justify_items": null,
            "left": null,
            "margin": null,
            "max_height": null,
            "max_width": null,
            "min_height": null,
            "min_width": null,
            "object_fit": null,
            "object_position": null,
            "order": null,
            "overflow": null,
            "overflow_x": null,
            "overflow_y": null,
            "padding": null,
            "right": null,
            "top": null,
            "visibility": null,
            "width": null
          }
        },
        "332b858d7bf64bf3ac023e7a2d51524a": {
          "model_module": "@jupyter-widgets/controls",
          "model_name": "DescriptionStyleModel",
          "model_module_version": "1.5.0",
          "state": {
            "_model_module": "@jupyter-widgets/controls",
            "_model_module_version": "1.5.0",
            "_model_name": "DescriptionStyleModel",
            "_view_count": null,
            "_view_module": "@jupyter-widgets/base",
            "_view_module_version": "1.2.0",
            "_view_name": "StyleView",
            "description_width": ""
          }
        },
        "a5c9b81aa1a8469389d46f30fa050483": {
          "model_module": "@jupyter-widgets/controls",
          "model_name": "HBoxModel",
          "model_module_version": "1.5.0",
          "state": {
            "_dom_classes": [],
            "_model_module": "@jupyter-widgets/controls",
            "_model_module_version": "1.5.0",
            "_model_name": "HBoxModel",
            "_view_count": null,
            "_view_module": "@jupyter-widgets/controls",
            "_view_module_version": "1.5.0",
            "_view_name": "HBoxView",
            "box_style": "",
            "children": [
              "IPY_MODEL_5a6650db773547618d56a4e038182750",
              "IPY_MODEL_d6aa66126d30468b87a41c3b57e2d64f",
              "IPY_MODEL_3b3ae7abae2448bba3f6a004d89438dc"
            ],
            "layout": "IPY_MODEL_3ce00eb8c76b4dbeb96469c061c9dc05"
          }
        },
        "5a6650db773547618d56a4e038182750": {
          "model_module": "@jupyter-widgets/controls",
          "model_name": "HTMLModel",
          "model_module_version": "1.5.0",
          "state": {
            "_dom_classes": [],
            "_model_module": "@jupyter-widgets/controls",
            "_model_module_version": "1.5.0",
            "_model_name": "HTMLModel",
            "_view_count": null,
            "_view_module": "@jupyter-widgets/controls",
            "_view_module_version": "1.5.0",
            "_view_name": "HTMLView",
            "description": "",
            "description_tooltip": null,
            "layout": "IPY_MODEL_f1aa6192f5a44ae79e0c11edce42c602",
            "placeholder": "​",
            "style": "IPY_MODEL_843503db69694a25889d214d99be9833",
            "value": "Extracting data files: 100%"
          }
        },
        "d6aa66126d30468b87a41c3b57e2d64f": {
          "model_module": "@jupyter-widgets/controls",
          "model_name": "FloatProgressModel",
          "model_module_version": "1.5.0",
          "state": {
            "_dom_classes": [],
            "_model_module": "@jupyter-widgets/controls",
            "_model_module_version": "1.5.0",
            "_model_name": "FloatProgressModel",
            "_view_count": null,
            "_view_module": "@jupyter-widgets/controls",
            "_view_module_version": "1.5.0",
            "_view_name": "ProgressView",
            "bar_style": "success",
            "description": "",
            "description_tooltip": null,
            "layout": "IPY_MODEL_85a5123ed74942408793525e54b804bc",
            "max": 2,
            "min": 0,
            "orientation": "horizontal",
            "style": "IPY_MODEL_c061018660e8423f8f05fb2d279188a9",
            "value": 2
          }
        },
        "3b3ae7abae2448bba3f6a004d89438dc": {
          "model_module": "@jupyter-widgets/controls",
          "model_name": "HTMLModel",
          "model_module_version": "1.5.0",
          "state": {
            "_dom_classes": [],
            "_model_module": "@jupyter-widgets/controls",
            "_model_module_version": "1.5.0",
            "_model_name": "HTMLModel",
            "_view_count": null,
            "_view_module": "@jupyter-widgets/controls",
            "_view_module_version": "1.5.0",
            "_view_name": "HTMLView",
            "description": "",
            "description_tooltip": null,
            "layout": "IPY_MODEL_bbca3d0e2129415888e4f5eb1b579443",
            "placeholder": "​",
            "style": "IPY_MODEL_324bb48e6e8842c9b07ac5f1e8909462",
            "value": " 2/2 [00:00&lt;00:00,  8.82it/s]"
          }
        },
        "3ce00eb8c76b4dbeb96469c061c9dc05": {
          "model_module": "@jupyter-widgets/base",
          "model_name": "LayoutModel",
          "model_module_version": "1.2.0",
          "state": {
            "_model_module": "@jupyter-widgets/base",
            "_model_module_version": "1.2.0",
            "_model_name": "LayoutModel",
            "_view_count": null,
            "_view_module": "@jupyter-widgets/base",
            "_view_module_version": "1.2.0",
            "_view_name": "LayoutView",
            "align_content": null,
            "align_items": null,
            "align_self": null,
            "border": null,
            "bottom": null,
            "display": null,
            "flex": null,
            "flex_flow": null,
            "grid_area": null,
            "grid_auto_columns": null,
            "grid_auto_flow": null,
            "grid_auto_rows": null,
            "grid_column": null,
            "grid_gap": null,
            "grid_row": null,
            "grid_template_areas": null,
            "grid_template_columns": null,
            "grid_template_rows": null,
            "height": null,
            "justify_content": null,
            "justify_items": null,
            "left": null,
            "margin": null,
            "max_height": null,
            "max_width": null,
            "min_height": null,
            "min_width": null,
            "object_fit": null,
            "object_position": null,
            "order": null,
            "overflow": null,
            "overflow_x": null,
            "overflow_y": null,
            "padding": null,
            "right": null,
            "top": null,
            "visibility": null,
            "width": null
          }
        },
        "f1aa6192f5a44ae79e0c11edce42c602": {
          "model_module": "@jupyter-widgets/base",
          "model_name": "LayoutModel",
          "model_module_version": "1.2.0",
          "state": {
            "_model_module": "@jupyter-widgets/base",
            "_model_module_version": "1.2.0",
            "_model_name": "LayoutModel",
            "_view_count": null,
            "_view_module": "@jupyter-widgets/base",
            "_view_module_version": "1.2.0",
            "_view_name": "LayoutView",
            "align_content": null,
            "align_items": null,
            "align_self": null,
            "border": null,
            "bottom": null,
            "display": null,
            "flex": null,
            "flex_flow": null,
            "grid_area": null,
            "grid_auto_columns": null,
            "grid_auto_flow": null,
            "grid_auto_rows": null,
            "grid_column": null,
            "grid_gap": null,
            "grid_row": null,
            "grid_template_areas": null,
            "grid_template_columns": null,
            "grid_template_rows": null,
            "height": null,
            "justify_content": null,
            "justify_items": null,
            "left": null,
            "margin": null,
            "max_height": null,
            "max_width": null,
            "min_height": null,
            "min_width": null,
            "object_fit": null,
            "object_position": null,
            "order": null,
            "overflow": null,
            "overflow_x": null,
            "overflow_y": null,
            "padding": null,
            "right": null,
            "top": null,
            "visibility": null,
            "width": null
          }
        },
        "843503db69694a25889d214d99be9833": {
          "model_module": "@jupyter-widgets/controls",
          "model_name": "DescriptionStyleModel",
          "model_module_version": "1.5.0",
          "state": {
            "_model_module": "@jupyter-widgets/controls",
            "_model_module_version": "1.5.0",
            "_model_name": "DescriptionStyleModel",
            "_view_count": null,
            "_view_module": "@jupyter-widgets/base",
            "_view_module_version": "1.2.0",
            "_view_name": "StyleView",
            "description_width": ""
          }
        },
        "85a5123ed74942408793525e54b804bc": {
          "model_module": "@jupyter-widgets/base",
          "model_name": "LayoutModel",
          "model_module_version": "1.2.0",
          "state": {
            "_model_module": "@jupyter-widgets/base",
            "_model_module_version": "1.2.0",
            "_model_name": "LayoutModel",
            "_view_count": null,
            "_view_module": "@jupyter-widgets/base",
            "_view_module_version": "1.2.0",
            "_view_name": "LayoutView",
            "align_content": null,
            "align_items": null,
            "align_self": null,
            "border": null,
            "bottom": null,
            "display": null,
            "flex": null,
            "flex_flow": null,
            "grid_area": null,
            "grid_auto_columns": null,
            "grid_auto_flow": null,
            "grid_auto_rows": null,
            "grid_column": null,
            "grid_gap": null,
            "grid_row": null,
            "grid_template_areas": null,
            "grid_template_columns": null,
            "grid_template_rows": null,
            "height": null,
            "justify_content": null,
            "justify_items": null,
            "left": null,
            "margin": null,
            "max_height": null,
            "max_width": null,
            "min_height": null,
            "min_width": null,
            "object_fit": null,
            "object_position": null,
            "order": null,
            "overflow": null,
            "overflow_x": null,
            "overflow_y": null,
            "padding": null,
            "right": null,
            "top": null,
            "visibility": null,
            "width": null
          }
        },
        "c061018660e8423f8f05fb2d279188a9": {
          "model_module": "@jupyter-widgets/controls",
          "model_name": "ProgressStyleModel",
          "model_module_version": "1.5.0",
          "state": {
            "_model_module": "@jupyter-widgets/controls",
            "_model_module_version": "1.5.0",
            "_model_name": "ProgressStyleModel",
            "_view_count": null,
            "_view_module": "@jupyter-widgets/base",
            "_view_module_version": "1.2.0",
            "_view_name": "StyleView",
            "bar_color": null,
            "description_width": ""
          }
        },
        "bbca3d0e2129415888e4f5eb1b579443": {
          "model_module": "@jupyter-widgets/base",
          "model_name": "LayoutModel",
          "model_module_version": "1.2.0",
          "state": {
            "_model_module": "@jupyter-widgets/base",
            "_model_module_version": "1.2.0",
            "_model_name": "LayoutModel",
            "_view_count": null,
            "_view_module": "@jupyter-widgets/base",
            "_view_module_version": "1.2.0",
            "_view_name": "LayoutView",
            "align_content": null,
            "align_items": null,
            "align_self": null,
            "border": null,
            "bottom": null,
            "display": null,
            "flex": null,
            "flex_flow": null,
            "grid_area": null,
            "grid_auto_columns": null,
            "grid_auto_flow": null,
            "grid_auto_rows": null,
            "grid_column": null,
            "grid_gap": null,
            "grid_row": null,
            "grid_template_areas": null,
            "grid_template_columns": null,
            "grid_template_rows": null,
            "height": null,
            "justify_content": null,
            "justify_items": null,
            "left": null,
            "margin": null,
            "max_height": null,
            "max_width": null,
            "min_height": null,
            "min_width": null,
            "object_fit": null,
            "object_position": null,
            "order": null,
            "overflow": null,
            "overflow_x": null,
            "overflow_y": null,
            "padding": null,
            "right": null,
            "top": null,
            "visibility": null,
            "width": null
          }
        },
        "324bb48e6e8842c9b07ac5f1e8909462": {
          "model_module": "@jupyter-widgets/controls",
          "model_name": "DescriptionStyleModel",
          "model_module_version": "1.5.0",
          "state": {
            "_model_module": "@jupyter-widgets/controls",
            "_model_module_version": "1.5.0",
            "_model_name": "DescriptionStyleModel",
            "_view_count": null,
            "_view_module": "@jupyter-widgets/base",
            "_view_module_version": "1.2.0",
            "_view_name": "StyleView",
            "description_width": ""
          }
        },
        "89d3ec462a39459db975c18d3832ead2": {
          "model_module": "@jupyter-widgets/controls",
          "model_name": "HBoxModel",
          "model_module_version": "1.5.0",
          "state": {
            "_dom_classes": [],
            "_model_module": "@jupyter-widgets/controls",
            "_model_module_version": "1.5.0",
            "_model_name": "HBoxModel",
            "_view_count": null,
            "_view_module": "@jupyter-widgets/controls",
            "_view_module_version": "1.5.0",
            "_view_name": "HBoxView",
            "box_style": "",
            "children": [
              "IPY_MODEL_9782be31bf8f4cbc836b399723c97866",
              "IPY_MODEL_eb3650ebc0b54105aed95913c014c668",
              "IPY_MODEL_be236c50ee5b4192a1b6867c71681f51"
            ],
            "layout": "IPY_MODEL_960476fe3db24ac9b5ffca88c727d524"
          }
        },
        "9782be31bf8f4cbc836b399723c97866": {
          "model_module": "@jupyter-widgets/controls",
          "model_name": "HTMLModel",
          "model_module_version": "1.5.0",
          "state": {
            "_dom_classes": [],
            "_model_module": "@jupyter-widgets/controls",
            "_model_module_version": "1.5.0",
            "_model_name": "HTMLModel",
            "_view_count": null,
            "_view_module": "@jupyter-widgets/controls",
            "_view_module_version": "1.5.0",
            "_view_name": "HTMLView",
            "description": "",
            "description_tooltip": null,
            "layout": "IPY_MODEL_a0dcdbaacef244778397b14a787371b4",
            "placeholder": "​",
            "style": "IPY_MODEL_501d5b02818f4092844e864b969907e1",
            "value": "Generating train split:  99%"
          }
        },
        "eb3650ebc0b54105aed95913c014c668": {
          "model_module": "@jupyter-widgets/controls",
          "model_name": "FloatProgressModel",
          "model_module_version": "1.5.0",
          "state": {
            "_dom_classes": [],
            "_model_module": "@jupyter-widgets/controls",
            "_model_module_version": "1.5.0",
            "_model_name": "FloatProgressModel",
            "_view_count": null,
            "_view_module": "@jupyter-widgets/controls",
            "_view_module_version": "1.5.0",
            "_view_name": "ProgressView",
            "bar_style": "",
            "description": "",
            "description_tooltip": null,
            "layout": "IPY_MODEL_847ca9bf341a4673828f2b42bac1986b",
            "max": 87599,
            "min": 0,
            "orientation": "horizontal",
            "style": "IPY_MODEL_c8ce0c753fef43e19aa97443fd1c6d5a",
            "value": 87599
          }
        },
        "be236c50ee5b4192a1b6867c71681f51": {
          "model_module": "@jupyter-widgets/controls",
          "model_name": "HTMLModel",
          "model_module_version": "1.5.0",
          "state": {
            "_dom_classes": [],
            "_model_module": "@jupyter-widgets/controls",
            "_model_module_version": "1.5.0",
            "_model_name": "HTMLModel",
            "_view_count": null,
            "_view_module": "@jupyter-widgets/controls",
            "_view_module_version": "1.5.0",
            "_view_name": "HTMLView",
            "description": "",
            "description_tooltip": null,
            "layout": "IPY_MODEL_8719215945184e4ea796e38ebb60a36b",
            "placeholder": "​",
            "style": "IPY_MODEL_6aa39a5ac96d4dee88324af36a7a5f11",
            "value": " 87000/87599 [00:06&lt;00:00, 15976.91 examples/s]"
          }
        },
        "960476fe3db24ac9b5ffca88c727d524": {
          "model_module": "@jupyter-widgets/base",
          "model_name": "LayoutModel",
          "model_module_version": "1.2.0",
          "state": {
            "_model_module": "@jupyter-widgets/base",
            "_model_module_version": "1.2.0",
            "_model_name": "LayoutModel",
            "_view_count": null,
            "_view_module": "@jupyter-widgets/base",
            "_view_module_version": "1.2.0",
            "_view_name": "LayoutView",
            "align_content": null,
            "align_items": null,
            "align_self": null,
            "border": null,
            "bottom": null,
            "display": null,
            "flex": null,
            "flex_flow": null,
            "grid_area": null,
            "grid_auto_columns": null,
            "grid_auto_flow": null,
            "grid_auto_rows": null,
            "grid_column": null,
            "grid_gap": null,
            "grid_row": null,
            "grid_template_areas": null,
            "grid_template_columns": null,
            "grid_template_rows": null,
            "height": null,
            "justify_content": null,
            "justify_items": null,
            "left": null,
            "margin": null,
            "max_height": null,
            "max_width": null,
            "min_height": null,
            "min_width": null,
            "object_fit": null,
            "object_position": null,
            "order": null,
            "overflow": null,
            "overflow_x": null,
            "overflow_y": null,
            "padding": null,
            "right": null,
            "top": null,
            "visibility": "hidden",
            "width": null
          }
        },
        "a0dcdbaacef244778397b14a787371b4": {
          "model_module": "@jupyter-widgets/base",
          "model_name": "LayoutModel",
          "model_module_version": "1.2.0",
          "state": {
            "_model_module": "@jupyter-widgets/base",
            "_model_module_version": "1.2.0",
            "_model_name": "LayoutModel",
            "_view_count": null,
            "_view_module": "@jupyter-widgets/base",
            "_view_module_version": "1.2.0",
            "_view_name": "LayoutView",
            "align_content": null,
            "align_items": null,
            "align_self": null,
            "border": null,
            "bottom": null,
            "display": null,
            "flex": null,
            "flex_flow": null,
            "grid_area": null,
            "grid_auto_columns": null,
            "grid_auto_flow": null,
            "grid_auto_rows": null,
            "grid_column": null,
            "grid_gap": null,
            "grid_row": null,
            "grid_template_areas": null,
            "grid_template_columns": null,
            "grid_template_rows": null,
            "height": null,
            "justify_content": null,
            "justify_items": null,
            "left": null,
            "margin": null,
            "max_height": null,
            "max_width": null,
            "min_height": null,
            "min_width": null,
            "object_fit": null,
            "object_position": null,
            "order": null,
            "overflow": null,
            "overflow_x": null,
            "overflow_y": null,
            "padding": null,
            "right": null,
            "top": null,
            "visibility": null,
            "width": null
          }
        },
        "501d5b02818f4092844e864b969907e1": {
          "model_module": "@jupyter-widgets/controls",
          "model_name": "DescriptionStyleModel",
          "model_module_version": "1.5.0",
          "state": {
            "_model_module": "@jupyter-widgets/controls",
            "_model_module_version": "1.5.0",
            "_model_name": "DescriptionStyleModel",
            "_view_count": null,
            "_view_module": "@jupyter-widgets/base",
            "_view_module_version": "1.2.0",
            "_view_name": "StyleView",
            "description_width": ""
          }
        },
        "847ca9bf341a4673828f2b42bac1986b": {
          "model_module": "@jupyter-widgets/base",
          "model_name": "LayoutModel",
          "model_module_version": "1.2.0",
          "state": {
            "_model_module": "@jupyter-widgets/base",
            "_model_module_version": "1.2.0",
            "_model_name": "LayoutModel",
            "_view_count": null,
            "_view_module": "@jupyter-widgets/base",
            "_view_module_version": "1.2.0",
            "_view_name": "LayoutView",
            "align_content": null,
            "align_items": null,
            "align_self": null,
            "border": null,
            "bottom": null,
            "display": null,
            "flex": null,
            "flex_flow": null,
            "grid_area": null,
            "grid_auto_columns": null,
            "grid_auto_flow": null,
            "grid_auto_rows": null,
            "grid_column": null,
            "grid_gap": null,
            "grid_row": null,
            "grid_template_areas": null,
            "grid_template_columns": null,
            "grid_template_rows": null,
            "height": null,
            "justify_content": null,
            "justify_items": null,
            "left": null,
            "margin": null,
            "max_height": null,
            "max_width": null,
            "min_height": null,
            "min_width": null,
            "object_fit": null,
            "object_position": null,
            "order": null,
            "overflow": null,
            "overflow_x": null,
            "overflow_y": null,
            "padding": null,
            "right": null,
            "top": null,
            "visibility": null,
            "width": null
          }
        },
        "c8ce0c753fef43e19aa97443fd1c6d5a": {
          "model_module": "@jupyter-widgets/controls",
          "model_name": "ProgressStyleModel",
          "model_module_version": "1.5.0",
          "state": {
            "_model_module": "@jupyter-widgets/controls",
            "_model_module_version": "1.5.0",
            "_model_name": "ProgressStyleModel",
            "_view_count": null,
            "_view_module": "@jupyter-widgets/base",
            "_view_module_version": "1.2.0",
            "_view_name": "StyleView",
            "bar_color": null,
            "description_width": ""
          }
        },
        "8719215945184e4ea796e38ebb60a36b": {
          "model_module": "@jupyter-widgets/base",
          "model_name": "LayoutModel",
          "model_module_version": "1.2.0",
          "state": {
            "_model_module": "@jupyter-widgets/base",
            "_model_module_version": "1.2.0",
            "_model_name": "LayoutModel",
            "_view_count": null,
            "_view_module": "@jupyter-widgets/base",
            "_view_module_version": "1.2.0",
            "_view_name": "LayoutView",
            "align_content": null,
            "align_items": null,
            "align_self": null,
            "border": null,
            "bottom": null,
            "display": null,
            "flex": null,
            "flex_flow": null,
            "grid_area": null,
            "grid_auto_columns": null,
            "grid_auto_flow": null,
            "grid_auto_rows": null,
            "grid_column": null,
            "grid_gap": null,
            "grid_row": null,
            "grid_template_areas": null,
            "grid_template_columns": null,
            "grid_template_rows": null,
            "height": null,
            "justify_content": null,
            "justify_items": null,
            "left": null,
            "margin": null,
            "max_height": null,
            "max_width": null,
            "min_height": null,
            "min_width": null,
            "object_fit": null,
            "object_position": null,
            "order": null,
            "overflow": null,
            "overflow_x": null,
            "overflow_y": null,
            "padding": null,
            "right": null,
            "top": null,
            "visibility": null,
            "width": null
          }
        },
        "6aa39a5ac96d4dee88324af36a7a5f11": {
          "model_module": "@jupyter-widgets/controls",
          "model_name": "DescriptionStyleModel",
          "model_module_version": "1.5.0",
          "state": {
            "_model_module": "@jupyter-widgets/controls",
            "_model_module_version": "1.5.0",
            "_model_name": "DescriptionStyleModel",
            "_view_count": null,
            "_view_module": "@jupyter-widgets/base",
            "_view_module_version": "1.2.0",
            "_view_name": "StyleView",
            "description_width": ""
          }
        },
        "e9910cb1d3cb4c64ad41b3cd84c873db": {
          "model_module": "@jupyter-widgets/controls",
          "model_name": "HBoxModel",
          "model_module_version": "1.5.0",
          "state": {
            "_dom_classes": [],
            "_model_module": "@jupyter-widgets/controls",
            "_model_module_version": "1.5.0",
            "_model_name": "HBoxModel",
            "_view_count": null,
            "_view_module": "@jupyter-widgets/controls",
            "_view_module_version": "1.5.0",
            "_view_name": "HBoxView",
            "box_style": "",
            "children": [
              "IPY_MODEL_ff5cced12111495c9d7f1fb48bf3bcba",
              "IPY_MODEL_9ec7ee7f6a3c45a48344e9a00ad04277",
              "IPY_MODEL_6e8c7529ed104eb590ef869e9fe27dcc"
            ],
            "layout": "IPY_MODEL_4e63446e34fd44808ce25ce92c4dfb3d"
          }
        },
        "ff5cced12111495c9d7f1fb48bf3bcba": {
          "model_module": "@jupyter-widgets/controls",
          "model_name": "HTMLModel",
          "model_module_version": "1.5.0",
          "state": {
            "_dom_classes": [],
            "_model_module": "@jupyter-widgets/controls",
            "_model_module_version": "1.5.0",
            "_model_name": "HTMLModel",
            "_view_count": null,
            "_view_module": "@jupyter-widgets/controls",
            "_view_module_version": "1.5.0",
            "_view_name": "HTMLView",
            "description": "",
            "description_tooltip": null,
            "layout": "IPY_MODEL_e0d9f1aa654b43f4a2956d1d6c39d9d0",
            "placeholder": "​",
            "style": "IPY_MODEL_304160d9ed374517baaff92692f3ec84",
            "value": "Generating validation split:  99%"
          }
        },
        "9ec7ee7f6a3c45a48344e9a00ad04277": {
          "model_module": "@jupyter-widgets/controls",
          "model_name": "FloatProgressModel",
          "model_module_version": "1.5.0",
          "state": {
            "_dom_classes": [],
            "_model_module": "@jupyter-widgets/controls",
            "_model_module_version": "1.5.0",
            "_model_name": "FloatProgressModel",
            "_view_count": null,
            "_view_module": "@jupyter-widgets/controls",
            "_view_module_version": "1.5.0",
            "_view_name": "ProgressView",
            "bar_style": "",
            "description": "",
            "description_tooltip": null,
            "layout": "IPY_MODEL_b6f3ad00894841178954856e6f16d79b",
            "max": 10570,
            "min": 0,
            "orientation": "horizontal",
            "style": "IPY_MODEL_5eac42b32a894f52a56ab8b05538b7c6",
            "value": 10570
          }
        },
        "6e8c7529ed104eb590ef869e9fe27dcc": {
          "model_module": "@jupyter-widgets/controls",
          "model_name": "HTMLModel",
          "model_module_version": "1.5.0",
          "state": {
            "_dom_classes": [],
            "_model_module": "@jupyter-widgets/controls",
            "_model_module_version": "1.5.0",
            "_model_name": "HTMLModel",
            "_view_count": null,
            "_view_module": "@jupyter-widgets/controls",
            "_view_module_version": "1.5.0",
            "_view_name": "HTMLView",
            "description": "",
            "description_tooltip": null,
            "layout": "IPY_MODEL_6145baa90669459db04b7ae6d6b3084f",
            "placeholder": "​",
            "style": "IPY_MODEL_b49d32f14edd409c9776182490b694c0",
            "value": " 10450/10570 [00:01&lt;00:00, 6908.71 examples/s]"
          }
        },
        "4e63446e34fd44808ce25ce92c4dfb3d": {
          "model_module": "@jupyter-widgets/base",
          "model_name": "LayoutModel",
          "model_module_version": "1.2.0",
          "state": {
            "_model_module": "@jupyter-widgets/base",
            "_model_module_version": "1.2.0",
            "_model_name": "LayoutModel",
            "_view_count": null,
            "_view_module": "@jupyter-widgets/base",
            "_view_module_version": "1.2.0",
            "_view_name": "LayoutView",
            "align_content": null,
            "align_items": null,
            "align_self": null,
            "border": null,
            "bottom": null,
            "display": null,
            "flex": null,
            "flex_flow": null,
            "grid_area": null,
            "grid_auto_columns": null,
            "grid_auto_flow": null,
            "grid_auto_rows": null,
            "grid_column": null,
            "grid_gap": null,
            "grid_row": null,
            "grid_template_areas": null,
            "grid_template_columns": null,
            "grid_template_rows": null,
            "height": null,
            "justify_content": null,
            "justify_items": null,
            "left": null,
            "margin": null,
            "max_height": null,
            "max_width": null,
            "min_height": null,
            "min_width": null,
            "object_fit": null,
            "object_position": null,
            "order": null,
            "overflow": null,
            "overflow_x": null,
            "overflow_y": null,
            "padding": null,
            "right": null,
            "top": null,
            "visibility": "hidden",
            "width": null
          }
        },
        "e0d9f1aa654b43f4a2956d1d6c39d9d0": {
          "model_module": "@jupyter-widgets/base",
          "model_name": "LayoutModel",
          "model_module_version": "1.2.0",
          "state": {
            "_model_module": "@jupyter-widgets/base",
            "_model_module_version": "1.2.0",
            "_model_name": "LayoutModel",
            "_view_count": null,
            "_view_module": "@jupyter-widgets/base",
            "_view_module_version": "1.2.0",
            "_view_name": "LayoutView",
            "align_content": null,
            "align_items": null,
            "align_self": null,
            "border": null,
            "bottom": null,
            "display": null,
            "flex": null,
            "flex_flow": null,
            "grid_area": null,
            "grid_auto_columns": null,
            "grid_auto_flow": null,
            "grid_auto_rows": null,
            "grid_column": null,
            "grid_gap": null,
            "grid_row": null,
            "grid_template_areas": null,
            "grid_template_columns": null,
            "grid_template_rows": null,
            "height": null,
            "justify_content": null,
            "justify_items": null,
            "left": null,
            "margin": null,
            "max_height": null,
            "max_width": null,
            "min_height": null,
            "min_width": null,
            "object_fit": null,
            "object_position": null,
            "order": null,
            "overflow": null,
            "overflow_x": null,
            "overflow_y": null,
            "padding": null,
            "right": null,
            "top": null,
            "visibility": null,
            "width": null
          }
        },
        "304160d9ed374517baaff92692f3ec84": {
          "model_module": "@jupyter-widgets/controls",
          "model_name": "DescriptionStyleModel",
          "model_module_version": "1.5.0",
          "state": {
            "_model_module": "@jupyter-widgets/controls",
            "_model_module_version": "1.5.0",
            "_model_name": "DescriptionStyleModel",
            "_view_count": null,
            "_view_module": "@jupyter-widgets/base",
            "_view_module_version": "1.2.0",
            "_view_name": "StyleView",
            "description_width": ""
          }
        },
        "b6f3ad00894841178954856e6f16d79b": {
          "model_module": "@jupyter-widgets/base",
          "model_name": "LayoutModel",
          "model_module_version": "1.2.0",
          "state": {
            "_model_module": "@jupyter-widgets/base",
            "_model_module_version": "1.2.0",
            "_model_name": "LayoutModel",
            "_view_count": null,
            "_view_module": "@jupyter-widgets/base",
            "_view_module_version": "1.2.0",
            "_view_name": "LayoutView",
            "align_content": null,
            "align_items": null,
            "align_self": null,
            "border": null,
            "bottom": null,
            "display": null,
            "flex": null,
            "flex_flow": null,
            "grid_area": null,
            "grid_auto_columns": null,
            "grid_auto_flow": null,
            "grid_auto_rows": null,
            "grid_column": null,
            "grid_gap": null,
            "grid_row": null,
            "grid_template_areas": null,
            "grid_template_columns": null,
            "grid_template_rows": null,
            "height": null,
            "justify_content": null,
            "justify_items": null,
            "left": null,
            "margin": null,
            "max_height": null,
            "max_width": null,
            "min_height": null,
            "min_width": null,
            "object_fit": null,
            "object_position": null,
            "order": null,
            "overflow": null,
            "overflow_x": null,
            "overflow_y": null,
            "padding": null,
            "right": null,
            "top": null,
            "visibility": null,
            "width": null
          }
        },
        "5eac42b32a894f52a56ab8b05538b7c6": {
          "model_module": "@jupyter-widgets/controls",
          "model_name": "ProgressStyleModel",
          "model_module_version": "1.5.0",
          "state": {
            "_model_module": "@jupyter-widgets/controls",
            "_model_module_version": "1.5.0",
            "_model_name": "ProgressStyleModel",
            "_view_count": null,
            "_view_module": "@jupyter-widgets/base",
            "_view_module_version": "1.2.0",
            "_view_name": "StyleView",
            "bar_color": null,
            "description_width": ""
          }
        },
        "6145baa90669459db04b7ae6d6b3084f": {
          "model_module": "@jupyter-widgets/base",
          "model_name": "LayoutModel",
          "model_module_version": "1.2.0",
          "state": {
            "_model_module": "@jupyter-widgets/base",
            "_model_module_version": "1.2.0",
            "_model_name": "LayoutModel",
            "_view_count": null,
            "_view_module": "@jupyter-widgets/base",
            "_view_module_version": "1.2.0",
            "_view_name": "LayoutView",
            "align_content": null,
            "align_items": null,
            "align_self": null,
            "border": null,
            "bottom": null,
            "display": null,
            "flex": null,
            "flex_flow": null,
            "grid_area": null,
            "grid_auto_columns": null,
            "grid_auto_flow": null,
            "grid_auto_rows": null,
            "grid_column": null,
            "grid_gap": null,
            "grid_row": null,
            "grid_template_areas": null,
            "grid_template_columns": null,
            "grid_template_rows": null,
            "height": null,
            "justify_content": null,
            "justify_items": null,
            "left": null,
            "margin": null,
            "max_height": null,
            "max_width": null,
            "min_height": null,
            "min_width": null,
            "object_fit": null,
            "object_position": null,
            "order": null,
            "overflow": null,
            "overflow_x": null,
            "overflow_y": null,
            "padding": null,
            "right": null,
            "top": null,
            "visibility": null,
            "width": null
          }
        },
        "b49d32f14edd409c9776182490b694c0": {
          "model_module": "@jupyter-widgets/controls",
          "model_name": "DescriptionStyleModel",
          "model_module_version": "1.5.0",
          "state": {
            "_model_module": "@jupyter-widgets/controls",
            "_model_module_version": "1.5.0",
            "_model_name": "DescriptionStyleModel",
            "_view_count": null,
            "_view_module": "@jupyter-widgets/base",
            "_view_module_version": "1.2.0",
            "_view_name": "StyleView",
            "description_width": ""
          }
        },
        "bcddded9eab04c379185204daa23b3c2": {
          "model_module": "@jupyter-widgets/controls",
          "model_name": "HBoxModel",
          "model_module_version": "1.5.0",
          "state": {
            "_dom_classes": [],
            "_model_module": "@jupyter-widgets/controls",
            "_model_module_version": "1.5.0",
            "_model_name": "HBoxModel",
            "_view_count": null,
            "_view_module": "@jupyter-widgets/controls",
            "_view_module_version": "1.5.0",
            "_view_name": "HBoxView",
            "box_style": "",
            "children": [
              "IPY_MODEL_26626efe6533449fb03deee577fdfdbb",
              "IPY_MODEL_600289216f6f4461ab412ebdff137690",
              "IPY_MODEL_d6176cc2b11241da93bf3a71375af0de"
            ],
            "layout": "IPY_MODEL_9b3cb02b9a2d4c219c4812066c52fcf3"
          }
        },
        "26626efe6533449fb03deee577fdfdbb": {
          "model_module": "@jupyter-widgets/controls",
          "model_name": "HTMLModel",
          "model_module_version": "1.5.0",
          "state": {
            "_dom_classes": [],
            "_model_module": "@jupyter-widgets/controls",
            "_model_module_version": "1.5.0",
            "_model_name": "HTMLModel",
            "_view_count": null,
            "_view_module": "@jupyter-widgets/controls",
            "_view_module_version": "1.5.0",
            "_view_name": "HTMLView",
            "description": "",
            "description_tooltip": null,
            "layout": "IPY_MODEL_8eef930663cb4f26890c2435d45ac74a",
            "placeholder": "​",
            "style": "IPY_MODEL_23ea807483df4d0db1e2440d95d9dd83",
            "value": "100%"
          }
        },
        "600289216f6f4461ab412ebdff137690": {
          "model_module": "@jupyter-widgets/controls",
          "model_name": "FloatProgressModel",
          "model_module_version": "1.5.0",
          "state": {
            "_dom_classes": [],
            "_model_module": "@jupyter-widgets/controls",
            "_model_module_version": "1.5.0",
            "_model_name": "FloatProgressModel",
            "_view_count": null,
            "_view_module": "@jupyter-widgets/controls",
            "_view_module_version": "1.5.0",
            "_view_name": "ProgressView",
            "bar_style": "success",
            "description": "",
            "description_tooltip": null,
            "layout": "IPY_MODEL_861d17ce57784d74aa694bb2c5bb7d3c",
            "max": 2,
            "min": 0,
            "orientation": "horizontal",
            "style": "IPY_MODEL_458f67eaa7f24f6bafaf1e3ed341b9e7",
            "value": 2
          }
        },
        "d6176cc2b11241da93bf3a71375af0de": {
          "model_module": "@jupyter-widgets/controls",
          "model_name": "HTMLModel",
          "model_module_version": "1.5.0",
          "state": {
            "_dom_classes": [],
            "_model_module": "@jupyter-widgets/controls",
            "_model_module_version": "1.5.0",
            "_model_name": "HTMLModel",
            "_view_count": null,
            "_view_module": "@jupyter-widgets/controls",
            "_view_module_version": "1.5.0",
            "_view_name": "HTMLView",
            "description": "",
            "description_tooltip": null,
            "layout": "IPY_MODEL_3fd415bbc2fd407e9bf1a906fbb0d4d3",
            "placeholder": "​",
            "style": "IPY_MODEL_fec261c7ef5447fb8b8a1aa898be1c53",
            "value": " 2/2 [00:00&lt;00:00, 55.22it/s]"
          }
        },
        "9b3cb02b9a2d4c219c4812066c52fcf3": {
          "model_module": "@jupyter-widgets/base",
          "model_name": "LayoutModel",
          "model_module_version": "1.2.0",
          "state": {
            "_model_module": "@jupyter-widgets/base",
            "_model_module_version": "1.2.0",
            "_model_name": "LayoutModel",
            "_view_count": null,
            "_view_module": "@jupyter-widgets/base",
            "_view_module_version": "1.2.0",
            "_view_name": "LayoutView",
            "align_content": null,
            "align_items": null,
            "align_self": null,
            "border": null,
            "bottom": null,
            "display": null,
            "flex": null,
            "flex_flow": null,
            "grid_area": null,
            "grid_auto_columns": null,
            "grid_auto_flow": null,
            "grid_auto_rows": null,
            "grid_column": null,
            "grid_gap": null,
            "grid_row": null,
            "grid_template_areas": null,
            "grid_template_columns": null,
            "grid_template_rows": null,
            "height": null,
            "justify_content": null,
            "justify_items": null,
            "left": null,
            "margin": null,
            "max_height": null,
            "max_width": null,
            "min_height": null,
            "min_width": null,
            "object_fit": null,
            "object_position": null,
            "order": null,
            "overflow": null,
            "overflow_x": null,
            "overflow_y": null,
            "padding": null,
            "right": null,
            "top": null,
            "visibility": null,
            "width": null
          }
        },
        "8eef930663cb4f26890c2435d45ac74a": {
          "model_module": "@jupyter-widgets/base",
          "model_name": "LayoutModel",
          "model_module_version": "1.2.0",
          "state": {
            "_model_module": "@jupyter-widgets/base",
            "_model_module_version": "1.2.0",
            "_model_name": "LayoutModel",
            "_view_count": null,
            "_view_module": "@jupyter-widgets/base",
            "_view_module_version": "1.2.0",
            "_view_name": "LayoutView",
            "align_content": null,
            "align_items": null,
            "align_self": null,
            "border": null,
            "bottom": null,
            "display": null,
            "flex": null,
            "flex_flow": null,
            "grid_area": null,
            "grid_auto_columns": null,
            "grid_auto_flow": null,
            "grid_auto_rows": null,
            "grid_column": null,
            "grid_gap": null,
            "grid_row": null,
            "grid_template_areas": null,
            "grid_template_columns": null,
            "grid_template_rows": null,
            "height": null,
            "justify_content": null,
            "justify_items": null,
            "left": null,
            "margin": null,
            "max_height": null,
            "max_width": null,
            "min_height": null,
            "min_width": null,
            "object_fit": null,
            "object_position": null,
            "order": null,
            "overflow": null,
            "overflow_x": null,
            "overflow_y": null,
            "padding": null,
            "right": null,
            "top": null,
            "visibility": null,
            "width": null
          }
        },
        "23ea807483df4d0db1e2440d95d9dd83": {
          "model_module": "@jupyter-widgets/controls",
          "model_name": "DescriptionStyleModel",
          "model_module_version": "1.5.0",
          "state": {
            "_model_module": "@jupyter-widgets/controls",
            "_model_module_version": "1.5.0",
            "_model_name": "DescriptionStyleModel",
            "_view_count": null,
            "_view_module": "@jupyter-widgets/base",
            "_view_module_version": "1.2.0",
            "_view_name": "StyleView",
            "description_width": ""
          }
        },
        "861d17ce57784d74aa694bb2c5bb7d3c": {
          "model_module": "@jupyter-widgets/base",
          "model_name": "LayoutModel",
          "model_module_version": "1.2.0",
          "state": {
            "_model_module": "@jupyter-widgets/base",
            "_model_module_version": "1.2.0",
            "_model_name": "LayoutModel",
            "_view_count": null,
            "_view_module": "@jupyter-widgets/base",
            "_view_module_version": "1.2.0",
            "_view_name": "LayoutView",
            "align_content": null,
            "align_items": null,
            "align_self": null,
            "border": null,
            "bottom": null,
            "display": null,
            "flex": null,
            "flex_flow": null,
            "grid_area": null,
            "grid_auto_columns": null,
            "grid_auto_flow": null,
            "grid_auto_rows": null,
            "grid_column": null,
            "grid_gap": null,
            "grid_row": null,
            "grid_template_areas": null,
            "grid_template_columns": null,
            "grid_template_rows": null,
            "height": null,
            "justify_content": null,
            "justify_items": null,
            "left": null,
            "margin": null,
            "max_height": null,
            "max_width": null,
            "min_height": null,
            "min_width": null,
            "object_fit": null,
            "object_position": null,
            "order": null,
            "overflow": null,
            "overflow_x": null,
            "overflow_y": null,
            "padding": null,
            "right": null,
            "top": null,
            "visibility": null,
            "width": null
          }
        },
        "458f67eaa7f24f6bafaf1e3ed341b9e7": {
          "model_module": "@jupyter-widgets/controls",
          "model_name": "ProgressStyleModel",
          "model_module_version": "1.5.0",
          "state": {
            "_model_module": "@jupyter-widgets/controls",
            "_model_module_version": "1.5.0",
            "_model_name": "ProgressStyleModel",
            "_view_count": null,
            "_view_module": "@jupyter-widgets/base",
            "_view_module_version": "1.2.0",
            "_view_name": "StyleView",
            "bar_color": null,
            "description_width": ""
          }
        },
        "3fd415bbc2fd407e9bf1a906fbb0d4d3": {
          "model_module": "@jupyter-widgets/base",
          "model_name": "LayoutModel",
          "model_module_version": "1.2.0",
          "state": {
            "_model_module": "@jupyter-widgets/base",
            "_model_module_version": "1.2.0",
            "_model_name": "LayoutModel",
            "_view_count": null,
            "_view_module": "@jupyter-widgets/base",
            "_view_module_version": "1.2.0",
            "_view_name": "LayoutView",
            "align_content": null,
            "align_items": null,
            "align_self": null,
            "border": null,
            "bottom": null,
            "display": null,
            "flex": null,
            "flex_flow": null,
            "grid_area": null,
            "grid_auto_columns": null,
            "grid_auto_flow": null,
            "grid_auto_rows": null,
            "grid_column": null,
            "grid_gap": null,
            "grid_row": null,
            "grid_template_areas": null,
            "grid_template_columns": null,
            "grid_template_rows": null,
            "height": null,
            "justify_content": null,
            "justify_items": null,
            "left": null,
            "margin": null,
            "max_height": null,
            "max_width": null,
            "min_height": null,
            "min_width": null,
            "object_fit": null,
            "object_position": null,
            "order": null,
            "overflow": null,
            "overflow_x": null,
            "overflow_y": null,
            "padding": null,
            "right": null,
            "top": null,
            "visibility": null,
            "width": null
          }
        },
        "fec261c7ef5447fb8b8a1aa898be1c53": {
          "model_module": "@jupyter-widgets/controls",
          "model_name": "DescriptionStyleModel",
          "model_module_version": "1.5.0",
          "state": {
            "_model_module": "@jupyter-widgets/controls",
            "_model_module_version": "1.5.0",
            "_model_name": "DescriptionStyleModel",
            "_view_count": null,
            "_view_module": "@jupyter-widgets/base",
            "_view_module_version": "1.2.0",
            "_view_name": "StyleView",
            "description_width": ""
          }
        },
        "ca07ecbbc4374e2e804245735f0e1da0": {
          "model_module": "@jupyter-widgets/controls",
          "model_name": "HBoxModel",
          "model_module_version": "1.5.0",
          "state": {
            "_dom_classes": [],
            "_model_module": "@jupyter-widgets/controls",
            "_model_module_version": "1.5.0",
            "_model_name": "HBoxModel",
            "_view_count": null,
            "_view_module": "@jupyter-widgets/controls",
            "_view_module_version": "1.5.0",
            "_view_name": "HBoxView",
            "box_style": "",
            "children": [
              "IPY_MODEL_b45155fcca704f59a1b09eb0f833d38e",
              "IPY_MODEL_1832d101baf34112ab888a4d61dbb0f4",
              "IPY_MODEL_1ba9f34341064782a26e353efb6b7caf"
            ],
            "layout": "IPY_MODEL_37dd335d9bc948ac96819c0b70d0d211"
          }
        },
        "b45155fcca704f59a1b09eb0f833d38e": {
          "model_module": "@jupyter-widgets/controls",
          "model_name": "HTMLModel",
          "model_module_version": "1.5.0",
          "state": {
            "_dom_classes": [],
            "_model_module": "@jupyter-widgets/controls",
            "_model_module_version": "1.5.0",
            "_model_name": "HTMLModel",
            "_view_count": null,
            "_view_module": "@jupyter-widgets/controls",
            "_view_module_version": "1.5.0",
            "_view_name": "HTMLView",
            "description": "",
            "description_tooltip": null,
            "layout": "IPY_MODEL_78e605f9a5044932ab9baa1fd320d7e7",
            "placeholder": "​",
            "style": "IPY_MODEL_e2f7b3bb40574b979d1e4efbfb2b97ce",
            "value": "Filter:  98%"
          }
        },
        "1832d101baf34112ab888a4d61dbb0f4": {
          "model_module": "@jupyter-widgets/controls",
          "model_name": "FloatProgressModel",
          "model_module_version": "1.5.0",
          "state": {
            "_dom_classes": [],
            "_model_module": "@jupyter-widgets/controls",
            "_model_module_version": "1.5.0",
            "_model_name": "FloatProgressModel",
            "_view_count": null,
            "_view_module": "@jupyter-widgets/controls",
            "_view_module_version": "1.5.0",
            "_view_name": "ProgressView",
            "bar_style": "",
            "description": "",
            "description_tooltip": null,
            "layout": "IPY_MODEL_d56d55355aef40bf88b58c8bc3d792ac",
            "max": 87599,
            "min": 0,
            "orientation": "horizontal",
            "style": "IPY_MODEL_66b752e44080492780266f80152dbe35",
            "value": 87599
          }
        },
        "1ba9f34341064782a26e353efb6b7caf": {
          "model_module": "@jupyter-widgets/controls",
          "model_name": "HTMLModel",
          "model_module_version": "1.5.0",
          "state": {
            "_dom_classes": [],
            "_model_module": "@jupyter-widgets/controls",
            "_model_module_version": "1.5.0",
            "_model_name": "HTMLModel",
            "_view_count": null,
            "_view_module": "@jupyter-widgets/controls",
            "_view_module_version": "1.5.0",
            "_view_name": "HTMLView",
            "description": "",
            "description_tooltip": null,
            "layout": "IPY_MODEL_50d3350b268a4aa386f0382161d2ea00",
            "placeholder": "​",
            "style": "IPY_MODEL_78641c5395774111ae8ee6a0e25716ac",
            "value": " 86000/87599 [00:02&lt;00:00, 39300.43 examples/s]"
          }
        },
        "37dd335d9bc948ac96819c0b70d0d211": {
          "model_module": "@jupyter-widgets/base",
          "model_name": "LayoutModel",
          "model_module_version": "1.2.0",
          "state": {
            "_model_module": "@jupyter-widgets/base",
            "_model_module_version": "1.2.0",
            "_model_name": "LayoutModel",
            "_view_count": null,
            "_view_module": "@jupyter-widgets/base",
            "_view_module_version": "1.2.0",
            "_view_name": "LayoutView",
            "align_content": null,
            "align_items": null,
            "align_self": null,
            "border": null,
            "bottom": null,
            "display": null,
            "flex": null,
            "flex_flow": null,
            "grid_area": null,
            "grid_auto_columns": null,
            "grid_auto_flow": null,
            "grid_auto_rows": null,
            "grid_column": null,
            "grid_gap": null,
            "grid_row": null,
            "grid_template_areas": null,
            "grid_template_columns": null,
            "grid_template_rows": null,
            "height": null,
            "justify_content": null,
            "justify_items": null,
            "left": null,
            "margin": null,
            "max_height": null,
            "max_width": null,
            "min_height": null,
            "min_width": null,
            "object_fit": null,
            "object_position": null,
            "order": null,
            "overflow": null,
            "overflow_x": null,
            "overflow_y": null,
            "padding": null,
            "right": null,
            "top": null,
            "visibility": "hidden",
            "width": null
          }
        },
        "78e605f9a5044932ab9baa1fd320d7e7": {
          "model_module": "@jupyter-widgets/base",
          "model_name": "LayoutModel",
          "model_module_version": "1.2.0",
          "state": {
            "_model_module": "@jupyter-widgets/base",
            "_model_module_version": "1.2.0",
            "_model_name": "LayoutModel",
            "_view_count": null,
            "_view_module": "@jupyter-widgets/base",
            "_view_module_version": "1.2.0",
            "_view_name": "LayoutView",
            "align_content": null,
            "align_items": null,
            "align_self": null,
            "border": null,
            "bottom": null,
            "display": null,
            "flex": null,
            "flex_flow": null,
            "grid_area": null,
            "grid_auto_columns": null,
            "grid_auto_flow": null,
            "grid_auto_rows": null,
            "grid_column": null,
            "grid_gap": null,
            "grid_row": null,
            "grid_template_areas": null,
            "grid_template_columns": null,
            "grid_template_rows": null,
            "height": null,
            "justify_content": null,
            "justify_items": null,
            "left": null,
            "margin": null,
            "max_height": null,
            "max_width": null,
            "min_height": null,
            "min_width": null,
            "object_fit": null,
            "object_position": null,
            "order": null,
            "overflow": null,
            "overflow_x": null,
            "overflow_y": null,
            "padding": null,
            "right": null,
            "top": null,
            "visibility": null,
            "width": null
          }
        },
        "e2f7b3bb40574b979d1e4efbfb2b97ce": {
          "model_module": "@jupyter-widgets/controls",
          "model_name": "DescriptionStyleModel",
          "model_module_version": "1.5.0",
          "state": {
            "_model_module": "@jupyter-widgets/controls",
            "_model_module_version": "1.5.0",
            "_model_name": "DescriptionStyleModel",
            "_view_count": null,
            "_view_module": "@jupyter-widgets/base",
            "_view_module_version": "1.2.0",
            "_view_name": "StyleView",
            "description_width": ""
          }
        },
        "d56d55355aef40bf88b58c8bc3d792ac": {
          "model_module": "@jupyter-widgets/base",
          "model_name": "LayoutModel",
          "model_module_version": "1.2.0",
          "state": {
            "_model_module": "@jupyter-widgets/base",
            "_model_module_version": "1.2.0",
            "_model_name": "LayoutModel",
            "_view_count": null,
            "_view_module": "@jupyter-widgets/base",
            "_view_module_version": "1.2.0",
            "_view_name": "LayoutView",
            "align_content": null,
            "align_items": null,
            "align_self": null,
            "border": null,
            "bottom": null,
            "display": null,
            "flex": null,
            "flex_flow": null,
            "grid_area": null,
            "grid_auto_columns": null,
            "grid_auto_flow": null,
            "grid_auto_rows": null,
            "grid_column": null,
            "grid_gap": null,
            "grid_row": null,
            "grid_template_areas": null,
            "grid_template_columns": null,
            "grid_template_rows": null,
            "height": null,
            "justify_content": null,
            "justify_items": null,
            "left": null,
            "margin": null,
            "max_height": null,
            "max_width": null,
            "min_height": null,
            "min_width": null,
            "object_fit": null,
            "object_position": null,
            "order": null,
            "overflow": null,
            "overflow_x": null,
            "overflow_y": null,
            "padding": null,
            "right": null,
            "top": null,
            "visibility": null,
            "width": null
          }
        },
        "66b752e44080492780266f80152dbe35": {
          "model_module": "@jupyter-widgets/controls",
          "model_name": "ProgressStyleModel",
          "model_module_version": "1.5.0",
          "state": {
            "_model_module": "@jupyter-widgets/controls",
            "_model_module_version": "1.5.0",
            "_model_name": "ProgressStyleModel",
            "_view_count": null,
            "_view_module": "@jupyter-widgets/base",
            "_view_module_version": "1.2.0",
            "_view_name": "StyleView",
            "bar_color": null,
            "description_width": ""
          }
        },
        "50d3350b268a4aa386f0382161d2ea00": {
          "model_module": "@jupyter-widgets/base",
          "model_name": "LayoutModel",
          "model_module_version": "1.2.0",
          "state": {
            "_model_module": "@jupyter-widgets/base",
            "_model_module_version": "1.2.0",
            "_model_name": "LayoutModel",
            "_view_count": null,
            "_view_module": "@jupyter-widgets/base",
            "_view_module_version": "1.2.0",
            "_view_name": "LayoutView",
            "align_content": null,
            "align_items": null,
            "align_self": null,
            "border": null,
            "bottom": null,
            "display": null,
            "flex": null,
            "flex_flow": null,
            "grid_area": null,
            "grid_auto_columns": null,
            "grid_auto_flow": null,
            "grid_auto_rows": null,
            "grid_column": null,
            "grid_gap": null,
            "grid_row": null,
            "grid_template_areas": null,
            "grid_template_columns": null,
            "grid_template_rows": null,
            "height": null,
            "justify_content": null,
            "justify_items": null,
            "left": null,
            "margin": null,
            "max_height": null,
            "max_width": null,
            "min_height": null,
            "min_width": null,
            "object_fit": null,
            "object_position": null,
            "order": null,
            "overflow": null,
            "overflow_x": null,
            "overflow_y": null,
            "padding": null,
            "right": null,
            "top": null,
            "visibility": null,
            "width": null
          }
        },
        "78641c5395774111ae8ee6a0e25716ac": {
          "model_module": "@jupyter-widgets/controls",
          "model_name": "DescriptionStyleModel",
          "model_module_version": "1.5.0",
          "state": {
            "_model_module": "@jupyter-widgets/controls",
            "_model_module_version": "1.5.0",
            "_model_name": "DescriptionStyleModel",
            "_view_count": null,
            "_view_module": "@jupyter-widgets/base",
            "_view_module_version": "1.2.0",
            "_view_name": "StyleView",
            "description_width": ""
          }
        },
        "001971d8d6f54416b6af6d7f139241e2": {
          "model_module": "@jupyter-widgets/controls",
          "model_name": "HBoxModel",
          "model_module_version": "1.5.0",
          "state": {
            "_dom_classes": [],
            "_model_module": "@jupyter-widgets/controls",
            "_model_module_version": "1.5.0",
            "_model_name": "HBoxModel",
            "_view_count": null,
            "_view_module": "@jupyter-widgets/controls",
            "_view_module_version": "1.5.0",
            "_view_name": "HBoxView",
            "box_style": "",
            "children": [
              "IPY_MODEL_ff0402837db345dbab7e31592d41b2f7",
              "IPY_MODEL_c4b4a981654c4dada073c4e415b8b848",
              "IPY_MODEL_d080523d4f0445de93db9617e6236f60"
            ],
            "layout": "IPY_MODEL_99f5a1cfe38d45098976dbb5c7f8b9b8"
          }
        },
        "ff0402837db345dbab7e31592d41b2f7": {
          "model_module": "@jupyter-widgets/controls",
          "model_name": "HTMLModel",
          "model_module_version": "1.5.0",
          "state": {
            "_dom_classes": [],
            "_model_module": "@jupyter-widgets/controls",
            "_model_module_version": "1.5.0",
            "_model_name": "HTMLModel",
            "_view_count": null,
            "_view_module": "@jupyter-widgets/controls",
            "_view_module_version": "1.5.0",
            "_view_name": "HTMLView",
            "description": "",
            "description_tooltip": null,
            "layout": "IPY_MODEL_6f05f1ae05ba4bc694c61d9651f8d590",
            "placeholder": "​",
            "style": "IPY_MODEL_20433c9105674cbfaab00b96649d7c16",
            "value": "Downloading (…)okenizer_config.json: 100%"
          }
        },
        "c4b4a981654c4dada073c4e415b8b848": {
          "model_module": "@jupyter-widgets/controls",
          "model_name": "FloatProgressModel",
          "model_module_version": "1.5.0",
          "state": {
            "_dom_classes": [],
            "_model_module": "@jupyter-widgets/controls",
            "_model_module_version": "1.5.0",
            "_model_name": "FloatProgressModel",
            "_view_count": null,
            "_view_module": "@jupyter-widgets/controls",
            "_view_module_version": "1.5.0",
            "_view_name": "ProgressView",
            "bar_style": "success",
            "description": "",
            "description_tooltip": null,
            "layout": "IPY_MODEL_48ae5768a9ad4cad85625eddda072973",
            "max": 29,
            "min": 0,
            "orientation": "horizontal",
            "style": "IPY_MODEL_d4f68f2c64e74da3be57ae55ad89b745",
            "value": 29
          }
        },
        "d080523d4f0445de93db9617e6236f60": {
          "model_module": "@jupyter-widgets/controls",
          "model_name": "HTMLModel",
          "model_module_version": "1.5.0",
          "state": {
            "_dom_classes": [],
            "_model_module": "@jupyter-widgets/controls",
            "_model_module_version": "1.5.0",
            "_model_name": "HTMLModel",
            "_view_count": null,
            "_view_module": "@jupyter-widgets/controls",
            "_view_module_version": "1.5.0",
            "_view_name": "HTMLView",
            "description": "",
            "description_tooltip": null,
            "layout": "IPY_MODEL_74404aa1f9964e53895cd5e4200ecbb4",
            "placeholder": "​",
            "style": "IPY_MODEL_f8fe6b285e234603a880f7c3bd6534d9",
            "value": " 29.0/29.0 [00:00&lt;00:00, 2.09kB/s]"
          }
        },
        "99f5a1cfe38d45098976dbb5c7f8b9b8": {
          "model_module": "@jupyter-widgets/base",
          "model_name": "LayoutModel",
          "model_module_version": "1.2.0",
          "state": {
            "_model_module": "@jupyter-widgets/base",
            "_model_module_version": "1.2.0",
            "_model_name": "LayoutModel",
            "_view_count": null,
            "_view_module": "@jupyter-widgets/base",
            "_view_module_version": "1.2.0",
            "_view_name": "LayoutView",
            "align_content": null,
            "align_items": null,
            "align_self": null,
            "border": null,
            "bottom": null,
            "display": null,
            "flex": null,
            "flex_flow": null,
            "grid_area": null,
            "grid_auto_columns": null,
            "grid_auto_flow": null,
            "grid_auto_rows": null,
            "grid_column": null,
            "grid_gap": null,
            "grid_row": null,
            "grid_template_areas": null,
            "grid_template_columns": null,
            "grid_template_rows": null,
            "height": null,
            "justify_content": null,
            "justify_items": null,
            "left": null,
            "margin": null,
            "max_height": null,
            "max_width": null,
            "min_height": null,
            "min_width": null,
            "object_fit": null,
            "object_position": null,
            "order": null,
            "overflow": null,
            "overflow_x": null,
            "overflow_y": null,
            "padding": null,
            "right": null,
            "top": null,
            "visibility": null,
            "width": null
          }
        },
        "6f05f1ae05ba4bc694c61d9651f8d590": {
          "model_module": "@jupyter-widgets/base",
          "model_name": "LayoutModel",
          "model_module_version": "1.2.0",
          "state": {
            "_model_module": "@jupyter-widgets/base",
            "_model_module_version": "1.2.0",
            "_model_name": "LayoutModel",
            "_view_count": null,
            "_view_module": "@jupyter-widgets/base",
            "_view_module_version": "1.2.0",
            "_view_name": "LayoutView",
            "align_content": null,
            "align_items": null,
            "align_self": null,
            "border": null,
            "bottom": null,
            "display": null,
            "flex": null,
            "flex_flow": null,
            "grid_area": null,
            "grid_auto_columns": null,
            "grid_auto_flow": null,
            "grid_auto_rows": null,
            "grid_column": null,
            "grid_gap": null,
            "grid_row": null,
            "grid_template_areas": null,
            "grid_template_columns": null,
            "grid_template_rows": null,
            "height": null,
            "justify_content": null,
            "justify_items": null,
            "left": null,
            "margin": null,
            "max_height": null,
            "max_width": null,
            "min_height": null,
            "min_width": null,
            "object_fit": null,
            "object_position": null,
            "order": null,
            "overflow": null,
            "overflow_x": null,
            "overflow_y": null,
            "padding": null,
            "right": null,
            "top": null,
            "visibility": null,
            "width": null
          }
        },
        "20433c9105674cbfaab00b96649d7c16": {
          "model_module": "@jupyter-widgets/controls",
          "model_name": "DescriptionStyleModel",
          "model_module_version": "1.5.0",
          "state": {
            "_model_module": "@jupyter-widgets/controls",
            "_model_module_version": "1.5.0",
            "_model_name": "DescriptionStyleModel",
            "_view_count": null,
            "_view_module": "@jupyter-widgets/base",
            "_view_module_version": "1.2.0",
            "_view_name": "StyleView",
            "description_width": ""
          }
        },
        "48ae5768a9ad4cad85625eddda072973": {
          "model_module": "@jupyter-widgets/base",
          "model_name": "LayoutModel",
          "model_module_version": "1.2.0",
          "state": {
            "_model_module": "@jupyter-widgets/base",
            "_model_module_version": "1.2.0",
            "_model_name": "LayoutModel",
            "_view_count": null,
            "_view_module": "@jupyter-widgets/base",
            "_view_module_version": "1.2.0",
            "_view_name": "LayoutView",
            "align_content": null,
            "align_items": null,
            "align_self": null,
            "border": null,
            "bottom": null,
            "display": null,
            "flex": null,
            "flex_flow": null,
            "grid_area": null,
            "grid_auto_columns": null,
            "grid_auto_flow": null,
            "grid_auto_rows": null,
            "grid_column": null,
            "grid_gap": null,
            "grid_row": null,
            "grid_template_areas": null,
            "grid_template_columns": null,
            "grid_template_rows": null,
            "height": null,
            "justify_content": null,
            "justify_items": null,
            "left": null,
            "margin": null,
            "max_height": null,
            "max_width": null,
            "min_height": null,
            "min_width": null,
            "object_fit": null,
            "object_position": null,
            "order": null,
            "overflow": null,
            "overflow_x": null,
            "overflow_y": null,
            "padding": null,
            "right": null,
            "top": null,
            "visibility": null,
            "width": null
          }
        },
        "d4f68f2c64e74da3be57ae55ad89b745": {
          "model_module": "@jupyter-widgets/controls",
          "model_name": "ProgressStyleModel",
          "model_module_version": "1.5.0",
          "state": {
            "_model_module": "@jupyter-widgets/controls",
            "_model_module_version": "1.5.0",
            "_model_name": "ProgressStyleModel",
            "_view_count": null,
            "_view_module": "@jupyter-widgets/base",
            "_view_module_version": "1.2.0",
            "_view_name": "StyleView",
            "bar_color": null,
            "description_width": ""
          }
        },
        "74404aa1f9964e53895cd5e4200ecbb4": {
          "model_module": "@jupyter-widgets/base",
          "model_name": "LayoutModel",
          "model_module_version": "1.2.0",
          "state": {
            "_model_module": "@jupyter-widgets/base",
            "_model_module_version": "1.2.0",
            "_model_name": "LayoutModel",
            "_view_count": null,
            "_view_module": "@jupyter-widgets/base",
            "_view_module_version": "1.2.0",
            "_view_name": "LayoutView",
            "align_content": null,
            "align_items": null,
            "align_self": null,
            "border": null,
            "bottom": null,
            "display": null,
            "flex": null,
            "flex_flow": null,
            "grid_area": null,
            "grid_auto_columns": null,
            "grid_auto_flow": null,
            "grid_auto_rows": null,
            "grid_column": null,
            "grid_gap": null,
            "grid_row": null,
            "grid_template_areas": null,
            "grid_template_columns": null,
            "grid_template_rows": null,
            "height": null,
            "justify_content": null,
            "justify_items": null,
            "left": null,
            "margin": null,
            "max_height": null,
            "max_width": null,
            "min_height": null,
            "min_width": null,
            "object_fit": null,
            "object_position": null,
            "order": null,
            "overflow": null,
            "overflow_x": null,
            "overflow_y": null,
            "padding": null,
            "right": null,
            "top": null,
            "visibility": null,
            "width": null
          }
        },
        "f8fe6b285e234603a880f7c3bd6534d9": {
          "model_module": "@jupyter-widgets/controls",
          "model_name": "DescriptionStyleModel",
          "model_module_version": "1.5.0",
          "state": {
            "_model_module": "@jupyter-widgets/controls",
            "_model_module_version": "1.5.0",
            "_model_name": "DescriptionStyleModel",
            "_view_count": null,
            "_view_module": "@jupyter-widgets/base",
            "_view_module_version": "1.2.0",
            "_view_name": "StyleView",
            "description_width": ""
          }
        },
        "3c27b00193044fd4be9c0dfc16e0d759": {
          "model_module": "@jupyter-widgets/controls",
          "model_name": "HBoxModel",
          "model_module_version": "1.5.0",
          "state": {
            "_dom_classes": [],
            "_model_module": "@jupyter-widgets/controls",
            "_model_module_version": "1.5.0",
            "_model_name": "HBoxModel",
            "_view_count": null,
            "_view_module": "@jupyter-widgets/controls",
            "_view_module_version": "1.5.0",
            "_view_name": "HBoxView",
            "box_style": "",
            "children": [
              "IPY_MODEL_875352e383f3407e925a35b3dae816d8",
              "IPY_MODEL_a8a8fa5bedce49e6a741995338b4e2de",
              "IPY_MODEL_c92635b830d14baa88ff42b6e66105d2"
            ],
            "layout": "IPY_MODEL_a6799ceb9b5141098666cfe4ef624073"
          }
        },
        "875352e383f3407e925a35b3dae816d8": {
          "model_module": "@jupyter-widgets/controls",
          "model_name": "HTMLModel",
          "model_module_version": "1.5.0",
          "state": {
            "_dom_classes": [],
            "_model_module": "@jupyter-widgets/controls",
            "_model_module_version": "1.5.0",
            "_model_name": "HTMLModel",
            "_view_count": null,
            "_view_module": "@jupyter-widgets/controls",
            "_view_module_version": "1.5.0",
            "_view_name": "HTMLView",
            "description": "",
            "description_tooltip": null,
            "layout": "IPY_MODEL_d0a5725c1f5b464b9d057cf2d328be22",
            "placeholder": "​",
            "style": "IPY_MODEL_2548994d76674a1fa3cf842509310416",
            "value": "Downloading (…)lve/main/config.json: 100%"
          }
        },
        "a8a8fa5bedce49e6a741995338b4e2de": {
          "model_module": "@jupyter-widgets/controls",
          "model_name": "FloatProgressModel",
          "model_module_version": "1.5.0",
          "state": {
            "_dom_classes": [],
            "_model_module": "@jupyter-widgets/controls",
            "_model_module_version": "1.5.0",
            "_model_name": "FloatProgressModel",
            "_view_count": null,
            "_view_module": "@jupyter-widgets/controls",
            "_view_module_version": "1.5.0",
            "_view_name": "ProgressView",
            "bar_style": "success",
            "description": "",
            "description_tooltip": null,
            "layout": "IPY_MODEL_a83b9899153e479ea0fd8ac4294dfcc8",
            "max": 411,
            "min": 0,
            "orientation": "horizontal",
            "style": "IPY_MODEL_3dae817d373f4ef284fdcbe331c6d099",
            "value": 411
          }
        },
        "c92635b830d14baa88ff42b6e66105d2": {
          "model_module": "@jupyter-widgets/controls",
          "model_name": "HTMLModel",
          "model_module_version": "1.5.0",
          "state": {
            "_dom_classes": [],
            "_model_module": "@jupyter-widgets/controls",
            "_model_module_version": "1.5.0",
            "_model_name": "HTMLModel",
            "_view_count": null,
            "_view_module": "@jupyter-widgets/controls",
            "_view_module_version": "1.5.0",
            "_view_name": "HTMLView",
            "description": "",
            "description_tooltip": null,
            "layout": "IPY_MODEL_ac39cde275c049afabd492482af010ff",
            "placeholder": "​",
            "style": "IPY_MODEL_07b2003f49b148408f3712c63ff538fb",
            "value": " 411/411 [00:00&lt;00:00, 34.7kB/s]"
          }
        },
        "a6799ceb9b5141098666cfe4ef624073": {
          "model_module": "@jupyter-widgets/base",
          "model_name": "LayoutModel",
          "model_module_version": "1.2.0",
          "state": {
            "_model_module": "@jupyter-widgets/base",
            "_model_module_version": "1.2.0",
            "_model_name": "LayoutModel",
            "_view_count": null,
            "_view_module": "@jupyter-widgets/base",
            "_view_module_version": "1.2.0",
            "_view_name": "LayoutView",
            "align_content": null,
            "align_items": null,
            "align_self": null,
            "border": null,
            "bottom": null,
            "display": null,
            "flex": null,
            "flex_flow": null,
            "grid_area": null,
            "grid_auto_columns": null,
            "grid_auto_flow": null,
            "grid_auto_rows": null,
            "grid_column": null,
            "grid_gap": null,
            "grid_row": null,
            "grid_template_areas": null,
            "grid_template_columns": null,
            "grid_template_rows": null,
            "height": null,
            "justify_content": null,
            "justify_items": null,
            "left": null,
            "margin": null,
            "max_height": null,
            "max_width": null,
            "min_height": null,
            "min_width": null,
            "object_fit": null,
            "object_position": null,
            "order": null,
            "overflow": null,
            "overflow_x": null,
            "overflow_y": null,
            "padding": null,
            "right": null,
            "top": null,
            "visibility": null,
            "width": null
          }
        },
        "d0a5725c1f5b464b9d057cf2d328be22": {
          "model_module": "@jupyter-widgets/base",
          "model_name": "LayoutModel",
          "model_module_version": "1.2.0",
          "state": {
            "_model_module": "@jupyter-widgets/base",
            "_model_module_version": "1.2.0",
            "_model_name": "LayoutModel",
            "_view_count": null,
            "_view_module": "@jupyter-widgets/base",
            "_view_module_version": "1.2.0",
            "_view_name": "LayoutView",
            "align_content": null,
            "align_items": null,
            "align_self": null,
            "border": null,
            "bottom": null,
            "display": null,
            "flex": null,
            "flex_flow": null,
            "grid_area": null,
            "grid_auto_columns": null,
            "grid_auto_flow": null,
            "grid_auto_rows": null,
            "grid_column": null,
            "grid_gap": null,
            "grid_row": null,
            "grid_template_areas": null,
            "grid_template_columns": null,
            "grid_template_rows": null,
            "height": null,
            "justify_content": null,
            "justify_items": null,
            "left": null,
            "margin": null,
            "max_height": null,
            "max_width": null,
            "min_height": null,
            "min_width": null,
            "object_fit": null,
            "object_position": null,
            "order": null,
            "overflow": null,
            "overflow_x": null,
            "overflow_y": null,
            "padding": null,
            "right": null,
            "top": null,
            "visibility": null,
            "width": null
          }
        },
        "2548994d76674a1fa3cf842509310416": {
          "model_module": "@jupyter-widgets/controls",
          "model_name": "DescriptionStyleModel",
          "model_module_version": "1.5.0",
          "state": {
            "_model_module": "@jupyter-widgets/controls",
            "_model_module_version": "1.5.0",
            "_model_name": "DescriptionStyleModel",
            "_view_count": null,
            "_view_module": "@jupyter-widgets/base",
            "_view_module_version": "1.2.0",
            "_view_name": "StyleView",
            "description_width": ""
          }
        },
        "a83b9899153e479ea0fd8ac4294dfcc8": {
          "model_module": "@jupyter-widgets/base",
          "model_name": "LayoutModel",
          "model_module_version": "1.2.0",
          "state": {
            "_model_module": "@jupyter-widgets/base",
            "_model_module_version": "1.2.0",
            "_model_name": "LayoutModel",
            "_view_count": null,
            "_view_module": "@jupyter-widgets/base",
            "_view_module_version": "1.2.0",
            "_view_name": "LayoutView",
            "align_content": null,
            "align_items": null,
            "align_self": null,
            "border": null,
            "bottom": null,
            "display": null,
            "flex": null,
            "flex_flow": null,
            "grid_area": null,
            "grid_auto_columns": null,
            "grid_auto_flow": null,
            "grid_auto_rows": null,
            "grid_column": null,
            "grid_gap": null,
            "grid_row": null,
            "grid_template_areas": null,
            "grid_template_columns": null,
            "grid_template_rows": null,
            "height": null,
            "justify_content": null,
            "justify_items": null,
            "left": null,
            "margin": null,
            "max_height": null,
            "max_width": null,
            "min_height": null,
            "min_width": null,
            "object_fit": null,
            "object_position": null,
            "order": null,
            "overflow": null,
            "overflow_x": null,
            "overflow_y": null,
            "padding": null,
            "right": null,
            "top": null,
            "visibility": null,
            "width": null
          }
        },
        "3dae817d373f4ef284fdcbe331c6d099": {
          "model_module": "@jupyter-widgets/controls",
          "model_name": "ProgressStyleModel",
          "model_module_version": "1.5.0",
          "state": {
            "_model_module": "@jupyter-widgets/controls",
            "_model_module_version": "1.5.0",
            "_model_name": "ProgressStyleModel",
            "_view_count": null,
            "_view_module": "@jupyter-widgets/base",
            "_view_module_version": "1.2.0",
            "_view_name": "StyleView",
            "bar_color": null,
            "description_width": ""
          }
        },
        "ac39cde275c049afabd492482af010ff": {
          "model_module": "@jupyter-widgets/base",
          "model_name": "LayoutModel",
          "model_module_version": "1.2.0",
          "state": {
            "_model_module": "@jupyter-widgets/base",
            "_model_module_version": "1.2.0",
            "_model_name": "LayoutModel",
            "_view_count": null,
            "_view_module": "@jupyter-widgets/base",
            "_view_module_version": "1.2.0",
            "_view_name": "LayoutView",
            "align_content": null,
            "align_items": null,
            "align_self": null,
            "border": null,
            "bottom": null,
            "display": null,
            "flex": null,
            "flex_flow": null,
            "grid_area": null,
            "grid_auto_columns": null,
            "grid_auto_flow": null,
            "grid_auto_rows": null,
            "grid_column": null,
            "grid_gap": null,
            "grid_row": null,
            "grid_template_areas": null,
            "grid_template_columns": null,
            "grid_template_rows": null,
            "height": null,
            "justify_content": null,
            "justify_items": null,
            "left": null,
            "margin": null,
            "max_height": null,
            "max_width": null,
            "min_height": null,
            "min_width": null,
            "object_fit": null,
            "object_position": null,
            "order": null,
            "overflow": null,
            "overflow_x": null,
            "overflow_y": null,
            "padding": null,
            "right": null,
            "top": null,
            "visibility": null,
            "width": null
          }
        },
        "07b2003f49b148408f3712c63ff538fb": {
          "model_module": "@jupyter-widgets/controls",
          "model_name": "DescriptionStyleModel",
          "model_module_version": "1.5.0",
          "state": {
            "_model_module": "@jupyter-widgets/controls",
            "_model_module_version": "1.5.0",
            "_model_name": "DescriptionStyleModel",
            "_view_count": null,
            "_view_module": "@jupyter-widgets/base",
            "_view_module_version": "1.2.0",
            "_view_name": "StyleView",
            "description_width": ""
          }
        },
        "29866ca81a324e1da2cd0997349a6d57": {
          "model_module": "@jupyter-widgets/controls",
          "model_name": "HBoxModel",
          "model_module_version": "1.5.0",
          "state": {
            "_dom_classes": [],
            "_model_module": "@jupyter-widgets/controls",
            "_model_module_version": "1.5.0",
            "_model_name": "HBoxModel",
            "_view_count": null,
            "_view_module": "@jupyter-widgets/controls",
            "_view_module_version": "1.5.0",
            "_view_name": "HBoxView",
            "box_style": "",
            "children": [
              "IPY_MODEL_ba88d8e7abf447c0b4d8b4f68cbd1b24",
              "IPY_MODEL_43733c766ad74498a5179059c5eef9f4",
              "IPY_MODEL_a7ebc36a54bf4e21b646aa560654ffa0"
            ],
            "layout": "IPY_MODEL_a191a93e1e4944f8aa22e1f9d10bf111"
          }
        },
        "ba88d8e7abf447c0b4d8b4f68cbd1b24": {
          "model_module": "@jupyter-widgets/controls",
          "model_name": "HTMLModel",
          "model_module_version": "1.5.0",
          "state": {
            "_dom_classes": [],
            "_model_module": "@jupyter-widgets/controls",
            "_model_module_version": "1.5.0",
            "_model_name": "HTMLModel",
            "_view_count": null,
            "_view_module": "@jupyter-widgets/controls",
            "_view_module_version": "1.5.0",
            "_view_name": "HTMLView",
            "description": "",
            "description_tooltip": null,
            "layout": "IPY_MODEL_e7735dcb7c424a8692db2317a1f25941",
            "placeholder": "​",
            "style": "IPY_MODEL_7424b2bbbf874498bc350f31b3cdfcc4",
            "value": "Downloading (…)solve/main/vocab.txt: 100%"
          }
        },
        "43733c766ad74498a5179059c5eef9f4": {
          "model_module": "@jupyter-widgets/controls",
          "model_name": "FloatProgressModel",
          "model_module_version": "1.5.0",
          "state": {
            "_dom_classes": [],
            "_model_module": "@jupyter-widgets/controls",
            "_model_module_version": "1.5.0",
            "_model_name": "FloatProgressModel",
            "_view_count": null,
            "_view_module": "@jupyter-widgets/controls",
            "_view_module_version": "1.5.0",
            "_view_name": "ProgressView",
            "bar_style": "success",
            "description": "",
            "description_tooltip": null,
            "layout": "IPY_MODEL_43b0950b196a41ee95882811fb6fede6",
            "max": 213450,
            "min": 0,
            "orientation": "horizontal",
            "style": "IPY_MODEL_594d97d7823e4e74a2a3119a29cb9e3a",
            "value": 213450
          }
        },
        "a7ebc36a54bf4e21b646aa560654ffa0": {
          "model_module": "@jupyter-widgets/controls",
          "model_name": "HTMLModel",
          "model_module_version": "1.5.0",
          "state": {
            "_dom_classes": [],
            "_model_module": "@jupyter-widgets/controls",
            "_model_module_version": "1.5.0",
            "_model_name": "HTMLModel",
            "_view_count": null,
            "_view_module": "@jupyter-widgets/controls",
            "_view_module_version": "1.5.0",
            "_view_name": "HTMLView",
            "description": "",
            "description_tooltip": null,
            "layout": "IPY_MODEL_207604d7fd2342568570036df6e29f5c",
            "placeholder": "​",
            "style": "IPY_MODEL_af99f463f5ea43c88298e4d881bf9e54",
            "value": " 213k/213k [00:00&lt;00:00, 9.23MB/s]"
          }
        },
        "a191a93e1e4944f8aa22e1f9d10bf111": {
          "model_module": "@jupyter-widgets/base",
          "model_name": "LayoutModel",
          "model_module_version": "1.2.0",
          "state": {
            "_model_module": "@jupyter-widgets/base",
            "_model_module_version": "1.2.0",
            "_model_name": "LayoutModel",
            "_view_count": null,
            "_view_module": "@jupyter-widgets/base",
            "_view_module_version": "1.2.0",
            "_view_name": "LayoutView",
            "align_content": null,
            "align_items": null,
            "align_self": null,
            "border": null,
            "bottom": null,
            "display": null,
            "flex": null,
            "flex_flow": null,
            "grid_area": null,
            "grid_auto_columns": null,
            "grid_auto_flow": null,
            "grid_auto_rows": null,
            "grid_column": null,
            "grid_gap": null,
            "grid_row": null,
            "grid_template_areas": null,
            "grid_template_columns": null,
            "grid_template_rows": null,
            "height": null,
            "justify_content": null,
            "justify_items": null,
            "left": null,
            "margin": null,
            "max_height": null,
            "max_width": null,
            "min_height": null,
            "min_width": null,
            "object_fit": null,
            "object_position": null,
            "order": null,
            "overflow": null,
            "overflow_x": null,
            "overflow_y": null,
            "padding": null,
            "right": null,
            "top": null,
            "visibility": null,
            "width": null
          }
        },
        "e7735dcb7c424a8692db2317a1f25941": {
          "model_module": "@jupyter-widgets/base",
          "model_name": "LayoutModel",
          "model_module_version": "1.2.0",
          "state": {
            "_model_module": "@jupyter-widgets/base",
            "_model_module_version": "1.2.0",
            "_model_name": "LayoutModel",
            "_view_count": null,
            "_view_module": "@jupyter-widgets/base",
            "_view_module_version": "1.2.0",
            "_view_name": "LayoutView",
            "align_content": null,
            "align_items": null,
            "align_self": null,
            "border": null,
            "bottom": null,
            "display": null,
            "flex": null,
            "flex_flow": null,
            "grid_area": null,
            "grid_auto_columns": null,
            "grid_auto_flow": null,
            "grid_auto_rows": null,
            "grid_column": null,
            "grid_gap": null,
            "grid_row": null,
            "grid_template_areas": null,
            "grid_template_columns": null,
            "grid_template_rows": null,
            "height": null,
            "justify_content": null,
            "justify_items": null,
            "left": null,
            "margin": null,
            "max_height": null,
            "max_width": null,
            "min_height": null,
            "min_width": null,
            "object_fit": null,
            "object_position": null,
            "order": null,
            "overflow": null,
            "overflow_x": null,
            "overflow_y": null,
            "padding": null,
            "right": null,
            "top": null,
            "visibility": null,
            "width": null
          }
        },
        "7424b2bbbf874498bc350f31b3cdfcc4": {
          "model_module": "@jupyter-widgets/controls",
          "model_name": "DescriptionStyleModel",
          "model_module_version": "1.5.0",
          "state": {
            "_model_module": "@jupyter-widgets/controls",
            "_model_module_version": "1.5.0",
            "_model_name": "DescriptionStyleModel",
            "_view_count": null,
            "_view_module": "@jupyter-widgets/base",
            "_view_module_version": "1.2.0",
            "_view_name": "StyleView",
            "description_width": ""
          }
        },
        "43b0950b196a41ee95882811fb6fede6": {
          "model_module": "@jupyter-widgets/base",
          "model_name": "LayoutModel",
          "model_module_version": "1.2.0",
          "state": {
            "_model_module": "@jupyter-widgets/base",
            "_model_module_version": "1.2.0",
            "_model_name": "LayoutModel",
            "_view_count": null,
            "_view_module": "@jupyter-widgets/base",
            "_view_module_version": "1.2.0",
            "_view_name": "LayoutView",
            "align_content": null,
            "align_items": null,
            "align_self": null,
            "border": null,
            "bottom": null,
            "display": null,
            "flex": null,
            "flex_flow": null,
            "grid_area": null,
            "grid_auto_columns": null,
            "grid_auto_flow": null,
            "grid_auto_rows": null,
            "grid_column": null,
            "grid_gap": null,
            "grid_row": null,
            "grid_template_areas": null,
            "grid_template_columns": null,
            "grid_template_rows": null,
            "height": null,
            "justify_content": null,
            "justify_items": null,
            "left": null,
            "margin": null,
            "max_height": null,
            "max_width": null,
            "min_height": null,
            "min_width": null,
            "object_fit": null,
            "object_position": null,
            "order": null,
            "overflow": null,
            "overflow_x": null,
            "overflow_y": null,
            "padding": null,
            "right": null,
            "top": null,
            "visibility": null,
            "width": null
          }
        },
        "594d97d7823e4e74a2a3119a29cb9e3a": {
          "model_module": "@jupyter-widgets/controls",
          "model_name": "ProgressStyleModel",
          "model_module_version": "1.5.0",
          "state": {
            "_model_module": "@jupyter-widgets/controls",
            "_model_module_version": "1.5.0",
            "_model_name": "ProgressStyleModel",
            "_view_count": null,
            "_view_module": "@jupyter-widgets/base",
            "_view_module_version": "1.2.0",
            "_view_name": "StyleView",
            "bar_color": null,
            "description_width": ""
          }
        },
        "207604d7fd2342568570036df6e29f5c": {
          "model_module": "@jupyter-widgets/base",
          "model_name": "LayoutModel",
          "model_module_version": "1.2.0",
          "state": {
            "_model_module": "@jupyter-widgets/base",
            "_model_module_version": "1.2.0",
            "_model_name": "LayoutModel",
            "_view_count": null,
            "_view_module": "@jupyter-widgets/base",
            "_view_module_version": "1.2.0",
            "_view_name": "LayoutView",
            "align_content": null,
            "align_items": null,
            "align_self": null,
            "border": null,
            "bottom": null,
            "display": null,
            "flex": null,
            "flex_flow": null,
            "grid_area": null,
            "grid_auto_columns": null,
            "grid_auto_flow": null,
            "grid_auto_rows": null,
            "grid_column": null,
            "grid_gap": null,
            "grid_row": null,
            "grid_template_areas": null,
            "grid_template_columns": null,
            "grid_template_rows": null,
            "height": null,
            "justify_content": null,
            "justify_items": null,
            "left": null,
            "margin": null,
            "max_height": null,
            "max_width": null,
            "min_height": null,
            "min_width": null,
            "object_fit": null,
            "object_position": null,
            "order": null,
            "overflow": null,
            "overflow_x": null,
            "overflow_y": null,
            "padding": null,
            "right": null,
            "top": null,
            "visibility": null,
            "width": null
          }
        },
        "af99f463f5ea43c88298e4d881bf9e54": {
          "model_module": "@jupyter-widgets/controls",
          "model_name": "DescriptionStyleModel",
          "model_module_version": "1.5.0",
          "state": {
            "_model_module": "@jupyter-widgets/controls",
            "_model_module_version": "1.5.0",
            "_model_name": "DescriptionStyleModel",
            "_view_count": null,
            "_view_module": "@jupyter-widgets/base",
            "_view_module_version": "1.2.0",
            "_view_name": "StyleView",
            "description_width": ""
          }
        },
        "bbbcb531cffb415fb8f9630be984e2e4": {
          "model_module": "@jupyter-widgets/controls",
          "model_name": "HBoxModel",
          "model_module_version": "1.5.0",
          "state": {
            "_dom_classes": [],
            "_model_module": "@jupyter-widgets/controls",
            "_model_module_version": "1.5.0",
            "_model_name": "HBoxModel",
            "_view_count": null,
            "_view_module": "@jupyter-widgets/controls",
            "_view_module_version": "1.5.0",
            "_view_name": "HBoxView",
            "box_style": "",
            "children": [
              "IPY_MODEL_f230f7a0684344009a9480f138ea740a",
              "IPY_MODEL_3a9a63d741cb468eb8b1cd127f7d8e39",
              "IPY_MODEL_029ace73d54745d598b4992e62fe6c80"
            ],
            "layout": "IPY_MODEL_51c9b16228ef4f718d725c85b263ca00"
          }
        },
        "f230f7a0684344009a9480f138ea740a": {
          "model_module": "@jupyter-widgets/controls",
          "model_name": "HTMLModel",
          "model_module_version": "1.5.0",
          "state": {
            "_dom_classes": [],
            "_model_module": "@jupyter-widgets/controls",
            "_model_module_version": "1.5.0",
            "_model_name": "HTMLModel",
            "_view_count": null,
            "_view_module": "@jupyter-widgets/controls",
            "_view_module_version": "1.5.0",
            "_view_name": "HTMLView",
            "description": "",
            "description_tooltip": null,
            "layout": "IPY_MODEL_b33a932d61cb4f9086a2148b8ac808f3",
            "placeholder": "​",
            "style": "IPY_MODEL_430a8fdaf5364948a8849ceec81c3516",
            "value": "Downloading (…)/main/tokenizer.json: 100%"
          }
        },
        "3a9a63d741cb468eb8b1cd127f7d8e39": {
          "model_module": "@jupyter-widgets/controls",
          "model_name": "FloatProgressModel",
          "model_module_version": "1.5.0",
          "state": {
            "_dom_classes": [],
            "_model_module": "@jupyter-widgets/controls",
            "_model_module_version": "1.5.0",
            "_model_name": "FloatProgressModel",
            "_view_count": null,
            "_view_module": "@jupyter-widgets/controls",
            "_view_module_version": "1.5.0",
            "_view_name": "ProgressView",
            "bar_style": "success",
            "description": "",
            "description_tooltip": null,
            "layout": "IPY_MODEL_ad4948f1e6884a02a5cba17216d21d0c",
            "max": 435797,
            "min": 0,
            "orientation": "horizontal",
            "style": "IPY_MODEL_b996926a347d41d88e51f363d18de0ce",
            "value": 435797
          }
        },
        "029ace73d54745d598b4992e62fe6c80": {
          "model_module": "@jupyter-widgets/controls",
          "model_name": "HTMLModel",
          "model_module_version": "1.5.0",
          "state": {
            "_dom_classes": [],
            "_model_module": "@jupyter-widgets/controls",
            "_model_module_version": "1.5.0",
            "_model_name": "HTMLModel",
            "_view_count": null,
            "_view_module": "@jupyter-widgets/controls",
            "_view_module_version": "1.5.0",
            "_view_name": "HTMLView",
            "description": "",
            "description_tooltip": null,
            "layout": "IPY_MODEL_2b4cc1ee074c4fbd90e1d0c37d74b93c",
            "placeholder": "​",
            "style": "IPY_MODEL_9c235332ffa340028d6500bcf47c0b21",
            "value": " 436k/436k [00:00&lt;00:00, 693kB/s]"
          }
        },
        "51c9b16228ef4f718d725c85b263ca00": {
          "model_module": "@jupyter-widgets/base",
          "model_name": "LayoutModel",
          "model_module_version": "1.2.0",
          "state": {
            "_model_module": "@jupyter-widgets/base",
            "_model_module_version": "1.2.0",
            "_model_name": "LayoutModel",
            "_view_count": null,
            "_view_module": "@jupyter-widgets/base",
            "_view_module_version": "1.2.0",
            "_view_name": "LayoutView",
            "align_content": null,
            "align_items": null,
            "align_self": null,
            "border": null,
            "bottom": null,
            "display": null,
            "flex": null,
            "flex_flow": null,
            "grid_area": null,
            "grid_auto_columns": null,
            "grid_auto_flow": null,
            "grid_auto_rows": null,
            "grid_column": null,
            "grid_gap": null,
            "grid_row": null,
            "grid_template_areas": null,
            "grid_template_columns": null,
            "grid_template_rows": null,
            "height": null,
            "justify_content": null,
            "justify_items": null,
            "left": null,
            "margin": null,
            "max_height": null,
            "max_width": null,
            "min_height": null,
            "min_width": null,
            "object_fit": null,
            "object_position": null,
            "order": null,
            "overflow": null,
            "overflow_x": null,
            "overflow_y": null,
            "padding": null,
            "right": null,
            "top": null,
            "visibility": null,
            "width": null
          }
        },
        "b33a932d61cb4f9086a2148b8ac808f3": {
          "model_module": "@jupyter-widgets/base",
          "model_name": "LayoutModel",
          "model_module_version": "1.2.0",
          "state": {
            "_model_module": "@jupyter-widgets/base",
            "_model_module_version": "1.2.0",
            "_model_name": "LayoutModel",
            "_view_count": null,
            "_view_module": "@jupyter-widgets/base",
            "_view_module_version": "1.2.0",
            "_view_name": "LayoutView",
            "align_content": null,
            "align_items": null,
            "align_self": null,
            "border": null,
            "bottom": null,
            "display": null,
            "flex": null,
            "flex_flow": null,
            "grid_area": null,
            "grid_auto_columns": null,
            "grid_auto_flow": null,
            "grid_auto_rows": null,
            "grid_column": null,
            "grid_gap": null,
            "grid_row": null,
            "grid_template_areas": null,
            "grid_template_columns": null,
            "grid_template_rows": null,
            "height": null,
            "justify_content": null,
            "justify_items": null,
            "left": null,
            "margin": null,
            "max_height": null,
            "max_width": null,
            "min_height": null,
            "min_width": null,
            "object_fit": null,
            "object_position": null,
            "order": null,
            "overflow": null,
            "overflow_x": null,
            "overflow_y": null,
            "padding": null,
            "right": null,
            "top": null,
            "visibility": null,
            "width": null
          }
        },
        "430a8fdaf5364948a8849ceec81c3516": {
          "model_module": "@jupyter-widgets/controls",
          "model_name": "DescriptionStyleModel",
          "model_module_version": "1.5.0",
          "state": {
            "_model_module": "@jupyter-widgets/controls",
            "_model_module_version": "1.5.0",
            "_model_name": "DescriptionStyleModel",
            "_view_count": null,
            "_view_module": "@jupyter-widgets/base",
            "_view_module_version": "1.2.0",
            "_view_name": "StyleView",
            "description_width": ""
          }
        },
        "ad4948f1e6884a02a5cba17216d21d0c": {
          "model_module": "@jupyter-widgets/base",
          "model_name": "LayoutModel",
          "model_module_version": "1.2.0",
          "state": {
            "_model_module": "@jupyter-widgets/base",
            "_model_module_version": "1.2.0",
            "_model_name": "LayoutModel",
            "_view_count": null,
            "_view_module": "@jupyter-widgets/base",
            "_view_module_version": "1.2.0",
            "_view_name": "LayoutView",
            "align_content": null,
            "align_items": null,
            "align_self": null,
            "border": null,
            "bottom": null,
            "display": null,
            "flex": null,
            "flex_flow": null,
            "grid_area": null,
            "grid_auto_columns": null,
            "grid_auto_flow": null,
            "grid_auto_rows": null,
            "grid_column": null,
            "grid_gap": null,
            "grid_row": null,
            "grid_template_areas": null,
            "grid_template_columns": null,
            "grid_template_rows": null,
            "height": null,
            "justify_content": null,
            "justify_items": null,
            "left": null,
            "margin": null,
            "max_height": null,
            "max_width": null,
            "min_height": null,
            "min_width": null,
            "object_fit": null,
            "object_position": null,
            "order": null,
            "overflow": null,
            "overflow_x": null,
            "overflow_y": null,
            "padding": null,
            "right": null,
            "top": null,
            "visibility": null,
            "width": null
          }
        },
        "b996926a347d41d88e51f363d18de0ce": {
          "model_module": "@jupyter-widgets/controls",
          "model_name": "ProgressStyleModel",
          "model_module_version": "1.5.0",
          "state": {
            "_model_module": "@jupyter-widgets/controls",
            "_model_module_version": "1.5.0",
            "_model_name": "ProgressStyleModel",
            "_view_count": null,
            "_view_module": "@jupyter-widgets/base",
            "_view_module_version": "1.2.0",
            "_view_name": "StyleView",
            "bar_color": null,
            "description_width": ""
          }
        },
        "2b4cc1ee074c4fbd90e1d0c37d74b93c": {
          "model_module": "@jupyter-widgets/base",
          "model_name": "LayoutModel",
          "model_module_version": "1.2.0",
          "state": {
            "_model_module": "@jupyter-widgets/base",
            "_model_module_version": "1.2.0",
            "_model_name": "LayoutModel",
            "_view_count": null,
            "_view_module": "@jupyter-widgets/base",
            "_view_module_version": "1.2.0",
            "_view_name": "LayoutView",
            "align_content": null,
            "align_items": null,
            "align_self": null,
            "border": null,
            "bottom": null,
            "display": null,
            "flex": null,
            "flex_flow": null,
            "grid_area": null,
            "grid_auto_columns": null,
            "grid_auto_flow": null,
            "grid_auto_rows": null,
            "grid_column": null,
            "grid_gap": null,
            "grid_row": null,
            "grid_template_areas": null,
            "grid_template_columns": null,
            "grid_template_rows": null,
            "height": null,
            "justify_content": null,
            "justify_items": null,
            "left": null,
            "margin": null,
            "max_height": null,
            "max_width": null,
            "min_height": null,
            "min_width": null,
            "object_fit": null,
            "object_position": null,
            "order": null,
            "overflow": null,
            "overflow_x": null,
            "overflow_y": null,
            "padding": null,
            "right": null,
            "top": null,
            "visibility": null,
            "width": null
          }
        },
        "9c235332ffa340028d6500bcf47c0b21": {
          "model_module": "@jupyter-widgets/controls",
          "model_name": "DescriptionStyleModel",
          "model_module_version": "1.5.0",
          "state": {
            "_model_module": "@jupyter-widgets/controls",
            "_model_module_version": "1.5.0",
            "_model_name": "DescriptionStyleModel",
            "_view_count": null,
            "_view_module": "@jupyter-widgets/base",
            "_view_module_version": "1.2.0",
            "_view_name": "StyleView",
            "description_width": ""
          }
        }
      }
    }
  },
  "cells": [
    {
      "cell_type": "markdown",
      "metadata": {
        "id": "view-in-github",
        "colab_type": "text"
      },
      "source": [
        "<a href=\"https://colab.research.google.com/github/lakshitgosain/Transformers-for-NLP/blob/main/Transformers_A01_Question_Answering.ipynb\" target=\"_parent\"><img src=\"https://colab.research.google.com/assets/colab-badge.svg\" alt=\"Open In Colab\"/></a>"
      ]
    },
    {
      "cell_type": "markdown",
      "source": [
        "#Question Answering"
      ],
      "metadata": {
        "id": "wwb2W7Vs6gif"
      }
    },
    {
      "cell_type": "markdown",
      "source": [
        "## SQuAD\n",
        "\n",
        "Stanford Quetion Answering context\n",
        "- We have a constraint- It is not an ask anything model\n",
        "- We do an extractive Question-answering- We give the context to the model in the question from where it extracts the answers\n",
        "- Network does not generate text by itself"
      ],
      "metadata": {
        "id": "zQN5dcMBA0vW"
      }
    },
    {
      "cell_type": "code",
      "source": [
        "!pip install transformers datasets"
      ],
      "metadata": {
        "colab": {
          "base_uri": "https://localhost:8080/"
        },
        "id": "zfEgU4NdBQAv",
        "outputId": "7aa885bf-9901-4eb1-ffa5-9013ecebd814"
      },
      "execution_count": 1,
      "outputs": [
        {
          "output_type": "stream",
          "name": "stdout",
          "text": [
            "Collecting transformers\n",
            "  Downloading transformers-4.30.2-py3-none-any.whl (7.2 MB)\n",
            "\u001b[?25l     \u001b[90m━━━━━━━━━━━━━━━━━━━━━━━━━━━━━━━━━━━━━━━━\u001b[0m \u001b[32m0.0/7.2 MB\u001b[0m \u001b[31m?\u001b[0m eta \u001b[36m-:--:--\u001b[0m\r\u001b[2K     \u001b[91m━━━━━━━━━━━━━━━━━━━━━━━━━━\u001b[0m\u001b[91m╸\u001b[0m\u001b[90m━━━━━━━━━━━━━\u001b[0m \u001b[32m4.8/7.2 MB\u001b[0m \u001b[31m143.9 MB/s\u001b[0m eta \u001b[36m0:00:01\u001b[0m\r\u001b[2K     \u001b[91m━━━━━━━━━━━━━━━━━━━━━━━━━━━━━━━━━━━━━━━\u001b[0m\u001b[91m╸\u001b[0m \u001b[32m7.2/7.2 MB\u001b[0m \u001b[31m156.8 MB/s\u001b[0m eta \u001b[36m0:00:01\u001b[0m\r\u001b[2K     \u001b[90m━━━━━━━━━━━━━━━━━━━━━━━━━━━━━━━━━━━━━━━━\u001b[0m \u001b[32m7.2/7.2 MB\u001b[0m \u001b[31m95.7 MB/s\u001b[0m eta \u001b[36m0:00:00\u001b[0m\n",
            "\u001b[?25hCollecting datasets\n",
            "  Downloading datasets-2.13.1-py3-none-any.whl (486 kB)\n",
            "\u001b[2K     \u001b[90m━━━━━━━━━━━━━━━━━━━━━━━━━━━━━━━━━━━━━━\u001b[0m \u001b[32m486.2/486.2 kB\u001b[0m \u001b[31m49.3 MB/s\u001b[0m eta \u001b[36m0:00:00\u001b[0m\n",
            "\u001b[?25hRequirement already satisfied: filelock in /usr/local/lib/python3.10/dist-packages (from transformers) (3.12.2)\n",
            "Collecting huggingface-hub<1.0,>=0.14.1 (from transformers)\n",
            "  Downloading huggingface_hub-0.16.4-py3-none-any.whl (268 kB)\n",
            "\u001b[2K     \u001b[90m━━━━━━━━━━━━━━━━━━━━━━━━━━━━━━━━━━━━━━\u001b[0m \u001b[32m268.8/268.8 kB\u001b[0m \u001b[31m30.4 MB/s\u001b[0m eta \u001b[36m0:00:00\u001b[0m\n",
            "\u001b[?25hRequirement already satisfied: numpy>=1.17 in /usr/local/lib/python3.10/dist-packages (from transformers) (1.22.4)\n",
            "Requirement already satisfied: packaging>=20.0 in /usr/local/lib/python3.10/dist-packages (from transformers) (23.1)\n",
            "Requirement already satisfied: pyyaml>=5.1 in /usr/local/lib/python3.10/dist-packages (from transformers) (6.0)\n",
            "Requirement already satisfied: regex!=2019.12.17 in /usr/local/lib/python3.10/dist-packages (from transformers) (2022.10.31)\n",
            "Requirement already satisfied: requests in /usr/local/lib/python3.10/dist-packages (from transformers) (2.27.1)\n",
            "Collecting tokenizers!=0.11.3,<0.14,>=0.11.1 (from transformers)\n",
            "  Downloading tokenizers-0.13.3-cp310-cp310-manylinux_2_17_x86_64.manylinux2014_x86_64.whl (7.8 MB)\n",
            "\u001b[2K     \u001b[90m━━━━━━━━━━━━━━━━━━━━━━━━━━━━━━━━━━━━━━━━\u001b[0m \u001b[32m7.8/7.8 MB\u001b[0m \u001b[31m107.5 MB/s\u001b[0m eta \u001b[36m0:00:00\u001b[0m\n",
            "\u001b[?25hCollecting safetensors>=0.3.1 (from transformers)\n",
            "  Downloading safetensors-0.3.1-cp310-cp310-manylinux_2_17_x86_64.manylinux2014_x86_64.whl (1.3 MB)\n",
            "\u001b[2K     \u001b[90m━━━━━━━━━━━━━━━━━━━━━━━━━━━━━━━━━━━━━━━━\u001b[0m \u001b[32m1.3/1.3 MB\u001b[0m \u001b[31m81.7 MB/s\u001b[0m eta \u001b[36m0:00:00\u001b[0m\n",
            "\u001b[?25hRequirement already satisfied: tqdm>=4.27 in /usr/local/lib/python3.10/dist-packages (from transformers) (4.65.0)\n",
            "Requirement already satisfied: pyarrow>=8.0.0 in /usr/local/lib/python3.10/dist-packages (from datasets) (9.0.0)\n",
            "Collecting dill<0.3.7,>=0.3.0 (from datasets)\n",
            "  Downloading dill-0.3.6-py3-none-any.whl (110 kB)\n",
            "\u001b[2K     \u001b[90m━━━━━━━━━━━━━━━━━━━━━━━━━━━━━━━━━━━━━━\u001b[0m \u001b[32m110.5/110.5 kB\u001b[0m \u001b[31m15.2 MB/s\u001b[0m eta \u001b[36m0:00:00\u001b[0m\n",
            "\u001b[?25hRequirement already satisfied: pandas in /usr/local/lib/python3.10/dist-packages (from datasets) (1.5.3)\n",
            "Collecting xxhash (from datasets)\n",
            "  Downloading xxhash-3.2.0-cp310-cp310-manylinux_2_17_x86_64.manylinux2014_x86_64.whl (212 kB)\n",
            "\u001b[2K     \u001b[90m━━━━━━━━━━━━━━━━━━━━━━━━━━━━━━━━━━━━━━\u001b[0m \u001b[32m212.5/212.5 kB\u001b[0m \u001b[31m17.8 MB/s\u001b[0m eta \u001b[36m0:00:00\u001b[0m\n",
            "\u001b[?25hCollecting multiprocess (from datasets)\n",
            "  Downloading multiprocess-0.70.14-py310-none-any.whl (134 kB)\n",
            "\u001b[2K     \u001b[90m━━━━━━━━━━━━━━━━━━━━━━━━━━━━━━━━━━━━━━\u001b[0m \u001b[32m134.3/134.3 kB\u001b[0m \u001b[31m17.5 MB/s\u001b[0m eta \u001b[36m0:00:00\u001b[0m\n",
            "\u001b[?25hRequirement already satisfied: fsspec[http]>=2021.11.1 in /usr/local/lib/python3.10/dist-packages (from datasets) (2023.6.0)\n",
            "Requirement already satisfied: aiohttp in /usr/local/lib/python3.10/dist-packages (from datasets) (3.8.4)\n",
            "Requirement already satisfied: attrs>=17.3.0 in /usr/local/lib/python3.10/dist-packages (from aiohttp->datasets) (23.1.0)\n",
            "Requirement already satisfied: charset-normalizer<4.0,>=2.0 in /usr/local/lib/python3.10/dist-packages (from aiohttp->datasets) (2.0.12)\n",
            "Requirement already satisfied: multidict<7.0,>=4.5 in /usr/local/lib/python3.10/dist-packages (from aiohttp->datasets) (6.0.4)\n",
            "Requirement already satisfied: async-timeout<5.0,>=4.0.0a3 in /usr/local/lib/python3.10/dist-packages (from aiohttp->datasets) (4.0.2)\n",
            "Requirement already satisfied: yarl<2.0,>=1.0 in /usr/local/lib/python3.10/dist-packages (from aiohttp->datasets) (1.9.2)\n",
            "Requirement already satisfied: frozenlist>=1.1.1 in /usr/local/lib/python3.10/dist-packages (from aiohttp->datasets) (1.3.3)\n",
            "Requirement already satisfied: aiosignal>=1.1.2 in /usr/local/lib/python3.10/dist-packages (from aiohttp->datasets) (1.3.1)\n",
            "Requirement already satisfied: typing-extensions>=3.7.4.3 in /usr/local/lib/python3.10/dist-packages (from huggingface-hub<1.0,>=0.14.1->transformers) (4.7.1)\n",
            "Requirement already satisfied: urllib3<1.27,>=1.21.1 in /usr/local/lib/python3.10/dist-packages (from requests->transformers) (1.26.16)\n",
            "Requirement already satisfied: certifi>=2017.4.17 in /usr/local/lib/python3.10/dist-packages (from requests->transformers) (2023.5.7)\n",
            "Requirement already satisfied: idna<4,>=2.5 in /usr/local/lib/python3.10/dist-packages (from requests->transformers) (3.4)\n",
            "Requirement already satisfied: python-dateutil>=2.8.1 in /usr/local/lib/python3.10/dist-packages (from pandas->datasets) (2.8.2)\n",
            "Requirement already satisfied: pytz>=2020.1 in /usr/local/lib/python3.10/dist-packages (from pandas->datasets) (2022.7.1)\n",
            "Requirement already satisfied: six>=1.5 in /usr/local/lib/python3.10/dist-packages (from python-dateutil>=2.8.1->pandas->datasets) (1.16.0)\n",
            "Installing collected packages: tokenizers, safetensors, xxhash, dill, multiprocess, huggingface-hub, transformers, datasets\n",
            "Successfully installed datasets-2.13.1 dill-0.3.6 huggingface-hub-0.16.4 multiprocess-0.70.14 safetensors-0.3.1 tokenizers-0.13.3 transformers-4.30.2 xxhash-3.2.0\n"
          ]
        }
      ]
    },
    {
      "cell_type": "markdown",
      "source": [
        "The answer to the question can be multiple"
      ],
      "metadata": {
        "id": "5GaV2dgcBvfD"
      }
    },
    {
      "cell_type": "code",
      "source": [
        "from datasets import load_dataset\n",
        "raw_datasets=load_dataset('squad')\n"
      ],
      "metadata": {
        "colab": {
          "base_uri": "https://localhost:8080/",
          "height": 328,
          "referenced_widgets": [
            "a3af4eadd0cd4f5fa68c5a38a395940b",
            "01732a5ec785414dbf31aac1d2dee7ea",
            "68e080de819b448a928fe611ed95cac5",
            "166a75e1d82d4760a8be9acc98d72efe",
            "1e4a946ba3934ba8a11fe911ff0af9a5",
            "b9fee2b698b14d319df2b33a10df67d1",
            "801327631a274a74a405a448c0e48aac",
            "b66494ceb20f499a9cac3ae238f0684a",
            "8fcf3067ec684c939335a4f9d475b1aa",
            "83cf89d3cba140b1a3c60e1c3362a279",
            "cbecd60d2c104a4e87525c057b7c4992",
            "ed620ac78a6647538090dd66c2bc392d",
            "64a094402f7d4d04a5d8ea6213e64eb0",
            "de7a9db67c3647d48633d02dd4dd9c80",
            "012453e7218044adba5a4f31fdcd2cbf",
            "13df6f8e6fb940e982954b686bb8e82e",
            "2b0998299420448397c9f9d530301bc4",
            "2c70f1fd2a5c4aec945cfa87e439652b",
            "85213e9f9a474c8db38861756ec84f0b",
            "76ad5c82c6ee4abaad3d7b5f380ef013",
            "563c7376f5244957817400bd1641c221",
            "bb0d3d176ea849f991b9f95b92444b2d",
            "476c317c7e13476d85db24f128135744",
            "56b7c63f5fde4b3b806c42ce7d8d037a",
            "2e69e20361464a7eb525de2c60ced6c9",
            "f8e0f95de1ad42299abcb1c40ccea4c0",
            "dfa768a9d8fb47ada928b063e2296320",
            "777853de551e413aa6050c328cddff63",
            "99cf78644e154a7ab4dd96cc2bf3c534",
            "ba73870b455646709a76225d2155455d",
            "2601964172e74552a80bb8f947142d6d",
            "06d7d610bf7441cd92657b193413eeaa",
            "561c0ec58f654a3a94828d5dc9aa96ac",
            "46c1ebaaa46646eebe6e91ae302a3b16",
            "09cfc8c812cc4510bd6ce65ffdfde1b2",
            "28359c3cb182424cb6c908ac706d88df",
            "165fe67c82f54b72870cad10afc2a1ef",
            "24de0b59c1ed4ed49f8c6039ec864d00",
            "f4ca091db7e94fa68bebd58851aeb305",
            "37eff784c70747779af4f9914d5d2208",
            "6b0871a52ec3442c8fc042eabea5fc66",
            "59dcdd876d294c3fbd41f6ccfab892af",
            "72a1a91da2304869915e756eea080ebd",
            "0adf36cf8a394a06bf5285385b821add",
            "8096ddda6df2442099d60e98d6da14fe",
            "e6c0a321c0ce449b98766ae8e0e396ba",
            "9a8e580f2acd4c07ad11c397d4363216",
            "bba52bd4c80e42a2938ccd720919506a",
            "a4ac4117f566494d9cd788b305858903",
            "e43afd364f8240868d40143417e79c26",
            "83f3801e6cd5444e9cdc19c85198b355",
            "53f3649d27bc4dcf81ebd19ec212477e",
            "855ddfe0cc93472698be5a9b5944c91f",
            "bcbcbafe16d0480aa51d5d1216f94c0d",
            "f94faf2eb0334c389a8c3a920ae8c1aa",
            "22ab134880b84012bf2df62c89a7f354",
            "231a131330b7461793a38a9271fc333c",
            "b5ac9b92451f4f6fa34d4830efe977d8",
            "cd3350e839674353bc27de3f2be11b24",
            "167edae350654f52850f88038d4d23f8",
            "0bc38501b7e0458faf2812041da0c078",
            "af9a590fac614d9991b65e576a75a62e",
            "1c0eb36349d149ffb3f8b74ce6861325",
            "9ba584d8edb9447e9f26cd5755e34f30",
            "25a4aaf1c52f44c380cd30fdc7ef9d84",
            "332b858d7bf64bf3ac023e7a2d51524a",
            "a5c9b81aa1a8469389d46f30fa050483",
            "5a6650db773547618d56a4e038182750",
            "d6aa66126d30468b87a41c3b57e2d64f",
            "3b3ae7abae2448bba3f6a004d89438dc",
            "3ce00eb8c76b4dbeb96469c061c9dc05",
            "f1aa6192f5a44ae79e0c11edce42c602",
            "843503db69694a25889d214d99be9833",
            "85a5123ed74942408793525e54b804bc",
            "c061018660e8423f8f05fb2d279188a9",
            "bbca3d0e2129415888e4f5eb1b579443",
            "324bb48e6e8842c9b07ac5f1e8909462",
            "89d3ec462a39459db975c18d3832ead2",
            "9782be31bf8f4cbc836b399723c97866",
            "eb3650ebc0b54105aed95913c014c668",
            "be236c50ee5b4192a1b6867c71681f51",
            "960476fe3db24ac9b5ffca88c727d524",
            "a0dcdbaacef244778397b14a787371b4",
            "501d5b02818f4092844e864b969907e1",
            "847ca9bf341a4673828f2b42bac1986b",
            "c8ce0c753fef43e19aa97443fd1c6d5a",
            "8719215945184e4ea796e38ebb60a36b",
            "6aa39a5ac96d4dee88324af36a7a5f11",
            "e9910cb1d3cb4c64ad41b3cd84c873db",
            "ff5cced12111495c9d7f1fb48bf3bcba",
            "9ec7ee7f6a3c45a48344e9a00ad04277",
            "6e8c7529ed104eb590ef869e9fe27dcc",
            "4e63446e34fd44808ce25ce92c4dfb3d",
            "e0d9f1aa654b43f4a2956d1d6c39d9d0",
            "304160d9ed374517baaff92692f3ec84",
            "b6f3ad00894841178954856e6f16d79b",
            "5eac42b32a894f52a56ab8b05538b7c6",
            "6145baa90669459db04b7ae6d6b3084f",
            "b49d32f14edd409c9776182490b694c0",
            "bcddded9eab04c379185204daa23b3c2",
            "26626efe6533449fb03deee577fdfdbb",
            "600289216f6f4461ab412ebdff137690",
            "d6176cc2b11241da93bf3a71375af0de",
            "9b3cb02b9a2d4c219c4812066c52fcf3",
            "8eef930663cb4f26890c2435d45ac74a",
            "23ea807483df4d0db1e2440d95d9dd83",
            "861d17ce57784d74aa694bb2c5bb7d3c",
            "458f67eaa7f24f6bafaf1e3ed341b9e7",
            "3fd415bbc2fd407e9bf1a906fbb0d4d3",
            "fec261c7ef5447fb8b8a1aa898be1c53"
          ]
        },
        "id": "yAv0786XBS2E",
        "outputId": "8aa18e39-f410-4b9d-f4bf-8233501a6358"
      },
      "execution_count": 2,
      "outputs": [
        {
          "output_type": "display_data",
          "data": {
            "text/plain": [
              "Downloading builder script:   0%|          | 0.00/5.27k [00:00<?, ?B/s]"
            ],
            "application/vnd.jupyter.widget-view+json": {
              "version_major": 2,
              "version_minor": 0,
              "model_id": "a3af4eadd0cd4f5fa68c5a38a395940b"
            }
          },
          "metadata": {}
        },
        {
          "output_type": "display_data",
          "data": {
            "text/plain": [
              "Downloading metadata:   0%|          | 0.00/2.36k [00:00<?, ?B/s]"
            ],
            "application/vnd.jupyter.widget-view+json": {
              "version_major": 2,
              "version_minor": 0,
              "model_id": "ed620ac78a6647538090dd66c2bc392d"
            }
          },
          "metadata": {}
        },
        {
          "output_type": "display_data",
          "data": {
            "text/plain": [
              "Downloading readme:   0%|          | 0.00/7.67k [00:00<?, ?B/s]"
            ],
            "application/vnd.jupyter.widget-view+json": {
              "version_major": 2,
              "version_minor": 0,
              "model_id": "476c317c7e13476d85db24f128135744"
            }
          },
          "metadata": {}
        },
        {
          "output_type": "stream",
          "name": "stdout",
          "text": [
            "Downloading and preparing dataset squad/plain_text to /root/.cache/huggingface/datasets/squad/plain_text/1.0.0/d6ec3ceb99ca480ce37cdd35555d6cb2511d223b9150cce08a837ef62ffea453...\n"
          ]
        },
        {
          "output_type": "display_data",
          "data": {
            "text/plain": [
              "Downloading data files:   0%|          | 0/2 [00:00<?, ?it/s]"
            ],
            "application/vnd.jupyter.widget-view+json": {
              "version_major": 2,
              "version_minor": 0,
              "model_id": "46c1ebaaa46646eebe6e91ae302a3b16"
            }
          },
          "metadata": {}
        },
        {
          "output_type": "display_data",
          "data": {
            "text/plain": [
              "Downloading data:   0%|          | 0.00/8.12M [00:00<?, ?B/s]"
            ],
            "application/vnd.jupyter.widget-view+json": {
              "version_major": 2,
              "version_minor": 0,
              "model_id": "8096ddda6df2442099d60e98d6da14fe"
            }
          },
          "metadata": {}
        },
        {
          "output_type": "display_data",
          "data": {
            "text/plain": [
              "Downloading data:   0%|          | 0.00/1.05M [00:00<?, ?B/s]"
            ],
            "application/vnd.jupyter.widget-view+json": {
              "version_major": 2,
              "version_minor": 0,
              "model_id": "22ab134880b84012bf2df62c89a7f354"
            }
          },
          "metadata": {}
        },
        {
          "output_type": "display_data",
          "data": {
            "text/plain": [
              "Extracting data files:   0%|          | 0/2 [00:00<?, ?it/s]"
            ],
            "application/vnd.jupyter.widget-view+json": {
              "version_major": 2,
              "version_minor": 0,
              "model_id": "a5c9b81aa1a8469389d46f30fa050483"
            }
          },
          "metadata": {}
        },
        {
          "output_type": "display_data",
          "data": {
            "text/plain": [
              "Generating train split:   0%|          | 0/87599 [00:00<?, ? examples/s]"
            ],
            "application/vnd.jupyter.widget-view+json": {
              "version_major": 2,
              "version_minor": 0,
              "model_id": "89d3ec462a39459db975c18d3832ead2"
            }
          },
          "metadata": {}
        },
        {
          "output_type": "display_data",
          "data": {
            "text/plain": [
              "Generating validation split:   0%|          | 0/10570 [00:00<?, ? examples/s]"
            ],
            "application/vnd.jupyter.widget-view+json": {
              "version_major": 2,
              "version_minor": 0,
              "model_id": "e9910cb1d3cb4c64ad41b3cd84c873db"
            }
          },
          "metadata": {}
        },
        {
          "output_type": "stream",
          "name": "stdout",
          "text": [
            "Dataset squad downloaded and prepared to /root/.cache/huggingface/datasets/squad/plain_text/1.0.0/d6ec3ceb99ca480ce37cdd35555d6cb2511d223b9150cce08a837ef62ffea453. Subsequent calls will reuse this data.\n"
          ]
        },
        {
          "output_type": "display_data",
          "data": {
            "text/plain": [
              "  0%|          | 0/2 [00:00<?, ?it/s]"
            ],
            "application/vnd.jupyter.widget-view+json": {
              "version_major": 2,
              "version_minor": 0,
              "model_id": "bcddded9eab04c379185204daa23b3c2"
            }
          },
          "metadata": {}
        }
      ]
    },
    {
      "cell_type": "code",
      "source": [
        "raw_datasets"
      ],
      "metadata": {
        "colab": {
          "base_uri": "https://localhost:8080/"
        },
        "id": "r1bo9V0fCJ8z",
        "outputId": "0978815e-5c0f-42b9-ee07-1f5824dd73f0"
      },
      "execution_count": 3,
      "outputs": [
        {
          "output_type": "execute_result",
          "data": {
            "text/plain": [
              "DatasetDict({\n",
              "    train: Dataset({\n",
              "        features: ['id', 'title', 'context', 'question', 'answers'],\n",
              "        num_rows: 87599\n",
              "    })\n",
              "    validation: Dataset({\n",
              "        features: ['id', 'title', 'context', 'question', 'answers'],\n",
              "        num_rows: 10570\n",
              "    })\n",
              "})"
            ]
          },
          "metadata": {},
          "execution_count": 3
        }
      ]
    },
    {
      "cell_type": "code",
      "source": [],
      "metadata": {
        "id": "v0Hoea7_CKEu"
      },
      "execution_count": 3,
      "outputs": []
    },
    {
      "cell_type": "code",
      "source": [
        "raw_datasets['train'][1]['title']"
      ],
      "metadata": {
        "colab": {
          "base_uri": "https://localhost:8080/",
          "height": 35
        },
        "id": "DhSQrFJrCE-h",
        "outputId": "3062cdda-4256-4deb-d8f9-89405f4006fe"
      },
      "execution_count": 4,
      "outputs": [
        {
          "output_type": "execute_result",
          "data": {
            "text/plain": [
              "'University_of_Notre_Dame'"
            ],
            "application/vnd.google.colaboratory.intrinsic+json": {
              "type": "string"
            }
          },
          "metadata": {},
          "execution_count": 4
        }
      ]
    },
    {
      "cell_type": "code",
      "source": [
        "raw_datasets['train'][1]['context']"
      ],
      "metadata": {
        "colab": {
          "base_uri": "https://localhost:8080/",
          "height": 140
        },
        "id": "goeaCsMMCH3i",
        "outputId": "3566818f-224b-465f-9cf2-74dc6c03e0c2"
      },
      "execution_count": 5,
      "outputs": [
        {
          "output_type": "execute_result",
          "data": {
            "text/plain": [
              "'Architecturally, the school has a Catholic character. Atop the Main Building\\'s gold dome is a golden statue of the Virgin Mary. Immediately in front of the Main Building and facing it, is a copper statue of Christ with arms upraised with the legend \"Venite Ad Me Omnes\". Next to the Main Building is the Basilica of the Sacred Heart. Immediately behind the basilica is the Grotto, a Marian place of prayer and reflection. It is a replica of the grotto at Lourdes, France where the Virgin Mary reputedly appeared to Saint Bernadette Soubirous in 1858. At the end of the main drive (and in a direct line that connects through 3 statues and the Gold Dome), is a simple, modern stone statue of Mary.'"
            ],
            "application/vnd.google.colaboratory.intrinsic+json": {
              "type": "string"
            }
          },
          "metadata": {},
          "execution_count": 5
        }
      ]
    },
    {
      "cell_type": "code",
      "source": [
        "raw_datasets['train'][1]['question']"
      ],
      "metadata": {
        "colab": {
          "base_uri": "https://localhost:8080/",
          "height": 35
        },
        "id": "gZumwXaCCWOu",
        "outputId": "2e8ff799-c061-4ed3-a92f-3c7aefec407e"
      },
      "execution_count": 6,
      "outputs": [
        {
          "output_type": "execute_result",
          "data": {
            "text/plain": [
              "'What is in front of the Notre Dame Main Building?'"
            ],
            "application/vnd.google.colaboratory.intrinsic+json": {
              "type": "string"
            }
          },
          "metadata": {},
          "execution_count": 6
        }
      ]
    },
    {
      "cell_type": "code",
      "source": [
        "raw_datasets['train'][1]['answers']"
      ],
      "metadata": {
        "colab": {
          "base_uri": "https://localhost:8080/"
        },
        "id": "MFe9ZLUWCYWM",
        "outputId": "538e7982-035b-426e-e3ee-21abc8f0e94d"
      },
      "execution_count": 7,
      "outputs": [
        {
          "output_type": "execute_result",
          "data": {
            "text/plain": [
              "{'text': ['a copper statue of Christ'], 'answer_start': [188]}"
            ]
          },
          "metadata": {},
          "execution_count": 7
        }
      ]
    },
    {
      "cell_type": "code",
      "source": [
        "raw_datasets['train'].filter(lambda x: len(x['answers']['text'])!=1)"
      ],
      "metadata": {
        "colab": {
          "base_uri": "https://localhost:8080/",
          "height": 86,
          "referenced_widgets": [
            "ca07ecbbc4374e2e804245735f0e1da0",
            "b45155fcca704f59a1b09eb0f833d38e",
            "1832d101baf34112ab888a4d61dbb0f4",
            "1ba9f34341064782a26e353efb6b7caf",
            "37dd335d9bc948ac96819c0b70d0d211",
            "78e605f9a5044932ab9baa1fd320d7e7",
            "e2f7b3bb40574b979d1e4efbfb2b97ce",
            "d56d55355aef40bf88b58c8bc3d792ac",
            "66b752e44080492780266f80152dbe35",
            "50d3350b268a4aa386f0382161d2ea00",
            "78641c5395774111ae8ee6a0e25716ac"
          ]
        },
        "id": "HCj9BQpxCZi2",
        "outputId": "86c314cf-f8d7-4f0c-f9d2-d11babd3beaf"
      },
      "execution_count": 8,
      "outputs": [
        {
          "output_type": "display_data",
          "data": {
            "text/plain": [
              "Filter:   0%|          | 0/87599 [00:00<?, ? examples/s]"
            ],
            "application/vnd.jupyter.widget-view+json": {
              "version_major": 2,
              "version_minor": 0,
              "model_id": "ca07ecbbc4374e2e804245735f0e1da0"
            }
          },
          "metadata": {}
        },
        {
          "output_type": "execute_result",
          "data": {
            "text/plain": [
              "Dataset({\n",
              "    features: ['id', 'title', 'context', 'question', 'answers'],\n",
              "    num_rows: 0\n",
              "})"
            ]
          },
          "metadata": {},
          "execution_count": 8
        }
      ]
    },
    {
      "cell_type": "markdown",
      "source": [
        "The above means that every row in the dataset has exactly 1 answer"
      ],
      "metadata": {
        "id": "wPlnmTyJCnRz"
      }
    },
    {
      "cell_type": "code",
      "source": [
        "raw_datasets['validation'][2]['answers']"
      ],
      "metadata": {
        "colab": {
          "base_uri": "https://localhost:8080/"
        },
        "id": "wOHoUN0pCxbN",
        "outputId": "ff0b4503-c923-4b4e-e637-83b8d5b46fa4"
      },
      "execution_count": 9,
      "outputs": [
        {
          "output_type": "execute_result",
          "data": {
            "text/plain": [
              "{'text': ['Santa Clara, California',\n",
              "  \"Levi's Stadium\",\n",
              "  \"Levi's Stadium in the San Francisco Bay Area at Santa Clara, California.\"],\n",
              " 'answer_start': [403, 355, 355]}"
            ]
          },
          "metadata": {},
          "execution_count": 9
        }
      ]
    },
    {
      "cell_type": "code",
      "source": [
        "raw_datasets['validation'][2]['context']"
      ],
      "metadata": {
        "colab": {
          "base_uri": "https://localhost:8080/",
          "height": 157
        },
        "id": "gDuFmtp3C03P",
        "outputId": "df27fc51-ecc0-4453-cbf5-f52b17647518"
      },
      "execution_count": 10,
      "outputs": [
        {
          "output_type": "execute_result",
          "data": {
            "text/plain": [
              "'Super Bowl 50 was an American football game to determine the champion of the National Football League (NFL) for the 2015 season. The American Football Conference (AFC) champion Denver Broncos defeated the National Football Conference (NFC) champion Carolina Panthers 24–10 to earn their third Super Bowl title. The game was played on February 7, 2016, at Levi\\'s Stadium in the San Francisco Bay Area at Santa Clara, California. As this was the 50th Super Bowl, the league emphasized the \"golden anniversary\" with various gold-themed initiatives, as well as temporarily suspending the tradition of naming each Super Bowl game with Roman numerals (under which the game would have been known as \"Super Bowl L\"), so that the logo could prominently feature the Arabic numerals 50.'"
            ],
            "application/vnd.google.colaboratory.intrinsic+json": {
              "type": "string"
            }
          },
          "metadata": {},
          "execution_count": 10
        }
      ]
    },
    {
      "cell_type": "code",
      "source": [
        "raw_datasets['validation'][2]['question']"
      ],
      "metadata": {
        "colab": {
          "base_uri": "https://localhost:8080/",
          "height": 35
        },
        "id": "j5Y4rfApC3l9",
        "outputId": "0b7c22eb-512a-483f-e2d6-2845bffa8503"
      },
      "execution_count": 11,
      "outputs": [
        {
          "output_type": "execute_result",
          "data": {
            "text/plain": [
              "'Where did Super Bowl 50 take place?'"
            ],
            "application/vnd.google.colaboratory.intrinsic+json": {
              "type": "string"
            }
          },
          "metadata": {},
          "execution_count": 11
        }
      ]
    },
    {
      "cell_type": "markdown",
      "source": [
        "Validation set has qustions with multiple answers"
      ],
      "metadata": {
        "id": "suQO-OJdC5YB"
      }
    },
    {
      "cell_type": "markdown",
      "source": [
        "##Tokenizer"
      ],
      "metadata": {
        "id": "7m26FCaPC_og"
      }
    },
    {
      "cell_type": "markdown",
      "source": [
        "We send the questin first and then the context next\n",
        "\n",
        "![image.png](data:image/png;base64,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)"
      ],
      "metadata": {
        "id": "1z8hPfFLDiTt"
      }
    },
    {
      "cell_type": "markdown",
      "source": [
        "For long sentences, we may have a problem.\n",
        "- BERT can handle only a limited number of tokens.\n",
        "\n",
        "Sol is split the context into multiple set of windows.\n",
        "-Use overlapping windows to get an answer which exist in end of window 1 and start of window 2 (THis is definder by the argumenr stride in the Tokenizer call)\n",
        "\n",
        "![image.png](data:image/png;base64,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)"
      ],
      "metadata": {
        "id": "pSzQ5eAjD2GF"
      }
    },
    {
      "cell_type": "markdown",
      "source": [
        "return ofsset mappings(TRUE)- We will get an additional output token- it's going to give a list of tuples which corresponds to the token in the input sequence . it has start and end token position in the tuple  \n",
        "\n",
        "![image.png](data:image/png;base64,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)"
      ],
      "metadata": {
        "id": "P3DZFymREPNn"
      }
    },
    {
      "cell_type": "code",
      "source": [
        "from transformers import AutoTokenizer\n",
        "checkpoint='distilbert-base-cased'\n",
        "tokenizer=AutoTokenizer.from_pretrained(checkpoint)"
      ],
      "metadata": {
        "colab": {
          "base_uri": "https://localhost:8080/",
          "height": 145,
          "referenced_widgets": [
            "001971d8d6f54416b6af6d7f139241e2",
            "ff0402837db345dbab7e31592d41b2f7",
            "c4b4a981654c4dada073c4e415b8b848",
            "d080523d4f0445de93db9617e6236f60",
            "99f5a1cfe38d45098976dbb5c7f8b9b8",
            "6f05f1ae05ba4bc694c61d9651f8d590",
            "20433c9105674cbfaab00b96649d7c16",
            "48ae5768a9ad4cad85625eddda072973",
            "d4f68f2c64e74da3be57ae55ad89b745",
            "74404aa1f9964e53895cd5e4200ecbb4",
            "f8fe6b285e234603a880f7c3bd6534d9",
            "3c27b00193044fd4be9c0dfc16e0d759",
            "875352e383f3407e925a35b3dae816d8",
            "a8a8fa5bedce49e6a741995338b4e2de",
            "c92635b830d14baa88ff42b6e66105d2",
            "a6799ceb9b5141098666cfe4ef624073",
            "d0a5725c1f5b464b9d057cf2d328be22",
            "2548994d76674a1fa3cf842509310416",
            "a83b9899153e479ea0fd8ac4294dfcc8",
            "3dae817d373f4ef284fdcbe331c6d099",
            "ac39cde275c049afabd492482af010ff",
            "07b2003f49b148408f3712c63ff538fb",
            "29866ca81a324e1da2cd0997349a6d57",
            "ba88d8e7abf447c0b4d8b4f68cbd1b24",
            "43733c766ad74498a5179059c5eef9f4",
            "a7ebc36a54bf4e21b646aa560654ffa0",
            "a191a93e1e4944f8aa22e1f9d10bf111",
            "e7735dcb7c424a8692db2317a1f25941",
            "7424b2bbbf874498bc350f31b3cdfcc4",
            "43b0950b196a41ee95882811fb6fede6",
            "594d97d7823e4e74a2a3119a29cb9e3a",
            "207604d7fd2342568570036df6e29f5c",
            "af99f463f5ea43c88298e4d881bf9e54",
            "bbbcb531cffb415fb8f9630be984e2e4",
            "f230f7a0684344009a9480f138ea740a",
            "3a9a63d741cb468eb8b1cd127f7d8e39",
            "029ace73d54745d598b4992e62fe6c80",
            "51c9b16228ef4f718d725c85b263ca00",
            "b33a932d61cb4f9086a2148b8ac808f3",
            "430a8fdaf5364948a8849ceec81c3516",
            "ad4948f1e6884a02a5cba17216d21d0c",
            "b996926a347d41d88e51f363d18de0ce",
            "2b4cc1ee074c4fbd90e1d0c37d74b93c",
            "9c235332ffa340028d6500bcf47c0b21"
          ]
        },
        "id": "5BQkCgYVFiwo",
        "outputId": "707cdba0-02f4-4a1f-f791-00a94f57b3cc"
      },
      "execution_count": 12,
      "outputs": [
        {
          "output_type": "display_data",
          "data": {
            "text/plain": [
              "Downloading (…)okenizer_config.json:   0%|          | 0.00/29.0 [00:00<?, ?B/s]"
            ],
            "application/vnd.jupyter.widget-view+json": {
              "version_major": 2,
              "version_minor": 0,
              "model_id": "001971d8d6f54416b6af6d7f139241e2"
            }
          },
          "metadata": {}
        },
        {
          "output_type": "display_data",
          "data": {
            "text/plain": [
              "Downloading (…)lve/main/config.json:   0%|          | 0.00/411 [00:00<?, ?B/s]"
            ],
            "application/vnd.jupyter.widget-view+json": {
              "version_major": 2,
              "version_minor": 0,
              "model_id": "3c27b00193044fd4be9c0dfc16e0d759"
            }
          },
          "metadata": {}
        },
        {
          "output_type": "display_data",
          "data": {
            "text/plain": [
              "Downloading (…)solve/main/vocab.txt:   0%|          | 0.00/213k [00:00<?, ?B/s]"
            ],
            "application/vnd.jupyter.widget-view+json": {
              "version_major": 2,
              "version_minor": 0,
              "model_id": "29866ca81a324e1da2cd0997349a6d57"
            }
          },
          "metadata": {}
        },
        {
          "output_type": "display_data",
          "data": {
            "text/plain": [
              "Downloading (…)/main/tokenizer.json:   0%|          | 0.00/436k [00:00<?, ?B/s]"
            ],
            "application/vnd.jupyter.widget-view+json": {
              "version_major": 2,
              "version_minor": 0,
              "model_id": "bbbcb531cffb415fb8f9630be984e2e4"
            }
          },
          "metadata": {}
        }
      ]
    },
    {
      "cell_type": "code",
      "source": [
        "context=raw_datasets['train'][1]['context']\n",
        "question=raw_datasets['train'][1]['question']"
      ],
      "metadata": {
        "id": "5LtXqdC6IGFx"
      },
      "execution_count": 13,
      "outputs": []
    },
    {
      "cell_type": "code",
      "source": [
        "inputs=tokenizer(question, context)\n",
        "tokenizer.decode(inputs['input_ids'])"
      ],
      "metadata": {
        "colab": {
          "base_uri": "https://localhost:8080/",
          "height": 157
        },
        "id": "-EoNZm_rIY9X",
        "outputId": "698cd017-9537-40b0-8923-36904f3b47d7"
      },
      "execution_count": 14,
      "outputs": [
        {
          "output_type": "execute_result",
          "data": {
            "text/plain": [
              "'[CLS] What is in front of the Notre Dame Main Building? [SEP] Architecturally, the school has a Catholic character. Atop the Main Building\\'s gold dome is a golden statue of the Virgin Mary. Immediately in front of the Main Building and facing it, is a copper statue of Christ with arms upraised with the legend \" Venite Ad Me Omnes \". Next to the Main Building is the Basilica of the Sacred Heart. Immediately behind the basilica is the Grotto, a Marian place of prayer and reflection. It is a replica of the grotto at Lourdes, France where the Virgin Mary reputedly appeared to Saint Bernadette Soubirous in 1858. At the end of the main drive ( and in a direct line that connects through 3 statues and the Gold Dome ), is a simple, modern stone statue of Mary. [SEP]'"
            ],
            "application/vnd.google.colaboratory.intrinsic+json": {
              "type": "string"
            }
          },
          "metadata": {},
          "execution_count": 14
        }
      ]
    },
    {
      "cell_type": "code",
      "source": [
        "#What if the context is really long.\n",
        "#Split it inot multiple samples\n",
        "inputs=tokenizer(\n",
        "    question,\n",
        "    context,\n",
        "    max_length=100,\n",
        "    truncation='only_second',\n",
        "    stride=50,\n",
        "    return_overflowing_tokens=True,\n",
        "\n",
        ")\n",
        "\n",
        "for ids in inputs['input_ids']:\n",
        "  print(tokenizer.decode(ids))"
      ],
      "metadata": {
        "colab": {
          "base_uri": "https://localhost:8080/"
        },
        "id": "u7kawbOfIuou",
        "outputId": "4a1970a0-c03c-41f9-b77c-7b1d27684d23"
      },
      "execution_count": 15,
      "outputs": [
        {
          "output_type": "stream",
          "name": "stdout",
          "text": [
            "[CLS] What is in front of the Notre Dame Main Building? [SEP] Architecturally, the school has a Catholic character. Atop the Main Building's gold dome is a golden statue of the Virgin Mary. Immediately in front of the Main Building and facing it, is a copper statue of Christ with arms upraised with the legend \" Venite Ad Me Omnes \". Next to the Main Building is the Basilica of the Sacred Heart. Immediately behind the basilica is the G [SEP]\n",
            "[CLS] What is in front of the Notre Dame Main Building? [SEP] facing it, is a copper statue of Christ with arms upraised with the legend \" Venite Ad Me Omnes \". Next to the Main Building is the Basilica of the Sacred Heart. Immediately behind the basilica is the Grotto, a Marian place of prayer and reflection. It is a replica of the grotto at Lourdes, France where the Virgin Mary reputedly appeared to Saint Bernade [SEP]\n",
            "[CLS] What is in front of the Notre Dame Main Building? [SEP] of the Sacred Heart. Immediately behind the basilica is the Grotto, a Marian place of prayer and reflection. It is a replica of the grotto at Lourdes, France where the Virgin Mary reputedly appeared to Saint Bernadette Soubirous in 1858. At the end of the main drive ( and in a direct line that connects through 3 statues and the Gold Dome ), is a simple, modern [SEP]\n",
            "[CLS] What is in front of the Notre Dame Main Building? [SEP]rdes, France where the Virgin Mary reputedly appeared to Saint Bernadette Soubirous in 1858. At the end of the main drive ( and in a direct line that connects through 3 statues and the Gold Dome ), is a simple, modern stone statue of Mary. [SEP]\n"
          ]
        }
      ]
    },
    {
      "cell_type": "code",
      "source": [
        "inputs.keys()"
      ],
      "metadata": {
        "colab": {
          "base_uri": "https://localhost:8080/"
        },
        "id": "If_iMUD_JPCp",
        "outputId": "2563219c-4b7c-46f9-f06a-3d5ae734e0d0"
      },
      "execution_count": 16,
      "outputs": [
        {
          "output_type": "execute_result",
          "data": {
            "text/plain": [
              "dict_keys(['input_ids', 'attention_mask', 'overflow_to_sample_mapping'])"
            ]
          },
          "metadata": {},
          "execution_count": 16
        }
      ]
    },
    {
      "cell_type": "code",
      "source": [
        "inputs['overflow_to_sample_mapping']"
      ],
      "metadata": {
        "colab": {
          "base_uri": "https://localhost:8080/"
        },
        "id": "NZoLpahrJV4q",
        "outputId": "d4044f0e-e714-4280-e193-0fdd937c6fc7"
      },
      "execution_count": 17,
      "outputs": [
        {
          "output_type": "execute_result",
          "data": {
            "text/plain": [
              "[0, 0, 0, 0]"
            ]
          },
          "metadata": {},
          "execution_count": 17
        }
      ]
    },
    {
      "cell_type": "markdown",
      "source": [
        "when we split the context, we get multiple samples, but we need to know from where the original sample index came from"
      ],
      "metadata": {
        "id": "aDljVdPRJmM4"
      }
    },
    {
      "cell_type": "code",
      "source": [
        "inputs=tokenizer(\n",
        "    raw_datasets['train'][:3]['question'],\n",
        "    raw_datasets['train'][:3]['context'],\n",
        "    max_length=100,\n",
        "    truncation='only_second',\n",
        "    stride=50,\n",
        "    return_overflowing_tokens=True,\n",
        "    return_offsets_mapping=True\n",
        "\n",
        ")"
      ],
      "metadata": {
        "id": "nsXBdWYyJ1i3"
      },
      "execution_count": 18,
      "outputs": []
    },
    {
      "cell_type": "code",
      "source": [
        "inputs['overflow_to_sample_mapping']"
      ],
      "metadata": {
        "colab": {
          "base_uri": "https://localhost:8080/"
        },
        "id": "8PURx7YZKAwv",
        "outputId": "9d8af0fc-aca2-424f-8a18-3e444528d439"
      },
      "execution_count": 19,
      "outputs": [
        {
          "output_type": "execute_result",
          "data": {
            "text/plain": [
              "[0, 0, 0, 0, 1, 1, 1, 1, 2, 2, 2, 2]"
            ]
          },
          "metadata": {},
          "execution_count": 19
        }
      ]
    },
    {
      "cell_type": "code",
      "source": [
        "#It points to the original sample index\n",
        "for ids in inputs['input_ids']:\n",
        "  print(tokenizer.decode(ids))"
      ],
      "metadata": {
        "colab": {
          "base_uri": "https://localhost:8080/"
        },
        "id": "jvqQniwZKJqw",
        "outputId": "d267b072-af35-461c-e82d-9cda384d5634"
      },
      "execution_count": 20,
      "outputs": [
        {
          "output_type": "stream",
          "name": "stdout",
          "text": [
            "[CLS] To whom did the Virgin Mary allegedly appear in 1858 in Lourdes France? [SEP] Architecturally, the school has a Catholic character. Atop the Main Building's gold dome is a golden statue of the Virgin Mary. Immediately in front of the Main Building and facing it, is a copper statue of Christ with arms upraised with the legend \" Venite Ad Me Omnes \". Next to the Main Building is the Basilica of the Sacred Heart. Immediately behind the basi [SEP]\n",
            "[CLS] To whom did the Virgin Mary allegedly appear in 1858 in Lourdes France? [SEP] the Main Building and facing it, is a copper statue of Christ with arms upraised with the legend \" Venite Ad Me Omnes \". Next to the Main Building is the Basilica of the Sacred Heart. Immediately behind the basilica is the Grotto, a Marian place of prayer and reflection. It is a replica of the grotto at Lourdes, France where the Virgin [SEP]\n",
            "[CLS] To whom did the Virgin Mary allegedly appear in 1858 in Lourdes France? [SEP] Next to the Main Building is the Basilica of the Sacred Heart. Immediately behind the basilica is the Grotto, a Marian place of prayer and reflection. It is a replica of the grotto at Lourdes, France where the Virgin Mary reputedly appeared to Saint Bernadette Soubirous in 1858. At the end of the main drive ( and in a direct line that connects through 3 [SEP]\n",
            "[CLS] To whom did the Virgin Mary allegedly appear in 1858 in Lourdes France? [SEP]. It is a replica of the grotto at Lourdes, France where the Virgin Mary reputedly appeared to Saint Bernadette Soubirous in 1858. At the end of the main drive ( and in a direct line that connects through 3 statues and the Gold Dome ), is a simple, modern stone statue of Mary. [SEP]\n",
            "[CLS] What is in front of the Notre Dame Main Building? [SEP] Architecturally, the school has a Catholic character. Atop the Main Building's gold dome is a golden statue of the Virgin Mary. Immediately in front of the Main Building and facing it, is a copper statue of Christ with arms upraised with the legend \" Venite Ad Me Omnes \". Next to the Main Building is the Basilica of the Sacred Heart. Immediately behind the basilica is the G [SEP]\n",
            "[CLS] What is in front of the Notre Dame Main Building? [SEP] facing it, is a copper statue of Christ with arms upraised with the legend \" Venite Ad Me Omnes \". Next to the Main Building is the Basilica of the Sacred Heart. Immediately behind the basilica is the Grotto, a Marian place of prayer and reflection. It is a replica of the grotto at Lourdes, France where the Virgin Mary reputedly appeared to Saint Bernade [SEP]\n",
            "[CLS] What is in front of the Notre Dame Main Building? [SEP] of the Sacred Heart. Immediately behind the basilica is the Grotto, a Marian place of prayer and reflection. It is a replica of the grotto at Lourdes, France where the Virgin Mary reputedly appeared to Saint Bernadette Soubirous in 1858. At the end of the main drive ( and in a direct line that connects through 3 statues and the Gold Dome ), is a simple, modern [SEP]\n",
            "[CLS] What is in front of the Notre Dame Main Building? [SEP]rdes, France where the Virgin Mary reputedly appeared to Saint Bernadette Soubirous in 1858. At the end of the main drive ( and in a direct line that connects through 3 statues and the Gold Dome ), is a simple, modern stone statue of Mary. [SEP]\n",
            "[CLS] The Basilica of the Sacred heart at Notre Dame is beside to which structure? [SEP] Architecturally, the school has a Catholic character. Atop the Main Building's gold dome is a golden statue of the Virgin Mary. Immediately in front of the Main Building and facing it, is a copper statue of Christ with arms upraised with the legend \" Venite Ad Me Omnes \". Next to the Main Building is the Basilica of the Sacred Heart. Immediately behind the basi [SEP]\n",
            "[CLS] The Basilica of the Sacred heart at Notre Dame is beside to which structure? [SEP] the Main Building and facing it, is a copper statue of Christ with arms upraised with the legend \" Venite Ad Me Omnes \". Next to the Main Building is the Basilica of the Sacred Heart. Immediately behind the basilica is the Grotto, a Marian place of prayer and reflection. It is a replica of the grotto at Lourdes, France where the Virgin [SEP]\n",
            "[CLS] The Basilica of the Sacred heart at Notre Dame is beside to which structure? [SEP] Next to the Main Building is the Basilica of the Sacred Heart. Immediately behind the basilica is the Grotto, a Marian place of prayer and reflection. It is a replica of the grotto at Lourdes, France where the Virgin Mary reputedly appeared to Saint Bernadette Soubirous in 1858. At the end of the main drive ( and in a direct line that connects through 3 [SEP]\n",
            "[CLS] The Basilica of the Sacred heart at Notre Dame is beside to which structure? [SEP]. It is a replica of the grotto at Lourdes, France where the Virgin Mary reputedly appeared to Saint Bernadette Soubirous in 1858. At the end of the main drive ( and in a direct line that connects through 3 statues and the Gold Dome ), is a simple, modern stone statue of Mary. [SEP]\n"
          ]
        }
      ]
    },
    {
      "cell_type": "code",
      "source": [
        "\n",
        "#recreate inputs just for a single question-context pair\n",
        "inputs=tokenizer(\n",
        "    question,\n",
        "    context,\n",
        "    max_length=100,\n",
        "    truncation='only_second',\n",
        "    stride=50,\n",
        "    return_overflowing_tokens=True,\n",
        "    return_offsets_mapping=True\n",
        "\n",
        ")"
      ],
      "metadata": {
        "id": "ijv33mXRKYur"
      },
      "execution_count": 21,
      "outputs": []
    },
    {
      "cell_type": "code",
      "source": [
        "inputs.keys()"
      ],
      "metadata": {
        "colab": {
          "base_uri": "https://localhost:8080/"
        },
        "id": "PoojV4mlLpG6",
        "outputId": "8fd484ef-ca04-45b3-8ec1-4987cec2d96b"
      },
      "execution_count": 22,
      "outputs": [
        {
          "output_type": "execute_result",
          "data": {
            "text/plain": [
              "dict_keys(['input_ids', 'attention_mask', 'offset_mapping', 'overflow_to_sample_mapping'])"
            ]
          },
          "metadata": {},
          "execution_count": 22
        }
      ]
    },
    {
      "cell_type": "code",
      "source": [
        "inputs['offset_mapping']\n",
        "#It tells the location of each token\n",
        "#Notes: Special tokens takes up 0 space- (0,0)\n",
        "#The question potrion is the same for each sample\n",
        "#The context portion starting point increases in each sample"
      ],
      "metadata": {
        "colab": {
          "base_uri": "https://localhost:8080/"
        },
        "id": "WfUdujaJLqYJ",
        "outputId": "bf67d33f-61a9-4ac4-d0a4-93977baf6dd9"
      },
      "execution_count": 23,
      "outputs": [
        {
          "output_type": "execute_result",
          "data": {
            "text/plain": [
              "[[(0, 0),\n",
              "  (0, 4),\n",
              "  (5, 7),\n",
              "  (8, 10),\n",
              "  (11, 16),\n",
              "  (17, 19),\n",
              "  (20, 23),\n",
              "  (24, 29),\n",
              "  (30, 34),\n",
              "  (35, 39),\n",
              "  (40, 48),\n",
              "  (48, 49),\n",
              "  (0, 0),\n",
              "  (0, 13),\n",
              "  (13, 15),\n",
              "  (15, 16),\n",
              "  (17, 20),\n",
              "  (21, 27),\n",
              "  (28, 31),\n",
              "  (32, 33),\n",
              "  (34, 42),\n",
              "  (43, 52),\n",
              "  (52, 53),\n",
              "  (54, 56),\n",
              "  (56, 58),\n",
              "  (59, 62),\n",
              "  (63, 67),\n",
              "  (68, 76),\n",
              "  (76, 77),\n",
              "  (77, 78),\n",
              "  (79, 83),\n",
              "  (84, 88),\n",
              "  (89, 91),\n",
              "  (92, 93),\n",
              "  (94, 100),\n",
              "  (101, 107),\n",
              "  (108, 110),\n",
              "  (111, 114),\n",
              "  (115, 121),\n",
              "  (122, 126),\n",
              "  (126, 127),\n",
              "  (128, 139),\n",
              "  (140, 142),\n",
              "  (143, 148),\n",
              "  (149, 151),\n",
              "  (152, 155),\n",
              "  (156, 160),\n",
              "  (161, 169),\n",
              "  (170, 173),\n",
              "  (174, 180),\n",
              "  (181, 183),\n",
              "  (183, 184),\n",
              "  (185, 187),\n",
              "  (188, 189),\n",
              "  (190, 196),\n",
              "  (197, 203),\n",
              "  (204, 206),\n",
              "  (207, 213),\n",
              "  (214, 218),\n",
              "  (219, 223),\n",
              "  (224, 226),\n",
              "  (226, 229),\n",
              "  (229, 232),\n",
              "  (233, 237),\n",
              "  (238, 241),\n",
              "  (242, 248),\n",
              "  (249, 250),\n",
              "  (250, 251),\n",
              "  (251, 254),\n",
              "  (254, 256),\n",
              "  (257, 259),\n",
              "  (260, 262),\n",
              "  (263, 264),\n",
              "  (264, 265),\n",
              "  (265, 268),\n",
              "  (268, 269),\n",
              "  (269, 270),\n",
              "  (271, 275),\n",
              "  (276, 278),\n",
              "  (279, 282),\n",
              "  (283, 287),\n",
              "  (288, 296),\n",
              "  (297, 299),\n",
              "  (300, 303),\n",
              "  (304, 312),\n",
              "  (313, 315),\n",
              "  (316, 319),\n",
              "  (320, 326),\n",
              "  (327, 332),\n",
              "  (332, 333),\n",
              "  (334, 345),\n",
              "  (346, 352),\n",
              "  (353, 356),\n",
              "  (357, 358),\n",
              "  (358, 361),\n",
              "  (361, 365),\n",
              "  (366, 368),\n",
              "  (369, 372),\n",
              "  (373, 374),\n",
              "  (0, 0)],\n",
              " [(0, 0),\n",
              "  (0, 4),\n",
              "  (5, 7),\n",
              "  (8, 10),\n",
              "  (11, 16),\n",
              "  (17, 19),\n",
              "  (20, 23),\n",
              "  (24, 29),\n",
              "  (30, 34),\n",
              "  (35, 39),\n",
              "  (40, 48),\n",
              "  (48, 49),\n",
              "  (0, 0),\n",
              "  (174, 180),\n",
              "  (181, 183),\n",
              "  (183, 184),\n",
              "  (185, 187),\n",
              "  (188, 189),\n",
              "  (190, 196),\n",
              "  (197, 203),\n",
              "  (204, 206),\n",
              "  (207, 213),\n",
              "  (214, 218),\n",
              "  (219, 223),\n",
              "  (224, 226),\n",
              "  (226, 229),\n",
              "  (229, 232),\n",
              "  (233, 237),\n",
              "  (238, 241),\n",
              "  (242, 248),\n",
              "  (249, 250),\n",
              "  (250, 251),\n",
              "  (251, 254),\n",
              "  (254, 256),\n",
              "  (257, 259),\n",
              "  (260, 262),\n",
              "  (263, 264),\n",
              "  (264, 265),\n",
              "  (265, 268),\n",
              "  (268, 269),\n",
              "  (269, 270),\n",
              "  (271, 275),\n",
              "  (276, 278),\n",
              "  (279, 282),\n",
              "  (283, 287),\n",
              "  (288, 296),\n",
              "  (297, 299),\n",
              "  (300, 303),\n",
              "  (304, 312),\n",
              "  (313, 315),\n",
              "  (316, 319),\n",
              "  (320, 326),\n",
              "  (327, 332),\n",
              "  (332, 333),\n",
              "  (334, 345),\n",
              "  (346, 352),\n",
              "  (353, 356),\n",
              "  (357, 358),\n",
              "  (358, 361),\n",
              "  (361, 365),\n",
              "  (366, 368),\n",
              "  (369, 372),\n",
              "  (373, 374),\n",
              "  (374, 377),\n",
              "  (377, 379),\n",
              "  (379, 380),\n",
              "  (381, 382),\n",
              "  (383, 389),\n",
              "  (390, 395),\n",
              "  (396, 398),\n",
              "  (399, 405),\n",
              "  (406, 409),\n",
              "  (410, 420),\n",
              "  (420, 421),\n",
              "  (422, 424),\n",
              "  (425, 427),\n",
              "  (428, 429),\n",
              "  (430, 437),\n",
              "  (438, 440),\n",
              "  (441, 444),\n",
              "  (445, 446),\n",
              "  (446, 449),\n",
              "  (449, 451),\n",
              "  (452, 454),\n",
              "  (455, 458),\n",
              "  (458, 462),\n",
              "  (462, 463),\n",
              "  (464, 470),\n",
              "  (471, 476),\n",
              "  (477, 480),\n",
              "  (481, 487),\n",
              "  (488, 492),\n",
              "  (493, 500),\n",
              "  (500, 502),\n",
              "  (503, 511),\n",
              "  (512, 514),\n",
              "  (515, 520),\n",
              "  (521, 525),\n",
              "  (525, 528),\n",
              "  (0, 0)],\n",
              " [(0, 0),\n",
              "  (0, 4),\n",
              "  (5, 7),\n",
              "  (8, 10),\n",
              "  (11, 16),\n",
              "  (17, 19),\n",
              "  (20, 23),\n",
              "  (24, 29),\n",
              "  (30, 34),\n",
              "  (35, 39),\n",
              "  (40, 48),\n",
              "  (48, 49),\n",
              "  (0, 0),\n",
              "  (313, 315),\n",
              "  (316, 319),\n",
              "  (320, 326),\n",
              "  (327, 332),\n",
              "  (332, 333),\n",
              "  (334, 345),\n",
              "  (346, 352),\n",
              "  (353, 356),\n",
              "  (357, 358),\n",
              "  (358, 361),\n",
              "  (361, 365),\n",
              "  (366, 368),\n",
              "  (369, 372),\n",
              "  (373, 374),\n",
              "  (374, 377),\n",
              "  (377, 379),\n",
              "  (379, 380),\n",
              "  (381, 382),\n",
              "  (383, 389),\n",
              "  (390, 395),\n",
              "  (396, 398),\n",
              "  (399, 405),\n",
              "  (406, 409),\n",
              "  (410, 420),\n",
              "  (420, 421),\n",
              "  (422, 424),\n",
              "  (425, 427),\n",
              "  (428, 429),\n",
              "  (430, 437),\n",
              "  (438, 440),\n",
              "  (441, 444),\n",
              "  (445, 446),\n",
              "  (446, 449),\n",
              "  (449, 451),\n",
              "  (452, 454),\n",
              "  (455, 458),\n",
              "  (458, 462),\n",
              "  (462, 463),\n",
              "  (464, 470),\n",
              "  (471, 476),\n",
              "  (477, 480),\n",
              "  (481, 487),\n",
              "  (488, 492),\n",
              "  (493, 500),\n",
              "  (500, 502),\n",
              "  (503, 511),\n",
              "  (512, 514),\n",
              "  (515, 520),\n",
              "  (521, 525),\n",
              "  (525, 528),\n",
              "  (528, 531),\n",
              "  (532, 534),\n",
              "  (534, 537),\n",
              "  (537, 541),\n",
              "  (542, 544),\n",
              "  (545, 549),\n",
              "  (549, 550),\n",
              "  (551, 553),\n",
              "  (554, 557),\n",
              "  (558, 561),\n",
              "  (562, 564),\n",
              "  (565, 568),\n",
              "  (569, 573),\n",
              "  (574, 579),\n",
              "  (580, 581),\n",
              "  (581, 584),\n",
              "  (585, 587),\n",
              "  (588, 589),\n",
              "  (590, 596),\n",
              "  (597, 601),\n",
              "  (602, 606),\n",
              "  (607, 615),\n",
              "  (616, 623),\n",
              "  (624, 625),\n",
              "  (626, 633),\n",
              "  (634, 637),\n",
              "  (638, 641),\n",
              "  (642, 646),\n",
              "  (647, 651),\n",
              "  (651, 652),\n",
              "  (652, 653),\n",
              "  (654, 656),\n",
              "  (657, 658),\n",
              "  (659, 665),\n",
              "  (665, 666),\n",
              "  (667, 673),\n",
              "  (0, 0)],\n",
              " [(0, 0),\n",
              "  (0, 4),\n",
              "  (5, 7),\n",
              "  (8, 10),\n",
              "  (11, 16),\n",
              "  (17, 19),\n",
              "  (20, 23),\n",
              "  (24, 29),\n",
              "  (30, 34),\n",
              "  (35, 39),\n",
              "  (40, 48),\n",
              "  (48, 49),\n",
              "  (0, 0),\n",
              "  (458, 462),\n",
              "  (462, 463),\n",
              "  (464, 470),\n",
              "  (471, 476),\n",
              "  (477, 480),\n",
              "  (481, 487),\n",
              "  (488, 492),\n",
              "  (493, 500),\n",
              "  (500, 502),\n",
              "  (503, 511),\n",
              "  (512, 514),\n",
              "  (515, 520),\n",
              "  (521, 525),\n",
              "  (525, 528),\n",
              "  (528, 531),\n",
              "  (532, 534),\n",
              "  (534, 537),\n",
              "  (537, 541),\n",
              "  (542, 544),\n",
              "  (545, 549),\n",
              "  (549, 550),\n",
              "  (551, 553),\n",
              "  (554, 557),\n",
              "  (558, 561),\n",
              "  (562, 564),\n",
              "  (565, 568),\n",
              "  (569, 573),\n",
              "  (574, 579),\n",
              "  (580, 581),\n",
              "  (581, 584),\n",
              "  (585, 587),\n",
              "  (588, 589),\n",
              "  (590, 596),\n",
              "  (597, 601),\n",
              "  (602, 606),\n",
              "  (607, 615),\n",
              "  (616, 623),\n",
              "  (624, 625),\n",
              "  (626, 633),\n",
              "  (634, 637),\n",
              "  (638, 641),\n",
              "  (642, 646),\n",
              "  (647, 651),\n",
              "  (651, 652),\n",
              "  (652, 653),\n",
              "  (654, 656),\n",
              "  (657, 658),\n",
              "  (659, 665),\n",
              "  (665, 666),\n",
              "  (667, 673),\n",
              "  (674, 679),\n",
              "  (680, 686),\n",
              "  (687, 689),\n",
              "  (690, 694),\n",
              "  (694, 695),\n",
              "  (0, 0)]]"
            ]
          },
          "metadata": {},
          "execution_count": 23
        }
      ]
    },
    {
      "cell_type": "markdown",
      "source": [
        "![image.png](data:image/png;base64,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)"
      ],
      "metadata": {
        "id": "7cAZD40FLxyE"
      }
    },
    {
      "cell_type": "code",
      "source": [
        "len(inputs['offset_mapping'])"
      ],
      "metadata": {
        "colab": {
          "base_uri": "https://localhost:8080/"
        },
        "id": "JRwo_A5GMSRd",
        "outputId": "b2f00e81-5b1f-44c3-871f-05e3c02ba2e1"
      },
      "execution_count": 24,
      "outputs": [
        {
          "output_type": "execute_result",
          "data": {
            "text/plain": [
              "4"
            ]
          },
          "metadata": {},
          "execution_count": 24
        }
      ]
    },
    {
      "cell_type": "code",
      "source": [
        "len(inputs['offset_mapping'][0])"
      ],
      "metadata": {
        "colab": {
          "base_uri": "https://localhost:8080/"
        },
        "id": "UKoKt44QM32q",
        "outputId": "03cf2f5b-0ddc-4700-8a50-5dabb76e19bf"
      },
      "execution_count": 25,
      "outputs": [
        {
          "output_type": "execute_result",
          "data": {
            "text/plain": [
              "100"
            ]
          },
          "metadata": {},
          "execution_count": 25
        }
      ]
    },
    {
      "cell_type": "code",
      "source": [
        "print(inputs.sequence_ids(0))"
      ],
      "metadata": {
        "colab": {
          "base_uri": "https://localhost:8080/"
        },
        "id": "XI5uK5VDM6bK",
        "outputId": "431ea7a1-311a-446f-e493-a9fa9e7d6340"
      },
      "execution_count": 26,
      "outputs": [
        {
          "output_type": "stream",
          "name": "stdout",
          "text": [
            "[None, 0, 0, 0, 0, 0, 0, 0, 0, 0, 0, 0, None, 1, 1, 1, 1, 1, 1, 1, 1, 1, 1, 1, 1, 1, 1, 1, 1, 1, 1, 1, 1, 1, 1, 1, 1, 1, 1, 1, 1, 1, 1, 1, 1, 1, 1, 1, 1, 1, 1, 1, 1, 1, 1, 1, 1, 1, 1, 1, 1, 1, 1, 1, 1, 1, 1, 1, 1, 1, 1, 1, 1, 1, 1, 1, 1, 1, 1, 1, 1, 1, 1, 1, 1, 1, 1, 1, 1, 1, 1, 1, 1, 1, 1, 1, 1, 1, 1, None]\n"
          ]
        }
      ]
    },
    {
      "cell_type": "markdown",
      "source": [
        "## Aligning the targets\n",
        "\n",
        "Answer in the dataset comes with a start position. After we split the context, the position no longer exist and is not valid\n",
        "- FOr some wnidows, the answer may not exist , or only exist in parts\n",
        "\n",
        "- Treat QA as a classification task- pick th correct timestep for the answer\n",
        "\n",
        "**Sequence IDs**\n",
        "\n",
        "- similar to token ids\n",
        "- None, 0, 1....\n",
        "\n",
        "**Where is the context?**\n",
        "\n",
        "- We need the index of the first 1 and index of the last 1\n",
        "\n",
        "**Finding the answer**\n",
        "- Suppose we have a context windowm how do we find the start/emnd character position of the answer\n",
        "\n",
        "- We have the context whindows, how do we find the answer\n",
        "- 2 things-\n",
        "--Offset mappings , context Start+ context end\n",
        "- Offset mapping is the list of tuples, containing the character positions of token start/ends\n",
        "\n",
        "\n",
        "We need to deal with 2 types of units-\n",
        "Indices of the tokens and indices of the charactrs. Neural Networks work with tokens\n",
        "Dataset gives answers in the character index"
      ],
      "metadata": {
        "id": "6nH-YRiaM_B5"
      }
    },
    {
      "cell_type": "code",
      "source": [
        "print(inputs.sequence_ids(0))"
      ],
      "metadata": {
        "colab": {
          "base_uri": "https://localhost:8080/"
        },
        "id": "QK876-RYDEDB",
        "outputId": "03f2350e-3037-41cf-9a82-fe6c5e23eb7d"
      },
      "execution_count": 28,
      "outputs": [
        {
          "output_type": "stream",
          "name": "stdout",
          "text": [
            "[None, 0, 0, 0, 0, 0, 0, 0, 0, 0, 0, 0, None, 1, 1, 1, 1, 1, 1, 1, 1, 1, 1, 1, 1, 1, 1, 1, 1, 1, 1, 1, 1, 1, 1, 1, 1, 1, 1, 1, 1, 1, 1, 1, 1, 1, 1, 1, 1, 1, 1, 1, 1, 1, 1, 1, 1, 1, 1, 1, 1, 1, 1, 1, 1, 1, 1, 1, 1, 1, 1, 1, 1, 1, 1, 1, 1, 1, 1, 1, 1, 1, 1, 1, 1, 1, 1, 1, 1, 1, 1, 1, 1, 1, 1, 1, 1, 1, 1, None]\n"
          ]
        }
      ]
    },
    {
      "cell_type": "code",
      "source": [
        "#Problem : the position of the answer will change in each window of the context\n",
        "# THe answer is also the target for the neural netwoek. We need to recompute the targets fo each context window\n",
        "\n",
        "answer=raw_datasets['train'][1]['answers']\n",
        "answer"
      ],
      "metadata": {
        "colab": {
          "base_uri": "https://localhost:8080/"
        },
        "id": "dActsaGSGFZb",
        "outputId": "6523f149-d55a-4466-f658-f275412cd87c"
      },
      "execution_count": 29,
      "outputs": [
        {
          "output_type": "execute_result",
          "data": {
            "text/plain": [
              "{'text': ['a copper statue of Christ'], 'answer_start': [188]}"
            ]
          },
          "metadata": {},
          "execution_count": 29
        }
      ]
    },
    {
      "cell_type": "code",
      "source": [
        "type(inputs.sequence_ids(0))"
      ],
      "metadata": {
        "colab": {
          "base_uri": "https://localhost:8080/"
        },
        "id": "6MXB9jLbGa-Y",
        "outputId": "208d703a-3985-4712-9554-567403258b13"
      },
      "execution_count": 30,
      "outputs": [
        {
          "output_type": "execute_result",
          "data": {
            "text/plain": [
              "list"
            ]
          },
          "metadata": {},
          "execution_count": 30
        }
      ]
    },
    {
      "cell_type": "code",
      "source": [
        "#Find the start and end of the context (first and last '1')\n",
        "sequence_ids= inputs.sequence_ids(0)\n",
        "\n",
        "ctx_start=sequence_ids.index(1) #First index of the first 1\n",
        "ctx_end=len(sequence_ids)- sequence_ids[::-1].index(1)-1 #Last occurance of 1\n",
        "\n",
        "ctx_start, ctx_end"
      ],
      "metadata": {
        "colab": {
          "base_uri": "https://localhost:8080/"
        },
        "id": "DUiMuoYCGi8I",
        "outputId": "d2d150c6-1810-4c07-f17c-35b5281daba1"
      },
      "execution_count": 31,
      "outputs": [
        {
          "output_type": "execute_result",
          "data": {
            "text/plain": [
              "(13, 98)"
            ]
          },
          "metadata": {},
          "execution_count": 31
        }
      ]
    },
    {
      "cell_type": "code",
      "source": [
        "#Check whether or not the answer is fully contained within the context\n",
        "#if not, target is (start, end)=(0,0)\n",
        "\n",
        "ans_start_char=answer['answer_start'][0]\n",
        "ans_end_char=ans_start_char+ len(answer['text'][0])\n",
        "\n",
        "offset= inputs['offset_mapping'][0]\n",
        "\n",
        "start_idx=0\n",
        "end_idx=0\n",
        "\n",
        "if offset[ctx_start][0]> ans_start_char or offset[ctx_end][1]<ans_end_char:\n",
        "  print(\"target is (0,0)\")\n",
        "  #Noting else tp do\n",
        "else:\n",
        "  #ind the start and end token positins\n",
        "  #The trick is knowing what is in units of tokens and what is in units of characters\n",
        "  #Recall: The offset mappings contains the character mappings of each token\n",
        "\n",
        "  i=ctx_start\n",
        "\n",
        "  for start_end_char in offset[ctx_start:]:\n",
        "    start, end= start_end_char\n",
        "    if start==ans_start_char:\n",
        "      start_idx=i\n",
        "    if end==ans_end_char:\n",
        "      end_idx=i\n",
        "      break\n",
        "\n",
        "    i+=1\n",
        "\n",
        "start_idx, end_idx\n"
      ],
      "metadata": {
        "colab": {
          "base_uri": "https://localhost:8080/"
        },
        "id": "TOeu5NF5G-ct",
        "outputId": "a6dfacb1-1600-42aa-e939-7dbdba130884"
      },
      "execution_count": 33,
      "outputs": [
        {
          "output_type": "execute_result",
          "data": {
            "text/plain": [
              "(53, 57)"
            ]
          },
          "metadata": {},
          "execution_count": 33
        }
      ]
    },
    {
      "cell_type": "code",
      "source": [
        "input_ids= inputs['input_ids'][0]\n",
        "input_ids[start_idx:end_idx+1]"
      ],
      "metadata": {
        "colab": {
          "base_uri": "https://localhost:8080/"
        },
        "id": "Zjqy5m8NHail",
        "outputId": "40810592-3d7e-4aa7-85ba-df6bbc1d695d"
      },
      "execution_count": 35,
      "outputs": [
        {
          "output_type": "execute_result",
          "data": {
            "text/plain": [
              "[170, 7335, 5921, 1104, 4028]"
            ]
          },
          "metadata": {},
          "execution_count": 35
        }
      ]
    },
    {
      "cell_type": "code",
      "source": [
        "tokenizer.decode(input_ids[start_idx:end_idx+1])"
      ],
      "metadata": {
        "colab": {
          "base_uri": "https://localhost:8080/",
          "height": 35
        },
        "id": "Xlsdy0_XKgtB",
        "outputId": "2f2a6014-7f7c-4b8d-a55a-a329188c4cf9"
      },
      "execution_count": 36,
      "outputs": [
        {
          "output_type": "execute_result",
          "data": {
            "text/plain": [
              "'a copper statue of Christ'"
            ],
            "application/vnd.google.colaboratory.intrinsic+json": {
              "type": "string"
            }
          },
          "metadata": {},
          "execution_count": 36
        }
      ]
    },
    {
      "cell_type": "code",
      "source": [
        "def find_answer_token_idx(\n",
        "    ctx_start,\n",
        "    ctx_end,\n",
        "    ans_ctart_char,\n",
        "    ans_end_char,\n",
        "    offset\n",
        "):\n",
        "\n",
        "  start_idx=0\n",
        "  end_idx=0\n",
        "\n",
        "  if offset[ctx_start][0]> ans_start_char or offset[ctx_end][1]<ans_end_char:\n",
        "    pass\n",
        "    #print(\"target is (0,0)\")\n",
        "    #Noting else tp do\n",
        "  else:\n",
        "    #ind the start and end token positins\n",
        "    #The trick is knowing what is in units of tokens and what is in units of characters\n",
        "    #Recall: The offset mappings contains the character mappings of each token\n",
        "\n",
        "    i=ctx_start\n",
        "\n",
        "    for start_end_char in offset[ctx_start:]:\n",
        "      start, end= start_end_char\n",
        "      if start==ans_start_char:\n",
        "        start_idx=i\n",
        "      if end==ans_end_char:\n",
        "        end_idx=i\n",
        "        break\n",
        "\n",
        "      i+=1\n",
        "\n",
        "  return start_idx, end_idx"
      ],
      "metadata": {
        "id": "z33wiRhGK3Xr"
      },
      "execution_count": 37,
      "outputs": []
    },
    {
      "cell_type": "code",
      "source": [
        "start_idxs=[]\n",
        "end_idxs=[]\n",
        "\n",
        "for i, offset in enumerate(inputs['offset_mapping']):\n",
        "\n",
        "  sequence_ids=inputs.sequence_ids(i)\n",
        "\n",
        "  ctx_start=sequence_ids.index(1)\n",
        "  ctx_end=len(sequence_ids)-sequence_ids[::-1].index(1)-1\n",
        "\n",
        "  start_idx, end_idx= find_answer_token_idx(\n",
        "      ctx_start,\n",
        "      ctx_end,\n",
        "      ans_start_char,\n",
        "      ans_end_char,\n",
        "      offset\n",
        "  )\n",
        "\n",
        "  start_idxs.append(start_idx)\n",
        "  end_idxs.append(end_idx)\n",
        "start_idxs, end_idxs"
      ],
      "metadata": {
        "colab": {
          "base_uri": "https://localhost:8080/"
        },
        "id": "MxWqGzgwLafd",
        "outputId": "cebd58ad-1874-456a-d4cd-c91cf28cabf6"
      },
      "execution_count": 40,
      "outputs": [
        {
          "output_type": "stream",
          "name": "stdout",
          "text": [
            "target is (0,0)\n",
            "target is (0,0)\n"
          ]
        },
        {
          "output_type": "execute_result",
          "data": {
            "text/plain": [
              "([53, 17, 0, 0], [57, 21, 0, 0])"
            ]
          },
          "metadata": {},
          "execution_count": 40
        }
      ]
    },
    {
      "cell_type": "code",
      "source": [],
      "metadata": {
        "id": "cwwe3TrlMaxj"
      },
      "execution_count": null,
      "outputs": []
    }
  ]
}