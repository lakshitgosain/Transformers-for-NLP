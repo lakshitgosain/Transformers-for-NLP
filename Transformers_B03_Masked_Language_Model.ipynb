{
  "nbformat": 4,
  "nbformat_minor": 0,
  "metadata": {
    "colab": {
      "provenance": [],
      "authorship_tag": "ABX9TyO3mBLbXnxuplOs+3y+ypP3",
      "include_colab_link": true
    },
    "kernelspec": {
      "name": "python3",
      "display_name": "Python 3"
    },
    "language_info": {
      "name": "python"
    }
  },
  "cells": [
    {
      "cell_type": "markdown",
      "metadata": {
        "id": "view-in-github",
        "colab_type": "text"
      },
      "source": [
        "<a href=\"https://colab.research.google.com/github/lakshitgosain/Transformers-for-NLP/blob/main/Transformers_B03_Masked_Language_Model.ipynb\" target=\"_parent\"><img src=\"https://colab.research.google.com/assets/colab-badge.svg\" alt=\"Open In Colab\"/></a>"
      ]
    },
    {
      "cell_type": "markdown",
      "source": [
        "# Article Spinner\n",
        "Change enough words (while keeping the article coherent) such that it doesn't match the original"
      ],
      "metadata": {
        "id": "t3EUa0-w629p"
      }
    },
    {
      "cell_type": "markdown",
      "source": [
        "### Uses BERT- bidirectional Encoder representation from Transformers"
      ],
      "metadata": {
        "id": "tRIZP4cCWU1U"
      }
    },
    {
      "cell_type": "code",
      "source": [],
      "metadata": {
        "id": "EVkrFGRrWtAG"
      },
      "execution_count": null,
      "outputs": []
    }
  ]
}