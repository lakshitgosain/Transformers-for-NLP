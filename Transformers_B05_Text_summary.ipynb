{
  "nbformat": 4,
  "nbformat_minor": 0,
  "metadata": {
    "colab": {
      "provenance": [],
      "authorship_tag": "ABX9TyMWgIZcpPUxjnW3Nc1Ao3oi",
      "include_colab_link": true
    },
    "kernelspec": {
      "name": "python3",
      "display_name": "Python 3"
    },
    "language_info": {
      "name": "python"
    }
  },
  "cells": [
    {
      "cell_type": "markdown",
      "metadata": {
        "id": "view-in-github",
        "colab_type": "text"
      },
      "source": [
        "<a href=\"https://colab.research.google.com/github/lakshitgosain/Transformers-for-NLP/blob/main/Transformers_B05_Text_summary.ipynb\" target=\"_parent\"><img src=\"https://colab.research.google.com/assets/colab-badge.svg\" alt=\"Open In Colab\"/></a>"
      ]
    },
    {
      "cell_type": "code",
      "execution_count": 2,
      "metadata": {
        "id": "u1QpYhHn89J9"
      },
      "outputs": [],
      "source": [
        "# Text Summary"
      ]
    },
    {
      "cell_type": "markdown",
      "source": [
        "Extractive\n",
        "* Summaries consist of text taken from the original document\n",
        "* Easier- just find the relevant text\n",
        "\n",
        "Abstractive\n",
        "* Sumaries can contain novel sequences of text not necessarily from the input\n",
        "* Comparitively harder- need to generate text\n",
        "\n",
        "We will cover abstractive summary, using seq2seq"
      ],
      "metadata": {
        "id": "spmxlku1FCqn"
      }
    },
    {
      "cell_type": "code",
      "source": [],
      "metadata": {
        "id": "2jBsUbPfFXUk"
      },
      "execution_count": null,
      "outputs": []
    }
  ]
}